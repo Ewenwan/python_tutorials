{
 "cells": [
  {
   "cell_type": "markdown",
   "metadata": {},
   "source": [
    "### 并发编程三种实现方法:\n",
    "- 多线程\n",
    "- 多进程\n",
    "- 协程(生成器)\n",
    "\n",
    "### 并发编程基本概念\n",
    "- 串行：一个人在同一时间段只能干一件事，譬如吃完饭才能看电视\n",
    "- 并行：一个人在同一时间段可以干多件事，譬如可以边吃饭边看电视\n",
    "- 目的: 多线程和协程可以帮我们内部合理调度任务，使得程序效率最大化\n",
    "### 对比四种类型的场景下的多线程与多进程的运行时间\n",
    "- CPU计算密集型\n",
    "- 磁盘读写IO密集型\n",
    "- 网络IO密集型\n",
    "- 模拟IO密集型"
   ]
  },
  {
   "cell_type": "code",
   "execution_count": 17,
   "metadata": {
    "collapsed": true
   },
   "outputs": [],
   "source": [
    "import requests\n",
    "\n",
    "# cpu计算密集型\n",
    "def count(x=1, y=1):\n",
    "    c = 0\n",
    "    while c < 500000:\n",
    "        c += 1\n",
    "        x += x\n",
    "        y += y\n",
    "\n",
    "# 磁盘读写IO密集型\n",
    "def io_disk():\n",
    "    with open(\"file11.txt\", 'w') as f:\n",
    "        for x in range(500000):\n",
    "            f.write('python-learnig' + \"\\n\")\n",
    "\n",
    "            \n",
    "# 网络IO密集型\n",
    "url = \"https://www.baidu.com/\"\n",
    "def io_web():\n",
    "    try:\n",
    "        req = requests.get(url)\n",
    "        html = req.text\n",
    "        return html\n",
    "    except Exception as e:\n",
    "        print('error:', e)\n",
    "\n",
    "# 模拟IO密集型\n",
    "def io_simulation():\n",
    "    time.sleep(2)"
   ]
  },
  {
   "cell_type": "markdown",
   "metadata": {},
   "source": [
    "<hr>"
   ]
  },
  {
   "cell_type": "code",
   "execution_count": 18,
   "metadata": {
    "collapsed": true
   },
   "outputs": [],
   "source": [
    "import time\n",
    "# 为对比单线程与多线程的时间,写一个装饰器\n",
    "def timer(mode):\n",
    "    def wrapper(func):\n",
    "        def deco(*args, **kw):\n",
    "            type = kw.setdefault('type', None)\n",
    "            t1 = time.time()\n",
    "            func(*args, **kw)\n",
    "            t2 = time.time()\n",
    "            cost_time = t2 - t1\n",
    "            print(\"{}-{}花费的时间:{}秒\".format(mode, type, cost_time))\n",
    "        return deco\n",
    "    return wrapper"
   ]
  },
  {
   "cell_type": "markdown",
   "metadata": {},
   "source": [
    "<hr>"
   ]
  },
  {
   "cell_type": "code",
   "execution_count": null,
   "metadata": {},
   "outputs": [],
   "source": [
    "# 单线程\n",
    "@timer(\"[单线程]\")\n",
    "def single_thread(func, type=\"\"):\n",
    "    for i in range(10):\n",
    "        func()\n",
    "\n",
    "        \n",
    "single_thread(count, type=\"CPU计算密集型\")\n",
    "single_thread(io_disk, type=\"磁盘IO密集型\")\n",
    "single_thread(io_web, type=\"网络IO密集型\")\n",
    "single_thread(io_simulation, type=\"模拟IO密集型\")"
   ]
  },
  {
   "cell_type": "markdown",
   "metadata": {},
   "source": [
    "<hr>"
   ]
  },
  {
   "cell_type": "code",
   "execution_count": null,
   "metadata": {},
   "outputs": [
    {
     "name": "stdout",
     "output_type": "stream",
     "text": [
      "[多线程]-CPU计算密集型花费的时间:204.07741975784302秒\n",
      "[多线程]-磁盘IO密集型花费的时间:8.720871925354004秒\n",
      "error: request() got an unexpected keyword argument 'hearders'\n",
      "error: error:error: request() got an unexpected keyword argument 'hearders'request() got an unexpected keyword argument 'hearders' \n",
      "\n",
      "request() got an unexpected keyword argument 'hearders'error:error:error:error:error:error:[多线程]-网络IO密集型花费的时间:0.027178525924682617秒\n",
      " \n",
      "     request() got an unexpected keyword argument 'hearders'request() got an unexpected keyword argument 'hearders'request() got an unexpected keyword argument 'hearders'request() got an unexpected keyword argument 'hearders'request() got an unexpected keyword argument 'hearders'request() got an unexpected keyword argument 'hearders'\n",
      "\n",
      "\n",
      "\n",
      "\n",
      "\n",
      "[多线程]-模拟IO密集型花费的时间:2.00661563873291秒\n"
     ]
    }
   ],
   "source": [
    "# 多线程\n",
    "from threading import Thread\n",
    "@timer(\"[多线程]\")\n",
    "def multi_thread(func, type=\"\"):\n",
    "    thread_list = []\n",
    "    for i in range(10):\n",
    "        t=Thread(target=func, args=())\n",
    "        thread_list.append(t)\n",
    "        t.start()\n",
    "    e = len(thread_list)\n",
    "\n",
    "    while True:\n",
    "        for th in thread_list:\n",
    "            if not th.is_alive():\n",
    "                e -= 1\n",
    "        if e <= 0:\n",
    "            break\n",
    "\n",
    "# 多线程\n",
    "multi_thread(count, type=\"CPU计算密集型\")\n",
    "multi_thread(io_disk, type=\"磁盘IO密集型\")\n",
    "multi_thread(io_web, type=\"网络IO密集型\")\n",
    "multi_thread(io_simulation, type=\"模拟IO密集型\")"
   ]
  },
  {
   "cell_type": "markdown",
   "metadata": {},
   "source": [
    "<hr`>"
   ]
  },
  {
   "cell_type": "code",
   "execution_count": null,
   "metadata": {},
   "outputs": [],
   "source": [
    "from multiprocessing import Process\n",
    "# 多进程\n",
    "@timer(\"[多进程]\")\n",
    "def multi_process(func, type=\"\"):\n",
    "    process_list = []\n",
    "    for x in range(10):\n",
    "        p = Process(target=func, args=())\n",
    "        process_list.append(p)\n",
    "        p.start()\n",
    "    e = process_list.__len__()\n",
    "\n",
    "    while True:\n",
    "        for pr in process_list:\n",
    "            if not pr.is_alive():\n",
    "                e -= 1\n",
    "        if e <= 0:\n",
    "            break\n",
    "\n",
    "# 多进程\n",
    "multi_process(count, type=\"CPU计算密集型\")\n",
    "multi_process(io_disk, type=\"磁盘IO密集型\")\n",
    "multi_process(io_web, type=\"网络IO密集型\")\n",
    "multi_process(io_simulation, type=\"模拟IO密集型\")"
   ]
  },
  {
   "cell_type": "markdown",
   "metadata": {},
   "source": [
    "<hr>"
   ]
  },
  {
   "cell_type": "markdown",
   "metadata": {},
   "source": [
    "### 总结\n",
    "- 单线程总是最慢的，多进程总是最快的。 \n",
    "- 多线程适合在IO密集场景下使用，譬如爬虫，网站开发等 \n",
    "- 多进程适合在对CPU计算运算要求较高的场景下使用，譬如大数据分析，机器学习等 \n",
    "- 多进程虽然总是最快的，但是不一定是最优的选择，因为它需要CPU资源支持下才能体现优势\n",
    "\n",
    "\n",
    "\n"
   ]
  },
  {
   "cell_type": "code",
   "execution_count": null,
   "metadata": {
    "collapsed": true
   },
   "outputs": [],
   "source": [
    "import torch"
   ]
  },
  {
   "cell_type": "code",
   "execution_count": null,
   "metadata": {
    "collapsed": true
   },
   "outputs": [],
   "source": []
  }
 ],
 "metadata": {
  "kernelspec": {
   "display_name": "Python 3",
   "language": "python",
   "name": "python3"
  },
  "language_info": {
   "codemirror_mode": {
    "name": "ipython",
    "version": 3
   },
   "file_extension": ".py",
   "mimetype": "text/x-python",
   "name": "python",
   "nbconvert_exporter": "python",
   "pygments_lexer": "ipython3",
   "version": "3.5.4"
  }
 },
 "nbformat": 4,
 "nbformat_minor": 2
}
