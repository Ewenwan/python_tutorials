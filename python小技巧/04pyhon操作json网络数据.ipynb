{
 "cells": [
  {
   "cell_type": "markdown",
   "metadata": {},
   "source": [
    "### JSON是什么?\n",
    "- JSON的全称是 JavaScript Object Notation，是一种轻量级的数据交换格式。最初，JSON 只是 JavaScript 的子集，但由于其简单易用而迅速走红。\n",
    "- 现今大部分编程语言都支持对JSON的解析与生成，而近些年异军突起的NoSQL数据库也多参照JSON来设计数据存储格式，例如Mongodb的BSON（Binary JSON）。\n",
    "- JSON有以下六种数据类型：number、boolean、string、null、array、object。前三种很好理解，第四个null对应Python的None，最后两种，对应Python的列表和字典。\n",
    "- 典型的JSON格式:\n",
    "```json\n",
    "{\n",
    "  \"name\": \"小明\",\n",
    "  \"age\": 14,\n",
    "  \"gender\": true,\n",
    "  \"grade\": null,\n",
    "  \"skills\": [\n",
    "    \"JavaScript\",\n",
    "    \"Java\",\n",
    "    \"Python\"\n",
    "  ]\n",
    "}\n",
    "```"
   ]
  },
  {
   "cell_type": "markdown",
   "metadata": {},
   "source": [
    "### JSON与XML的优劣差异\n",
    "- 在JSON出现之前，人们用XML在网络上交换数据，在JSON出现后，它基本上就取代了XML的位置。两者的共同之处显而易见，它们都是结构化的语言，都可以用于网络数据的交换。\n",
    "- XML是W3C（万维网联盟）发布的可扩展标记语言（Extensible Markup Language），最初设计来弥补HTML的不足，以强大的扩展性满足网络信息发布的需要，与它“同级”的有：XHTML\\CSS\\ECMAScript等。它包含DTD、XSD、XPath、XSL等一大堆复杂的规范，在数据存储、扩展及高级检索等方面都有作用。后来被用于网络数据交换，颇有点大材小用的意思，虽然可胜任，却也有点复杂和冗余。\n",
    "- JSON是ECMAScript标准的子集，设计之初就是为了克服XML在数据交换上的劣势，所以一方面，它像XML一样具有简洁而清晰的层次结构，另一方面，它比XML小巧精致，更加适用于网络数据的传输。\n",
    "- JSON也不是没有缺点，当结构层级很多的时候，它会让人陷入繁琐复杂的数据节点查找中，在可读性上要比XML差。"
   ]
  },
  {
   "cell_type": "markdown",
   "metadata": {},
   "source": [
    "### 将Python对象编码成JSON字符串---------序列化\n",
    "- 将python的对象转化为JSON字符串，这个过程也称为序列化，与之相对，将JSON字符串转化为python对象，这个过程被称为反序列化。\n",
    "- 序列化格式如下，json.dumps()把python对象序列化，json.dump() 先序列化，然后将内容存入文件\n",
    "    - json.dumps(obj,* , skipkeys=False, ensure_ascii=True, check_circular=True, allow_nan=True, cls=None, indent=None, separators=None, default=None, sort_keys=False, **kw)\n",
    "    - json.dump(obj, fp, , skipkeys=False, ensure_ascii=True, check_circular=True, allow_nan=True, cls=None, indent=None, separators=None, default=None, sort_keys=False,*kw)\n",
    "    \n",
    "    - 参数说明:\n",
    "        - ensure_ascii=True,设置是否编码为ASCII，默认是，若False，则使用原编码码格式\n",
    "        - indent=None 设置打印时缩进，默认不缩进\n",
    "        - separators=None 设置分隔符，取值是(item_separator, dict_separator)元组，默认为(‘,’,’:’)，这表示keys之间用“,”隔开，而key和value之间用“:”隔开\n",
    "        - sort_keys=False 设置按key值排序，默认不排序\n"
   ]
  },
  {
   "cell_type": "code",
   "execution_count": 3,
   "metadata": {},
   "outputs": [
    {
     "name": "stdout",
     "output_type": "stream",
     "text": [
      "{'age': 30, 'score': 190, 'name': 'curry'}\n",
      "{\"age\": 30, \"score\": 190, \"name\": \"curry\"}\n"
     ]
    }
   ],
   "source": [
    "import json\n",
    "\n",
    "\n",
    "d = dict(name='curry', age=30, score=190)\n",
    "print(d)\n",
    "print(json.dumps(d))"
   ]
  },
  {
   "cell_type": "code",
   "execution_count": 4,
   "metadata": {},
   "outputs": [],
   "source": [
    "with open('demo.json', 'w') as f:\n",
    "    json.dump(d,f)    "
   ]
  },
  {
   "cell_type": "code",
   "execution_count": 5,
   "metadata": {},
   "outputs": [
    {
     "name": "stdout",
     "output_type": "stream",
     "text": [
      "{'age': 30, 'score': 99, 'name': 'hello世界'}\n",
      "{\"age\": 30, \"score\": 99, \"name\": \"hello\\u4e16\\u754c\"}\n"
     ]
    }
   ],
   "source": [
    "d = dict(name='hello世界', age=30, score=99)\n",
    "print(d)\n",
    "print(json.dumps(d))"
   ]
  },
  {
   "cell_type": "code",
   "execution_count": 7,
   "metadata": {},
   "outputs": [
    {
     "name": "stdout",
     "output_type": "stream",
     "text": [
      "{\n",
      "    \"age\": 30,\n",
      "    \"name\": \"hello世界\",\n",
      "    \"score\": 99\n",
      "}\n"
     ]
    }
   ],
   "source": [
    "print(json.dumps(d, ensure_ascii=False, indent=4, sort_keys=True))"
   ]
  },
  {
   "cell_type": "code",
   "execution_count": 8,
   "metadata": {},
   "outputs": [
    {
     "data": {
      "text/plain": [
       "'{\\n    \"age\": 30,\\n    \"name\": \"hello世界\",\\n    \"score\": 99\\n}'"
      ]
     },
     "execution_count": 8,
     "metadata": {},
     "output_type": "execute_result"
    }
   ],
   "source": [
    "json.dumps(d, ensure_ascii=False, indent=4, sort_keys=True)"
   ]
  },
  {
   "cell_type": "markdown",
   "metadata": {},
   "source": [
    "### 将JSON字符串解码为python对象------反序列化\n",
    "- 反序列化格式如下，json.loads()从内存中读取内容解析，json.load() 从文件中读取内容\n",
    "- 函数说明:\n",
    "    - json.loads(s, **, encoding=None, cls=None, object_hook=None, parse_float=None, parse_int=None, parse_constant=None, object_pairs_hook=None, ***kw)\n",
    "    - json.load(fp, **, cls=None, object_hook=None, parse_float=None, parse_int=None, parse_constant=None, object_pairs_hook=None, ***kw)\n"
   ]
  },
  {
   "cell_type": "code",
   "execution_count": 20,
   "metadata": {},
   "outputs": [
    {
     "name": "stdout",
     "output_type": "stream",
     "text": [
      "{'age': 30, 'score': 190, 'name': '库里'}\n"
     ]
    }
   ],
   "source": [
    "import json\n",
    "\n",
    "d = dict(name='库里', age=30, score=190)\n",
    "print(d)"
   ]
  },
  {
   "cell_type": "code",
   "execution_count": 21,
   "metadata": {},
   "outputs": [
    {
     "name": "stdout",
     "output_type": "stream",
     "text": [
      "{\"age\": 30, \"score\": 190, \"name\": \"库里\"}\n"
     ]
    }
   ],
   "source": [
    "json_d = json.dumps(d, ensure_ascii=False)\n",
    "print(json.dumps(d, ensure_ascii=False))"
   ]
  },
  {
   "cell_type": "code",
   "execution_count": 22,
   "metadata": {},
   "outputs": [],
   "source": [
    "with open('test.json', 'w') as f:\n",
    "    json.dump(d, f, ensure_ascii=False)"
   ]
  },
  {
   "cell_type": "code",
   "execution_count": 23,
   "metadata": {},
   "outputs": [
    {
     "data": {
      "text/plain": [
       "{'age': 30, 'name': '库里', 'score': 190}"
      ]
     },
     "execution_count": 23,
     "metadata": {},
     "output_type": "execute_result"
    }
   ],
   "source": [
    "json.loads(json_d)"
   ]
  },
  {
   "cell_type": "code",
   "execution_count": 28,
   "metadata": {},
   "outputs": [
    {
     "name": "stdout",
     "output_type": "stream",
     "text": [
      "{'age': 30, 'score': 190, 'name': '库里'}\n"
     ]
    }
   ],
   "source": [
    "with open('test.json', 'r') as f:\n",
    "    print(json.load(f, encoding='utf-8'))"
   ]
  },
  {
   "cell_type": "code",
   "execution_count": null,
   "metadata": {},
   "outputs": [],
   "source": []
  }
 ],
 "metadata": {
  "kernelspec": {
   "display_name": "Python 3",
   "language": "python",
   "name": "python3"
  },
  "language_info": {
   "codemirror_mode": {
    "name": "ipython",
    "version": 3
   },
   "file_extension": ".py",
   "mimetype": "text/x-python",
   "name": "python",
   "nbconvert_exporter": "python",
   "pygments_lexer": "ipython3",
   "version": "3.5.6"
  }
 },
 "nbformat": 4,
 "nbformat_minor": 2
}
