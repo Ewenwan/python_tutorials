{
 "cells": [
  {
   "cell_type": "code",
   "execution_count": 5,
   "metadata": {},
   "outputs": [
    {
     "data": {
      "text/plain": [
       "[1, 2, 3, 4, 5, 6]"
      ]
     },
     "execution_count": 5,
     "metadata": {},
     "output_type": "execute_result"
    }
   ],
   "source": [
    "alist = [1, 1, 1, 1, 2, 3, 4, 4, 4, 4, 5, 6, 1, 2, 2]\n",
    "\n",
    "\n",
    "# 列表生成式\n",
    "blist = []\n",
    "clist = [blist.append(i) for i in alist if not i in blist]\n",
    "blist"
   ]
  },
  {
   "cell_type": "code",
   "execution_count": 8,
   "metadata": {},
   "outputs": [
    {
     "data": {
      "text/plain": [
       "[1, 2, 3, 4, 5, 6]"
      ]
     },
     "execution_count": 8,
     "metadata": {},
     "output_type": "execute_result"
    }
   ],
   "source": [
    "# 使用函数写法\n",
    "def loop1(alist):\n",
    "    blist = []\n",
    "    for i in alist:\n",
    "        if not i in blist:\n",
    "            blist.append(i)\n",
    "    return blist\n",
    "\n",
    "\n",
    "alist = [1, 1, 1, 1, 2, 3, 4, 4, 4, 4, 5, 6, 1, 2, 2]\n",
    "loop1(alist)"
   ]
  },
  {
   "cell_type": "code",
   "execution_count": 10,
   "metadata": {},
   "outputs": [
    {
     "name": "stdout",
     "output_type": "stream",
     "text": [
      "[1, 2, 3, 4, 5, 6]\n"
     ]
    }
   ],
   "source": [
    "# 使用set去重,sorted排序\n",
    "\n",
    "dlist = list(sorted(set(alist), key=alist.index))\n",
    "print(dlist)"
   ]
  },
  {
   "cell_type": "code",
   "execution_count": 13,
   "metadata": {},
   "outputs": [
    {
     "name": "stdout",
     "output_type": "stream",
     "text": [
      "<built-in method index of list object at 0x7f92fb91e608>\n"
     ]
    }
   ],
   "source": [
    "print(alist.index)"
   ]
  },
  {
   "cell_type": "code",
   "execution_count": null,
   "metadata": {},
   "outputs": [],
   "source": []
  }
 ],
 "metadata": {
  "kernelspec": {
   "display_name": "Python 3",
   "language": "python",
   "name": "python3"
  },
  "language_info": {
   "codemirror_mode": {
    "name": "ipython",
    "version": 3
   },
   "file_extension": ".py",
   "mimetype": "text/x-python",
   "name": "python",
   "nbconvert_exporter": "python",
   "pygments_lexer": "ipython3",
   "version": "3.5.6"
  }
 },
 "nbformat": 4,
 "nbformat_minor": 2
}
