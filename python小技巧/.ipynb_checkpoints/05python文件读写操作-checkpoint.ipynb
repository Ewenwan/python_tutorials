{
 "cells": [
  {
   "cell_type": "markdown",
   "metadata": {},
   "source": [
    "### 如何将列表数据写入文件？"
   ]
  },
  {
   "cell_type": "code",
   "execution_count": 2,
   "metadata": {},
   "outputs": [
    {
     "ename": "TypeError",
     "evalue": "write() argument must be str, not list",
     "output_type": "error",
     "traceback": [
      "\u001b[0;31m---------------------------------------------------------------------------\u001b[0m",
      "\u001b[0;31mTypeError\u001b[0m                                 Traceback (most recent call last)",
      "\u001b[0;32m<ipython-input-2-04aceefbb087>\u001b[0m in \u001b[0;36m<module>\u001b[0;34m()\u001b[0m\n\u001b[1;32m      1\u001b[0m \u001b[0mli\u001b[0m \u001b[0;34m=\u001b[0m \u001b[0;34m[\u001b[0m\u001b[0;34m'haha'\u001b[0m\u001b[0;34m,\u001b[0m \u001b[0;36m1\u001b[0m\u001b[0;34m,\u001b[0m \u001b[0;36m2\u001b[0m\u001b[0;34m,\u001b[0m \u001b[0;36m4\u001b[0m\u001b[0;34m,\u001b[0m \u001b[0;36m3.29\u001b[0m\u001b[0;34m]\u001b[0m\u001b[0;34m\u001b[0m\u001b[0m\n\u001b[1;32m      2\u001b[0m \u001b[0;32mwith\u001b[0m \u001b[0mopen\u001b[0m\u001b[0;34m(\u001b[0m\u001b[0;34m'test.txt'\u001b[0m\u001b[0;34m,\u001b[0m \u001b[0;34m'w'\u001b[0m\u001b[0;34m)\u001b[0m \u001b[0;32mas\u001b[0m \u001b[0mf\u001b[0m\u001b[0;34m:\u001b[0m\u001b[0;34m\u001b[0m\u001b[0m\n\u001b[0;32m----> 3\u001b[0;31m     \u001b[0mf\u001b[0m\u001b[0;34m.\u001b[0m\u001b[0mwrite\u001b[0m\u001b[0;34m(\u001b[0m\u001b[0mli\u001b[0m\u001b[0;34m)\u001b[0m\u001b[0;34m\u001b[0m\u001b[0m\n\u001b[0m",
      "\u001b[0;31mTypeError\u001b[0m: write() argument must be str, not list"
     ]
    }
   ],
   "source": [
    "li = ['haha', 1, 2, 4, 3.29]\n",
    "with open('test.txt', 'w') as f:\n",
    "    f.write(li)"
   ]
  },
  {
   "cell_type": "code",
   "execution_count": 3,
   "metadata": {},
   "outputs": [],
   "source": [
    "# 上面的代码出错,由于write()方法必须接受字符串类型的数据\n",
    "li = ['haha', 1, 2, 4, 3.29]\n",
    "with open('test.txt', 'w') as f:\n",
    "    f.write(str(li))"
   ]
  },
  {
   "cell_type": "markdown",
   "metadata": {},
   "source": [
    "#### 写入的内容是['haha', 1, 2, 4, 3.29],如何转化为 \"haha 1 2 4 3.29\"的纯字符串呢?\n",
    "#### 解决方法:\n",
    "- 文件写操作还有一个writelines()方法，它接收的参数是由字符串组成的序列（sequence），实际写入的效果是将全部字符串拼接在一起。字符串本身也是一种序列，所以当参数是字符串的时候，writelines()方法等价于write()"
   ]
  },
  {
   "cell_type": "code",
   "execution_count": 50,
   "metadata": {},
   "outputs": [
    {
     "data": {
      "text/plain": [
       "\"\\nwith open('dana.txt', 'w') as f:\\n    f.write(['python', 'is', 'a', 'cat'])  # 非字符串\\n    f.writelines([2018, 'is', 'a', 'cat'])  # 含非字符串\\n\""
      ]
     },
     "execution_count": 50,
     "metadata": {},
     "output_type": "execute_result"
    }
   ],
   "source": [
    "li = ['haha', 1, 2, 4, 3.29]\n",
    "with open('test1.txt', 'w') as f:\n",
    "    f.writelines(str(li))\n",
    "#     以下3种写法等价，都是写入字符串“python is a cat”\n",
    "    f.writelines(['python', ' is', ' a', ' cat ', '\\n'])\n",
    "    f.writelines('python is a cat ' + \"\\n\")   # 接收的是字符串时,writelines()方法与write()相同\n",
    "    f.write('python is a cat' + \"\\n\")\n",
    "    f.write('库里是个小学生')\n",
    "\n",
    "# 下面的方法写入列表的字符串版本['I', 'am', 'curry']\n",
    "with open('demo.txt', 'w') as f:\n",
    "    f.write(str(['I', 'am', 'curry']) + \"\\n\")\n",
    "    f.writelines(str(['I', 'am', 'curry']) + \"\\n\")\n",
    "\n",
    "# 下面的方法都是错误的\n",
    "'''\n",
    "with open('dana.txt', 'w') as f:\n",
    "    f.write(['python', 'is', 'a', 'cat'])  # 非字符串\n",
    "    f.writelines([2018, 'is', 'a', 'cat'])  # 含非字符串\n",
    "'''"
   ]
  },
  {
   "cell_type": "markdown",
   "metadata": {},
   "source": [
    "### 总结:\n",
    "- 当多段分散的字符串存在于列表中的时候，要用writelines()方法\n",
    "- 如果字符串是一整段，那直接使用write()方法\n",
    "- 如果要以整个列表的形式写入文件，就使用str()方法做下转化\n",
    "- 如果列表中有元素不是字符串，而且要把全部元素取出来，怎么办呢？\n",
    "    - 不能直接使用write()和writelines()了，需要先用for循环，把每个元素取出来，逐一str()处理\n",
    "- write()接收字符串参数，适用于一次性将全部内容写入文件；writelines()接收参数是由字符串组成的序列，适用于将列表内容逐行写入文件。str()返回Python对象的字符串版本，使用需注意"
   ]
  },
  {
   "cell_type": "code",
   "execution_count": 48,
   "metadata": {},
   "outputs": [
    {
     "data": {
      "text/plain": [
       "{'age': 30, 'name': '库里', 'score': 99}"
      ]
     },
     "execution_count": 48,
     "metadata": {},
     "output_type": "execute_result"
    }
   ],
   "source": [
    "dict_2 = dict_1 = dict(name='库里', age=30, score=99)\n",
    "dict_1"
   ]
  },
  {
   "cell_type": "code",
   "execution_count": 49,
   "metadata": {},
   "outputs": [],
   "source": [
    "with open('dict.txt', 'w') as f:\n",
    "    f.write(str(dict_1) + \"\\n\")\n",
    "    f.write(str(dict_2) + \"\\n\")"
   ]
  },
  {
   "cell_type": "markdown",
   "metadata": {},
   "source": [
    "### 如何从文件中读取内容？\n",
    "- 主要方法:\n",
    "    - file.read([size]) 从文件读取指定的字节数，如果未给定或为负则读取所有。\n",
    "    - file.readline([size]) 读取整行，包括 \"\\n\" 字符。\n",
    "    - file.readlines([sizeint]) 读取所有行并返回列表，若给定sizeint>0，则是设置一次读多少字节，这是为了减轻读取压力。\n",
    "- 总结:\n",
    "    - 简而言之，在不传参数的情况下，read()对应write()，读取全部内容；readlines()对应writelines()，读取全部内容（含换行符）并以列表形式返回，每个换行的内容作为列表的一个元素。"
   ]
  },
  {
   "cell_type": "code",
   "execution_count": 40,
   "metadata": {},
   "outputs": [
    {
     "name": "stdout",
     "output_type": "stream",
     "text": [
      "['haha', 1, 2, 4, 3.29]python is a cat \n",
      "python is a cat \n",
      "python is a cat\n",
      "\n"
     ]
    }
   ],
   "source": [
    "with open('test1.txt', 'r') as f:\n",
    "    print(f.read())"
   ]
  },
  {
   "cell_type": "code",
   "execution_count": 43,
   "metadata": {},
   "outputs": [
    {
     "name": "stdout",
     "output_type": "stream",
     "text": [
      "[\"['haha', 1, 2, 4, 3.29]python is a cat \\n\", 'python is a cat \\n', 'python is a cat\\n']\n"
     ]
    }
   ],
   "source": [
    "with open('test1.txt', 'r') as f:\n",
    "    print(f.readlines())"
   ]
  },
  {
   "cell_type": "code",
   "execution_count": 45,
   "metadata": {},
   "outputs": [
    {
     "name": "stdout",
     "output_type": "stream",
     "text": [
      "['haha', 1, 2, 4, 3.29]python is a cat \n",
      "\n"
     ]
    }
   ],
   "source": [
    "# 以上两个方法有个缺点，当文件过大的时候，一次性读取太多内容，会对内存造成极大压力。读操作还有一个readline()方法，可以逐行读取。\n",
    "with open('test1.txt', 'r') as f:\n",
    "    print(f.readline())"
   ]
  },
  {
   "cell_type": "code",
   "execution_count": 46,
   "metadata": {},
   "outputs": [
    {
     "name": "stdout",
     "output_type": "stream",
     "text": [
      "['haha', 1, 2, 4, 3.29]python is a cat \n",
      "\n",
      "python is a cat \n",
      "\n",
      "python is a cat\n",
      "\n"
     ]
    }
   ],
   "source": [
    "with open('test1.txt', 'r') as f:\n",
    "    for line in f.readlines():\n",
    "        print(line)"
   ]
  },
  {
   "cell_type": "code",
   "execution_count": 47,
   "metadata": {},
   "outputs": [
    {
     "name": "stdout",
     "output_type": "stream",
     "text": [
      "['haha', 1, 2, 4, 3.29]python is a cat\n",
      "python is a cat\n",
      "python is a cat\n"
     ]
    }
   ],
   "source": [
    "# 读取内容包含换行符，所以要strip()去掉换行符\n",
    "with open('test1.txt', 'r') as f:\n",
    "    for line in f.readlines():\n",
    "        print(line.strip())"
   ]
  },
  {
   "cell_type": "markdown",
   "metadata": {},
   "source": [
    "### 总结\n",
    "- readline()比较鸡肋，不咋用；read()适合读取内容较少的情况，或者是需要一次性处理全部内容的情况；而readlines()用的较多，比较灵活，因为for循环是一种迭代器，每次加载部分内容，既减少内存压力，又方便逐行对数据处理。"
   ]
  },
  {
   "cell_type": "markdown",
   "metadata": {},
   "source": [
    "### 多需求的读写任务\n",
    "- open() 方法用于打开一个文件，并返回文件对象，在对文件进行处理过程都需要使用到这个函数，如果该文件无法被打开，会抛出 OSError\n",
    "- open(file, mode='r', buffering=-1, encoding=None, errors=None, newline=None, closefd=True, opener=None)\n",
    "- open()方法的参数里file（文件）是必需的，其它参数最常用的是mode（模式）和encoding（编码）。\n",
    "- 一般来说，打开文件的编码方式以操作系统的默认编码为准，中文可能会出现乱码，需要加encoding='utf-8'\n",
    "- 文件的打开模式:\n",
    "    - 'r'： 以只读模式打开（缺省模式）（必须保证文件存在）\n",
    "    - 'w'：以只写模式打开。若文件存在，则清空文件，然后重新创建；若不存在，则新建文件。\n",
    "    - 'a'：以追加模式打开。若文件存在，则会追加到文件的末尾；若文件不存在，则新建文件。\n",
    "- 常见的mode组合\n",
    "    - 'r'或'rt'： 默认模式，文本读模式\n",
    "    - 'w'或'wt'： 以文本写模式打开（打开前文件会被清空）\n",
    "    - 'rb'： 以二进制读模式打开\n",
    "    - 'ab'： 以二进制追加模式打开\n",
    "    - 'wb'： 以二进制写模式打开（打开前文件会被清空）\n",
    "    -'r+'： 以文本读写模式打开，默认写的指针开始指在文件开头, 因此会覆写文件\n",
    "    - 'w+'： 以文本读写模式打开（打开前文件会被清空）\n",
    "    - 'a+'： 以文本读写模式打开（写只能写在文件末尾）\n",
    "    - 'rb+'： 以二进制读写模式打开\n",
    "    - 'wb+'： 以二进制读写模式打开（打开前文件会被清空）\n",
    "    - 'ab+'： 以二进制读写模式打开"
   ]
  },
  {
   "cell_type": "code",
   "execution_count": 53,
   "metadata": {},
   "outputs": [
    {
     "name": "stdout",
     "output_type": "stream",
     "text": [
      "['haha', 1, 2, 4, 3.29]python is a cat\n",
      "python is a cat\n",
      "python is a cat\n",
      "库里是个小学生\n",
      "傻吊\n"
     ]
    }
   ],
   "source": [
    "with open('test1.txt', 'r', encoding='utf-8') as f:\n",
    "    for line in f.readlines():\n",
    "        print(line.strip())"
   ]
  },
  {
   "cell_type": "markdown",
   "metadata": {},
   "source": [
    "### 从with语句到上下文管理器"
   ]
  },
  {
   "cell_type": "code",
   "execution_count": 54,
   "metadata": {},
   "outputs": [],
   "source": [
    "# 不用with语句的正确写法\n",
    "try:\n",
    "    f = open('test2.txt','w')\n",
    "    f.writelines(['python',' is',' a',' cat'])\n",
    "finally:\n",
    "    if f:\n",
    "        f.close()\n",
    "\n",
    "# 使用with语句的正确写法\n",
    "with open('test.txt3','w') as f:\n",
    "    f.writelines(['python',' is',' a',' cat'])"
   ]
  },
  {
   "cell_type": "code",
   "execution_count": null,
   "metadata": {},
   "outputs": [],
   "source": []
  }
 ],
 "metadata": {
  "kernelspec": {
   "display_name": "Python 3",
   "language": "python",
   "name": "python3"
  },
  "language_info": {
   "codemirror_mode": {
    "name": "ipython",
    "version": 3
   },
   "file_extension": ".py",
   "mimetype": "text/x-python",
   "name": "python",
   "nbconvert_exporter": "python",
   "pygments_lexer": "ipython3",
   "version": "3.5.6"
  }
 },
 "nbformat": 4,
 "nbformat_minor": 2
}
