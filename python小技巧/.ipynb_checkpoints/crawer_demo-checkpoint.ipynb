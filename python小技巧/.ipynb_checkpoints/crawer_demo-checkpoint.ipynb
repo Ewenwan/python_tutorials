{
 "cells": [
  {
   "cell_type": "code",
   "execution_count": 20,
   "metadata": {},
   "outputs": [],
   "source": [
    "from selenium.webdriver.common.by import By\n",
    "from selenium.webdriver.support import expected_conditions as EC\n",
    "from selenium.webdriver.support.ui import WebDriverWait\n",
    "from selenium import webdriver\n",
    "import requests\n",
    "import lxml.html\n",
    "import os"
   ]
  },
  {
   "cell_type": "code",
   "execution_count": 21,
   "metadata": {},
   "outputs": [],
   "source": [
    "# selenium解析网页\n",
    "\n",
    "def parser(url, param):\n",
    "    browser.get(url)\n",
    "    wait.until(EC.presence_of_element_located((By.CSS_SELECTOR, param)))\n",
    "    html = browser.page_source\n",
    "    doc = lxml.html.fromstring(html)\n",
    "    return doc"
   ]
  },
  {
   "cell_type": "code",
   "execution_count": 17,
   "metadata": {},
   "outputs": [],
   "source": [
    "# 解析主页面\n",
    "def get_main_url():\n",
    "    print('打开主页面搜寻链接...')\n",
    "    try:\n",
    "        doc = parser('http://huaban.com/boards/favorite/beauty/', '#waterfall')\n",
    "        name = doc.xpath('//*[@id=\"waterfall\"]/div[1]/a[1]/div[2]/h3/text()')\n",
    "        u = doc.xpath('//*[@id=\"waterfall\"]/div[1]/a[1]/@href')\n",
    "        for item, fileName in zip(u, name):\n",
    "            main_url = 'http://huaban.com' + item\n",
    "            print('主链接已找到' + main_url)\n",
    "            if '*' in fileName:\n",
    "                fileName = fileName.replace('*', '')\n",
    "            download(main_url, fileName)\n",
    "    except Exception as e:\n",
    "        print(e)\n"
   ]
  },
  {
   "cell_type": "code",
   "execution_count": 24,
   "metadata": {},
   "outputs": [],
   "source": [
    "def download(main_url, fileName):\n",
    "    print('--------准备下载中-------')\n",
    "    try:\n",
    "        doc = parser(main_url, '#waterfall')\n",
    "        if not os.path.exists('image//' + fileName):\n",
    "            print('创建文件夹...')\n",
    "            os.makedirs('image//' + fileName)\n",
    "        link = doc.xpath('//*[@id=\"waterfall\"]/div/a/@href')\n",
    "        print('link')\n",
    "        i = 0\n",
    "        for item in link:\n",
    "            i += 1\n",
    "            minor_url = 'http://huaban.com' + item\n",
    "            doc = parser(minor_url, '#pin_view_page')\n",
    "            img_url = doc.xpath('//*[@id=\"baidu_image_holder\"]/a/img/@src')\n",
    "            img_url2 = doc.xpath('//*[@id=\"baidu_image_holder\"]/img/@src')\n",
    "            img_url += img_url2\n",
    "            try:\n",
    "                url = 'http:' + str(img_url[0])\n",
    "                print('正在下载第' + str(i) + '张图片,地址:' + url)\n",
    "                r = requests.get(url)\n",
    "                print('响应状态码:', r.status_code)\n",
    "                filename = 'image//{}//'.format(fileName) + str(i) + '.jpg'\n",
    "                with open(filename, 'wb') as f:\n",
    "                    f.write(r.content)\n",
    "                    print('--------图片保存成功!--------')\n",
    "            except Exception:\n",
    "                print('出错了!')\n",
    "        print('图片下载完成!')\n",
    "    except Exception:\n",
    "        print('出错啦!')\n",
    "\n"
   ]
  },
  {
   "cell_type": "code",
   "execution_count": 33,
   "metadata": {},
   "outputs": [
    {
     "name": "stdout",
     "output_type": "stream",
     "text": [
      "打开主页面搜寻链接...\n",
      "主链接已找到http://huaban.com/boards/46782018/\n",
      "--------准备下载中-------\n",
      "正在下载第1张图片,地址:http://img.hb.aicdn.com/0f83e8265e47197f26a05576934e6abe9c85085b39cbf-1AmZlS_fw658\n",
      "响应状态码: 200\n",
      "正在下载第2张图片,地址:http://img.hb.aicdn.com/ca9104f5aed728cb592ec30a56c1d66b8f6ac233121a5-jspvG6_fw658\n",
      "响应状态码: 200\n",
      "Message: no such window: target window already closed\n",
      "from unknown error: web view not found\n",
      "  (Session info: chrome=69.0.3497.81)\n",
      "  (Driver info: chromedriver=2.42.591071 (0b695ff80972cc1a65a5cd643186d2ae582cd4ac),platform=Linux 4.13.0-36-generic x86_64)\n",
      "\n"
     ]
    }
   ],
   "source": [
    "if __name__ == '__main__':\n",
    "    browser = webdriver.Chrome()\n",
    "    wait = WebDriverWait(browser, 10)\n",
    "    browser.set_window_size(1920, 1080)\n",
    "    get_main_url()"
   ]
  },
  {
   "cell_type": "code",
   "execution_count": null,
   "metadata": {},
   "outputs": [],
   "source": []
  },
  {
   "cell_type": "code",
   "execution_count": null,
   "metadata": {},
   "outputs": [],
   "source": []
  }
 ],
 "metadata": {
  "kernelspec": {
   "display_name": "Python 3",
   "language": "python",
   "name": "python3"
  },
  "language_info": {
   "codemirror_mode": {
    "name": "ipython",
    "version": 3
   },
   "file_extension": ".py",
   "mimetype": "text/x-python",
   "name": "python",
   "nbconvert_exporter": "python",
   "pygments_lexer": "ipython3",
   "version": "3.5.6"
  }
 },
 "nbformat": 4,
 "nbformat_minor": 2
}
