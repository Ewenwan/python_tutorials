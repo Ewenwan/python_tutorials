{
 "cells": [
  {
   "cell_type": "code",
   "execution_count": 1,
   "metadata": {},
   "outputs": [
    {
     "data": {
      "text/plain": [
       "'\\nBad\\n\\ntmp = a\\na = b\\nb = tmp\\n\\nGood\\n\\na, b = b, a\\n\\n'"
      ]
     },
     "execution_count": 1,
     "metadata": {},
     "output_type": "execute_result"
    }
   ],
   "source": [
    "# 变量交换\n",
    "\n",
    "'''\n",
    "Bad\n",
    "\n",
    "tmp = a\n",
    "a = b\n",
    "b = tmp\n",
    "\n",
    "Good\n",
    "\n",
    "a, b = b, a\n",
    "\n",
    "'''"
   ]
  },
  {
   "cell_type": "code",
   "execution_count": 2,
   "metadata": {},
   "outputs": [],
   "source": [
    "# 列表生成式\n",
    "\n",
    "# Bad\n",
    "my_list = []\n",
    "for i in range(10):\n",
    "    my_list.append(i*2)\n",
    "\n",
    "# Good\n",
    "my_list = [i*2 for i in range(10)]"
   ]
  },
  {
   "cell_type": "code",
   "execution_count": 3,
   "metadata": {},
   "outputs": [
    {
     "data": {
      "text/plain": [
       "\"\\nprint('one')\\nprint('two')\\n\\nif x == 1: \\n    print('one')\\n    \\ncond1 = <complex comparison>\\ncond2 = <other complex comparison>\\nif  cond1 and cond2:\\n    # do something\\n\\n\""
      ]
     },
     "execution_count": 3,
     "metadata": {},
     "output_type": "execute_result"
    }
   ],
   "source": [
    "# 单行表达式\n",
    "\n",
    "# Bad\n",
    "\n",
    "'''\n",
    "print('one'); print('two')\n",
    "\n",
    "if x == 1: print('one')\n",
    "\n",
    "if <complex comparison> and <other complex comparison>:\n",
    "    # do something\n",
    "'''\n",
    "# Good\n",
    "\n",
    "'''\n",
    "print('one')\n",
    "print('two')\n",
    "\n",
    "if x == 1: \n",
    "    print('one')\n",
    "    \n",
    "cond1 = <complex comparison>\n",
    "cond2 = <other complex comparison>\n",
    "if  cond1 and cond2:\n",
    "    # do something\n",
    "\n",
    "'''"
   ]
  },
  {
   "cell_type": "code",
   "execution_count": null,
   "metadata": {},
   "outputs": [],
   "source": [
    "# 带索引遍历\n",
    "# Bad\n",
    "\n",
    "'''\n",
    "for i in range(len(my_list)):\n",
    "    print(i, \"-->\", my_list[i])\n",
    "'''\n",
    "\n",
    "# Good\n",
    "'''\n",
    "for i,item in enumerate(my_list):\n",
    "    print(i, \"-->\",item)\n",
    "'''"
   ]
  },
  {
   "cell_type": "code",
   "execution_count": 4,
   "metadata": {},
   "outputs": [
    {
     "data": {
      "text/plain": [
       "1"
      ]
     },
     "execution_count": 4,
     "metadata": {},
     "output_type": "execute_result"
    }
   ],
   "source": [
    "# 序列解包\n",
    "\n",
    "a, *rest = [1, 2, 3]\n",
    "a"
   ]
  },
  {
   "cell_type": "code",
   "execution_count": 5,
   "metadata": {},
   "outputs": [
    {
     "data": {
      "text/plain": [
       "[2, 3]"
      ]
     },
     "execution_count": 5,
     "metadata": {},
     "output_type": "execute_result"
    }
   ],
   "source": [
    "rest"
   ]
  },
  {
   "cell_type": "code",
   "execution_count": 9,
   "metadata": {},
   "outputs": [
    {
     "data": {
      "text/plain": [
       "1"
      ]
     },
     "execution_count": 9,
     "metadata": {},
     "output_type": "execute_result"
    }
   ],
   "source": [
    "a, *middle, c = [1, 2, 3, 4, 5]\n",
    "a"
   ]
  },
  {
   "cell_type": "code",
   "execution_count": 10,
   "metadata": {},
   "outputs": [
    {
     "data": {
      "text/plain": [
       "[2, 3, 4]"
      ]
     },
     "execution_count": 10,
     "metadata": {},
     "output_type": "execute_result"
    }
   ],
   "source": [
    "middle"
   ]
  },
  {
   "cell_type": "code",
   "execution_count": 11,
   "metadata": {},
   "outputs": [
    {
     "data": {
      "text/plain": [
       "5"
      ]
     },
     "execution_count": 11,
     "metadata": {},
     "output_type": "execute_result"
    }
   ],
   "source": [
    "c"
   ]
  },
  {
   "cell_type": "code",
   "execution_count": 15,
   "metadata": {},
   "outputs": [
    {
     "name": "stdout",
     "output_type": "stream",
     "text": [
      "spam\n",
      "spam\n"
     ]
    }
   ],
   "source": [
    "# 字符串拼接\n",
    "\n",
    "# Bad\n",
    "letters = ['s', 'p', 'a', 'm']\n",
    "s=\"\"\n",
    "for let in letters:\n",
    "    s += let\n",
    "print(s)\n",
    "\n",
    "\n",
    "# Good\n",
    "letters = ['s', 'p', 'a', 'm']\n",
    "word = ''.join(letters)\n",
    "print(word)"
   ]
  },
  {
   "cell_type": "code",
   "execution_count": null,
   "metadata": {},
   "outputs": [],
   "source": [
    "# 真假判断\n",
    "\n",
    "# Bad\n",
    "\n",
    "if attr == True:\n",
    "    print('True!')\n",
    "\n",
    "if attr == None:\n",
    "    print('attr is None!')\n",
    "\n",
    "# Good\n",
    "\n",
    "if attr:\n",
    "    print('attr is truthy!')\n",
    "\n",
    "if not attr:\n",
    "    print('attr is falsey!')\n",
    "if attr is None:\n",
    "    print('attr is None!')"
   ]
  },
  {
   "cell_type": "code",
   "execution_count": 36,
   "metadata": {},
   "outputs": [
    {
     "name": "stdout",
     "output_type": "stream",
     "text": [
      "[5]\n",
      "[5]\n",
      "[6, 7, 8]\n",
      "[6, 7, 8]\n",
      "[6, 7, 8]\n"
     ]
    }
   ],
   "source": [
    "# 操作列表\n",
    "\n",
    "# Bad\n",
    "a = [3, 4, 5]\n",
    "b = []\n",
    "for i in a:\n",
    "    if i > 4:\n",
    "        b.append(i)\n",
    "print(b)\n",
    "\n",
    "# Good\n",
    "\n",
    "a = [3, 4, 5]\n",
    "b = [i for i in a if i > 4]\n",
    "# Or:\n",
    "b = filter(lambda x: x > 4, a)\n",
    "print(list(b))\n",
    "\n",
    "# Bad\n",
    "a = [3, 4, 5]\n",
    "for i in range(len(a)):\n",
    "    a[i] += 3\n",
    "print(a)\n",
    "# Good\n",
    "a = [3, 4, 5]\n",
    "a = [i + 3 for i in a]\n",
    "print(a)\n",
    "# Or:\n",
    "a = [3, 4, 5]\n",
    "a = map(lambda i: i + 3, a)\n",
    "print(list(a))"
   ]
  },
  {
   "cell_type": "code",
   "execution_count": 41,
   "metadata": {},
   "outputs": [
    {
     "name": "stdout",
     "output_type": "stream",
     "text": [
      "['haha', 1, 2, 4, 3.29]python is a cat \n",
      "python is a cat \n",
      "python is a cat\n",
      "\n",
      "['haha', 1, 2, 4, 3.29]python is a cat\n",
      "python is a cat\n",
      "python is a cat\n"
     ]
    }
   ],
   "source": [
    "# 文件读取\n",
    "\n",
    "# Bad\n",
    "f = open('test.txt')\n",
    "a = f.read()\n",
    "print(a)\n",
    "f.close()\n",
    "# Good\n",
    "with open('test.txt') as f:\n",
    "    for line in f:\n",
    "        print(line.strip())"
   ]
  },
  {
   "cell_type": "code",
   "execution_count": null,
   "metadata": {},
   "outputs": [],
   "source": [
    "# 代码续行\n",
    "\n",
    "# Bad\n",
    "\n",
    "my_very_big_string = \"\"\"For a long time I used to go to bed early. Sometimes, \\\n",
    "    when I had put out my candle, my eyes would close so quickly that I had not even \\\n",
    "    time to say “I’m going to sleep.”\"\"\"\n",
    "\n",
    "from some.deep.module.inside.a.module import a_nice_function, another_nice_function, \\\n",
    "    yet_another_nice_function\n",
    "\n",
    "# Good\n",
    "\n",
    "my_very_big_string = (\n",
    "    \"For a long time I used to go to bed early. Sometimes, \"\n",
    "    \"when I had put out my candle, my eyes would close so quickly \"\n",
    "    \"that I had not even time to say “I’m going to sleep.”\"\n",
    ")\n",
    "\n",
    "from some.deep.module.inside.a.module import (\n",
    "    a_nice_function, another_nice_function, yet_another_nice_function)"
   ]
  },
  {
   "cell_type": "code",
   "execution_count": null,
   "metadata": {},
   "outputs": [],
   "source": [
    "# 显式代码\n",
    "\n",
    "# Bad\n",
    "\n",
    "def make_complex(*args):\n",
    "    x, y = args\n",
    "    return dict(**locals())\n",
    "\n",
    "# Good\n",
    "\n",
    "def make_complex(x, y):\n",
    "    return {'x': x, 'y': y}"
   ]
  },
  {
   "cell_type": "code",
   "execution_count": 47,
   "metadata": {},
   "outputs": [
    {
     "name": "stdout",
     "output_type": "stream",
     "text": [
      "test\n",
      "txt\n"
     ]
    }
   ],
   "source": [
    "# 使用占位符\n",
    "\n",
    "filename = 'test.txt'\n",
    "basename, _, ext = filename.rpartition('.')\n",
    "print(basename)\n",
    "print(ext)"
   ]
  },
  {
   "cell_type": "code",
   "execution_count": null,
   "metadata": {},
   "outputs": [],
   "source": [
    "# 链式比较\n",
    "\n",
    "# Bad\n",
    "if age > 18 and age < 60:\n",
    "    print(\"young man\")\n",
    "\n",
    "# Good\n",
    "\n",
    "if 18 < age < 60:\n",
    "    print(\"young man\")"
   ]
  },
  {
   "cell_type": "code",
   "execution_count": null,
   "metadata": {},
   "outputs": [],
   "source": []
  }
 ],
 "metadata": {
  "kernelspec": {
   "display_name": "Python 3",
   "language": "python",
   "name": "python3"
  },
  "language_info": {
   "codemirror_mode": {
    "name": "ipython",
    "version": 3
   },
   "file_extension": ".py",
   "mimetype": "text/x-python",
   "name": "python",
   "nbconvert_exporter": "python",
   "pygments_lexer": "ipython3",
   "version": "3.5.6"
  }
 },
 "nbformat": 4,
 "nbformat_minor": 2
}
