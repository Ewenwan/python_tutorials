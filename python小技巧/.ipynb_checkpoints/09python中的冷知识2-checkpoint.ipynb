{
 "cells": [
  {
   "cell_type": "markdown",
   "metadata": {},
   "source": [
    "# 默认参数最好不是可变对象\n",
    "\n",
    "## 函数的参数分三种\n",
    "- 可变参数\n",
    "- 默认参数\n",
    "- 关键字参数"
   ]
  },
  {
   "cell_type": "code",
   "execution_count": 1,
   "metadata": {},
   "outputs": [
    {
     "name": "stdout",
     "output_type": "stream",
     "text": [
      "['haha']\n",
      "['oppo', 'vivo', 'dana']\n",
      "['haha', 'huawei']\n"
     ]
    }
   ],
   "source": [
    "def func(item, item_list=[]):\n",
    "    item_list.append(item)\n",
    "    print(item_list)\n",
    "\n",
    "\n",
    "func(\"haha\")\n",
    "func('dana', item_list=['oppo', 'vivo'])\n",
    "func('huawei')"
   ]
  },
  {
   "cell_type": "markdown",
   "metadata": {},
   "source": [
    "# 访问类中的私有方法\n",
    "- 大家都知道，类中可供直接调用的方法，只有公有方法（protected类型的方法也可以，但是不建议）。也就是说，类的私有方法是无法直接调用的。"
   ]
  },
  {
   "cell_type": "code",
   "execution_count": 2,
   "metadata": {},
   "outputs": [
    {
     "name": "stdout",
     "output_type": "stream",
     "text": [
      "hello, public\n"
     ]
    }
   ],
   "source": [
    "class Kls():\n",
    "    def public(self):\n",
    "        print('hello, public')\n",
    "    def __private(self):\n",
    "        print('hello, private')\n",
    "    def call_private(self):\n",
    "        self.__private()\n",
    "\n",
    "\n",
    "# 调用公有方法\n",
    "ins = Kls()\n",
    "ins.public()"
   ]
  },
  {
   "cell_type": "code",
   "execution_count": 5,
   "metadata": {},
   "outputs": [
    {
     "ename": "AttributeError",
     "evalue": "'Kls' object has no attribute '__private'",
     "output_type": "error",
     "traceback": [
      "\u001b[0;31m---------------------------------------------------------------------------\u001b[0m",
      "\u001b[0;31mAttributeError\u001b[0m                            Traceback (most recent call last)",
      "\u001b[0;32m<ipython-input-5-356998a0a6d3>\u001b[0m in \u001b[0;36m<module>\u001b[0;34m()\u001b[0m\n\u001b[1;32m      1\u001b[0m \u001b[0;31m# 调用私有方法,报错\u001b[0m\u001b[0;34m\u001b[0m\u001b[0;34m\u001b[0m\u001b[0m\n\u001b[1;32m      2\u001b[0m \u001b[0mins\u001b[0m \u001b[0;34m=\u001b[0m \u001b[0mKls\u001b[0m\u001b[0;34m(\u001b[0m\u001b[0;34m)\u001b[0m\u001b[0;34m\u001b[0m\u001b[0m\n\u001b[0;32m----> 3\u001b[0;31m \u001b[0mins\u001b[0m\u001b[0;34m.\u001b[0m\u001b[0m__private\u001b[0m\u001b[0;34m(\u001b[0m\u001b[0;34m)\u001b[0m\u001b[0;34m\u001b[0m\u001b[0m\n\u001b[0m",
      "\u001b[0;31mAttributeError\u001b[0m: 'Kls' object has no attribute '__private'"
     ]
    }
   ],
   "source": [
    "# 调用私有方法,报错\n",
    "ins = Kls()\n",
    "ins.__private()"
   ]
  },
  {
   "cell_type": "code",
   "execution_count": 6,
   "metadata": {},
   "outputs": [
    {
     "name": "stdout",
     "output_type": "stream",
     "text": [
      "hello, private\n"
     ]
    }
   ],
   "source": [
    "# 通过内部公有方法,进行代理\n",
    "ins = Kls()\n",
    "ins.call_private()\n",
    "### ins._Kls__private()也可###"
   ]
  },
  {
   "cell_type": "markdown",
   "metadata": {},
   "source": [
    "# 时有时无的切片异常"
   ]
  },
  {
   "cell_type": "code",
   "execution_count": 7,
   "metadata": {},
   "outputs": [
    {
     "ename": "IndexError",
     "evalue": "list index out of range",
     "output_type": "error",
     "traceback": [
      "\u001b[0;31m---------------------------------------------------------------------------\u001b[0m",
      "\u001b[0;31mIndexError\u001b[0m                                Traceback (most recent call last)",
      "\u001b[0;32m<ipython-input-7-8f1b9a09c719>\u001b[0m in \u001b[0;36m<module>\u001b[0;34m()\u001b[0m\n\u001b[1;32m      1\u001b[0m \u001b[0mmy_list\u001b[0m \u001b[0;34m=\u001b[0m \u001b[0;34m[\u001b[0m\u001b[0;36m1\u001b[0m\u001b[0;34m,\u001b[0m \u001b[0;36m2\u001b[0m\u001b[0;34m,\u001b[0m \u001b[0;36m3\u001b[0m\u001b[0;34m,\u001b[0m \u001b[0;36m4\u001b[0m\u001b[0;34m]\u001b[0m\u001b[0;34m\u001b[0m\u001b[0m\n\u001b[0;32m----> 2\u001b[0;31m \u001b[0mmy_list\u001b[0m\u001b[0;34m[\u001b[0m\u001b[0;36m5\u001b[0m\u001b[0;34m]\u001b[0m\u001b[0;34m\u001b[0m\u001b[0m\n\u001b[0m",
      "\u001b[0;31mIndexError\u001b[0m: list index out of range"
     ]
    }
   ],
   "source": [
    "my_list = [1, 2, 3, 4]\n",
    "my_list[5]"
   ]
  },
  {
   "cell_type": "code",
   "execution_count": 8,
   "metadata": {},
   "outputs": [
    {
     "data": {
      "text/plain": [
       "[]"
      ]
     },
     "execution_count": 8,
     "metadata": {},
     "output_type": "execute_result"
    }
   ],
   "source": [
    "my_list = [1, 2, 3, 4]\n",
    "# 如下这种写法就不会报索引异常，执行my_list[5:]，会返回一个新list：[]\n",
    "my_list[5:]"
   ]
  },
  {
   "cell_type": "markdown",
   "metadata": {},
   "source": [
    "# 哪些情况下不需要续行符\n",
    "- 在写代码时，为了代码的可读性，代码的排版是尤为重要的。\n",
    "- 为了实现高可读性的代码，我们常常使用到的就是续行符 \\"
   ]
  },
  {
   "cell_type": "code",
   "execution_count": 10,
   "metadata": {},
   "outputs": [
    {
     "name": "stdout",
     "output_type": "stream",
     "text": [
      "take ni sh is cheap,show me the code.\n"
     ]
    }
   ],
   "source": [
    "a = 'take ni sh is cheap,' \\\n",
    "'show me the code.'\n",
    "print(a)"
   ]
  },
  {
   "cell_type": "code",
   "execution_count": 13,
   "metadata": {},
   "outputs": [],
   "source": [
    "# 在这些符号中间的代码换行可以省略掉续行符：[],(),{}\n",
    "\n",
    "my_list = [1, 2, 3,\n",
    "          4, 5, 6]\n",
    "my_tuple = (1, 2, 3,\n",
    "           4, 5, 6)\n",
    "my_dict = {'one': 1, 'two': 2, 'three': 3,\n",
    "          'four': 4, 'five': 5, 'six': 6}\n"
   ]
  },
  {
   "cell_type": "code",
   "execution_count": null,
   "metadata": {},
   "outputs": [],
   "source": [
    "# Py2 也可以使用 print()\n",
    "\n",
    "\n",
    "# 在Python 2.6和2.7中，可以支持如下三种\n",
    "'''\n",
    "print \"hello\"\n",
    "print(\"hello\")\n",
    "print (\"hello\")\n",
    "'''\n",
    "\n",
    "# 在Python3.x中，可以支持如下两种\n",
    "print(\"hello\")\n",
    "print (\"hello\")"
   ]
  }
 ],
 "metadata": {
  "kernelspec": {
   "display_name": "Python 3",
   "language": "python",
   "name": "python3"
  },
  "language_info": {
   "codemirror_mode": {
    "name": "ipython",
    "version": 3
   },
   "file_extension": ".py",
   "mimetype": "text/x-python",
   "name": "python",
   "nbconvert_exporter": "python",
   "pygments_lexer": "ipython3",
   "version": "3.5.6"
  }
 },
 "nbformat": 4,
 "nbformat_minor": 2
}
