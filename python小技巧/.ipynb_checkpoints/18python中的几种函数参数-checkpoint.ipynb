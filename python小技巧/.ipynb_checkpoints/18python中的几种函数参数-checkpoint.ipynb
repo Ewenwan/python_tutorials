{
 "cells": [
  {
   "cell_type": "code",
   "execution_count": 1,
   "metadata": {},
   "outputs": [
    {
     "data": {
      "text/plain": [
       "16"
      ]
     },
     "execution_count": 1,
     "metadata": {},
     "output_type": "execute_result"
    }
   ],
   "source": [
    "#  位置参数\n",
    "\n",
    "def power(x):   # x就是位置参数\n",
    "    return x**2\n",
    "\n",
    "\n",
    "power(4)\n",
    "\n",
    "\n",
    "def power(x, n):  # x, n都是位置参数，调用函数时，传入的两个值按照位置顺序依次赋值给x和n\n",
    "    s = 1\n",
    "    while n > 0:\n",
    "        n -= 1\n",
    "        s *= x\n",
    "    return s\n",
    "\n",
    "\n",
    "power(5, 2)"
   ]
  },
  {
   "cell_type": "code",
   "execution_count": 22,
   "metadata": {},
   "outputs": [
    {
     "name": "stdout",
     "output_type": "stream",
     "text": [
      "name: curry\n",
      "gender: male\n",
      "----------------\n",
      "name curry\n",
      "gender male\n",
      "age 30\n",
      "city ShangHai\n",
      "------------------\n",
      "name harden\n",
      "gender female\n",
      "age 17\n",
      "city ShangHai\n",
      "-------------------\n",
      "name durant\n",
      "gender male\n",
      "age 30\n",
      "city Beijing\n",
      "['END']\n",
      "['END', 'END']\n",
      "['END', 'END', 'END']\n",
      "------------------\n",
      "['END']\n",
      "['END']\n"
     ]
    }
   ],
   "source": [
    "# 默认参数\n",
    "\n",
    "def power(x, n=2):  \n",
    "    s = 1\n",
    "    while n > 0:\n",
    "        n -= 1\n",
    "        s *= x\n",
    "    return s\n",
    "\n",
    "\n",
    "power(5)  # 默认参数可以简化函数调用，设置默认参数时，必选参数在前，默认参数在后.\n",
    "# 如何选择默认参数？把变化大的参数放在前面，变化小的参数放在后面，可以作为默认参数。\n",
    "\n",
    "\n",
    "def enroll(name, gender):\n",
    "    print('name:', name)\n",
    "    print('gender:', gender)\n",
    "\n",
    "enroll('curry', 'male')\n",
    "print('----------------')\n",
    "# 继续增加年龄和城市信息\n",
    "def enroll(name, gender, age=30, city='ShangHai'):  # age city设置为默认参数\n",
    "    print('name', name)\n",
    "    print('gender', gender)\n",
    "    print('age', age)\n",
    "    print('city', city)\n",
    "\n",
    "enroll('curry', 'male')\n",
    "print('------------------')\n",
    "enroll('harden', 'female', 17)\n",
    "print('-------------------')\n",
    "enroll('durant', 'male', city='Beijing')\n",
    "\n",
    "# 当有多个默认参数时，调用的时候，可以按顺序提供默认参数;\n",
    "# 也可以不按顺序提供部分默认参数，当不按顺序提供默认参数时，需要把参数名写上\n",
    "\n",
    "# 默认参数存在的一个大坑，默认参数必须指向不可变的对象！不可变对象一旦创建，对象内部的数据就不能修改。\n",
    "# 下面的例子中L是默认参数，同时也是变量，它指向对象[],每次调用该函数，都会改变L的内容\n",
    "\n",
    "def add_end(L=[]):\n",
    "    L.append('END')\n",
    "    return L\n",
    "\n",
    "add_end(L=[1, 2, 3])\n",
    "add_end(L=['a', 'b', 'c'])\n",
    "print(add_end())  # 第一次使用默认参数调用时，开始是对的\n",
    "print(add_end())   # 再次调用时，将会出错\n",
    "print(add_end())\n",
    "\n",
    "\n",
    "#  修改版本\n",
    "def add_end(L=None):\n",
    "    if L is None:\n",
    "        L = []\n",
    "    L.append('END')\n",
    "    return L\n",
    "\n",
    "print('------------------')\n",
    "print(add_end())\n",
    "print(add_end())"
   ]
  },
  {
   "cell_type": "code",
   "execution_count": 33,
   "metadata": {},
   "outputs": [
    {
     "name": "stdout",
     "output_type": "stream",
     "text": [
      "14\n",
      "---------------\n",
      "30\n",
      "---------------\n",
      "14\n",
      "0\n",
      "14\n"
     ]
    }
   ],
   "source": [
    "# 可变参数-----传入的参数个数是可变的,由于参数的个数不确定，可以把参数都放在一个list\\tuple中，然后再传进来。\n",
    "\n",
    "def calc(num):\n",
    "    sum = 0\n",
    "    for n in num:\n",
    "        sum += n**2\n",
    "    return sum\n",
    "\n",
    "\n",
    "# 把参数都放在一个list\\tuple中\n",
    "print(calc([1, 2, 3]))\n",
    "print('---------------')\n",
    "print(calc((1, 2, 3, 4)))\n",
    "print('---------------')\n",
    "\n",
    "\n",
    "def calc(*nums):\n",
    "    sum = 0\n",
    "    for n in nums:\n",
    "        sum += n**2\n",
    "    return sum\n",
    "# 利用可变参数，调用函数时，可以传入任意个参数\n",
    "print(calc(1, 2, 3))\n",
    "print(calc())\n",
    "# 如果已经有一个list或者tuple，要调用一个可变参数,则在可变参数前加一个*,把list或tuple的元素变成可变参数传进去\n",
    "nums = [1, 2, 3]\n",
    "print(calc(*nums))"
   ]
  },
  {
   "cell_type": "code",
   "execution_count": 37,
   "metadata": {},
   "outputs": [
    {
     "name": "stdout",
     "output_type": "stream",
     "text": [
      "name curry\n",
      "age 30\n",
      "other {}\n",
      "name durant\n",
      "age 30\n",
      "other {'city': 'Beijing'}\n",
      "name harden\n",
      "age 28\n",
      "other {'job': 'Engineer', 'city': 'Shanghai'}\n"
     ]
    }
   ],
   "source": [
    "# 关键字参数\n",
    "# 可变参数允许你传入0个或任意个参数，在函数调用时，自动组装成一个tuple\n",
    "# 关键字参数允许你传入0个或任意个含参数名的参数，这些关键字参数在函数内部自动组装成一个dict\n",
    "\n",
    "def person(name, age, **kw):\n",
    "    print('name', name)\n",
    "    print('age', age)\n",
    "    print('other', kw)\n",
    "\n",
    "# 函数调用时，只传入必选参数\n",
    "person('curry', 30)\n",
    "\n",
    "\n",
    "# 可以传入任意个数的关键字参数\n",
    "person('durant', 30, city='Beijing')\n",
    "\n",
    "# 可以先组装出一个dict，再把该dict转换为关键字参数传进去\n",
    "extra = {'city': 'Shanghai', 'job': 'Engineer'}\n",
    "person('harden', 28, **extra)"
   ]
  },
  {
   "cell_type": "code",
   "execution_count": 41,
   "metadata": {},
   "outputs": [
    {
     "name": "stdout",
     "output_type": "stream",
     "text": [
      "harden 29 Beijing Engineer\n",
      "Bob 2333 Beijing Engineer\n"
     ]
    }
   ],
   "source": [
    "# 命名关键字参数------限制关键字参数的名字\n",
    "# 对于关键字参数，函数的调用者可以传入任意不受限制的关键字参数，至于究竟传入了哪些参数，就需要在函数内部通过kw检查\n",
    "\n",
    "# 只接受city和job关键字参数\n",
    "def person(name, age, *, city, job):\n",
    "    print(name, age, city, job)\n",
    "    \n",
    "person('harden', 29, city='Beijing', job='Engineer')\n",
    "\n",
    "# 命名关键字参数必须传入参数名，否则会报错\n",
    "person('harden', 666, 'ShangHai', 'teacher')\n",
    "\n",
    "# 命名关键字参数可以有缺失值,从而简化调用\n",
    "def person(name, age, *, city='Beijing', job):\n",
    "    print(name, age, city, job)\n",
    "\n",
    "person('Bob', 2333, job='Engineer')"
   ]
  },
  {
   "cell_type": "code",
   "execution_count": 47,
   "metadata": {},
   "outputs": [
    {
     "name": "stdout",
     "output_type": "stream",
     "text": [
      "a= 1\n",
      "b= 2\n",
      "c= 0\n",
      "args= ()\n",
      "kw {}\n",
      "------------\n",
      "a= 1\n",
      "b= 2\n",
      "c= 3\n",
      "args= ()\n",
      "kw {}\n",
      "------------\n",
      "a= 1\n",
      "b= 2\n",
      "c= 3\n",
      "args= ('a', 'b')\n",
      "kw {}\n",
      "------------\n",
      "a= 1\n",
      "b= 2\n",
      "c= 3\n",
      "args= ('a', 'b')\n",
      "kw {'x': 99}\n",
      "------------\n",
      "a= 1\n",
      "b= 2\n",
      "c= 3\n",
      "args= (4,)\n",
      "kw {'x': '#', 'd': 99}\n",
      "------------\n",
      "a= 1\n",
      "b= 2\n",
      "c= 3\n",
      "d= 88\n",
      "kw {'x': '*'}\n"
     ]
    }
   ],
   "source": [
    "# 参数组合\n",
    "# python定义函数时，有5种参数：必选参数，默认参数，可变参数，关键字参数，命名关键字参数\n",
    "# 参数定义的顺序：必选参数  默认参数  可变参数/命名关键字参数  关键字参数\n",
    "def f1(a, b, c=0, *args, **kw):\n",
    "    print('a=', a)\n",
    "    print('b=', b)\n",
    "    print('c=', c)\n",
    "    print('args=', args)\n",
    "    print('kw', kw)\n",
    "\n",
    "    \n",
    "def f2(a, b, c=0, *, d, **kw):\n",
    "    print('a=', a)\n",
    "    print('b=', b)\n",
    "    print('c=', c)\n",
    "    print('d=', d)\n",
    "    print('kw', kw)\n",
    "\n",
    "    \n",
    "f1(1, 2)\n",
    "print('------------')\n",
    "f1(1, 2, c=3)\n",
    "print('------------')\n",
    "f1(1, 2, 3, 'a', 'b')\n",
    "print('------------')\n",
    "f1(1, 2, 3, 'a', 'b', x=99)\n",
    "print('------------')\n",
    "args = (1, 2, 3, 4)\n",
    "kw = {'d': 99, 'x': '#'}\n",
    "f1(*args, **kw)\n",
    "print('------------')\n",
    "args = (1, 2, 3)\n",
    "kw = {'d': 88, 'x': '*'}\n",
    "f2(*args, **kw)"
   ]
  },
  {
   "cell_type": "code",
   "execution_count": null,
   "metadata": {
    "collapsed": true
   },
   "outputs": [],
   "source": []
  }
 ],
 "metadata": {
  "kernelspec": {
   "display_name": "Python 3",
   "language": "python",
   "name": "python3"
  },
  "language_info": {
   "codemirror_mode": {
    "name": "ipython",
    "version": 3
   },
   "file_extension": ".py",
   "mimetype": "text/x-python",
   "name": "python",
   "nbconvert_exporter": "python",
   "pygments_lexer": "ipython3",
   "version": "3.5.4"
  }
 },
 "nbformat": 4,
 "nbformat_minor": 2
}
