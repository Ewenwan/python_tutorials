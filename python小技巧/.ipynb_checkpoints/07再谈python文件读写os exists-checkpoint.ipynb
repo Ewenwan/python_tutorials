{
 "cells": [
  {
   "cell_type": "markdown",
   "metadata": {},
   "source": [
    "### 懒人的try语句\n",
    "- 当使用open()方法的时候，如果文件不存在，程序会抛出FileNotFoundError异常，而如果权限不足的话，就会抛出PersmissionError异常。\n",
    "- 为了避免这些异常导致程序中断，我们可以用try...except...语句来捕捉异常，然后在except子句进行异常的处理。\n",
    "```python\n",
    "with open('python.log', 'r') as f:\n",
    "    f.read()\n",
    "```"
   ]
  },
  {
   "cell_type": "markdown",
   "metadata": {},
   "source": [
    "### 传统的OS模块\n",
    "\n",
    "- 顾名思义，Python内置的os模块是用来与OS（操作系统）进行交互的模块，它可以实现很多在命令行下做的操作，例如，获取操作系统信息、获取/修改环境变量、进行目录操作（创建、删除、遍历）和各种文件操作等等。\n",
    "- 1、os.path.exists()用于判断文件及文件夹是否存在（注意：因为两者都能判断，为了有效区分文件和文件夹，最好保证文件是带后缀的)\n",
    "- 2、os.path.isfile()、os.path.isdir() 判断给定路径是文件还是文件夹\n",
    "- 3、os.access()检测文件路径的访问权限，语法：os.access(path, mode)；其中path指的是文件或者文件夹，mode指的是要检测的模式\n",
    "- 4、os模块中其它常用方法：\n",
    "    os.mkdir()创建目录、os.rmdir()删除目录、os.rename()重命名、os.remove()删除文件、os.path.join()连接目录与文件名、os.path.split()分割目录与文件名."
   ]
  },
  {
   "cell_type": "code",
   "execution_count": 5,
   "metadata": {},
   "outputs": [],
   "source": [
    "import os"
   ]
  },
  {
   "cell_type": "code",
   "execution_count": 8,
   "metadata": {},
   "outputs": [],
   "source": [
    "# 文件存在 VS 不存在"
   ]
  },
  {
   "cell_type": "code",
   "execution_count": 9,
   "metadata": {},
   "outputs": [
    {
     "data": {
      "text/plain": [
       "True"
      ]
     },
     "execution_count": 9,
     "metadata": {},
     "output_type": "execute_result"
    }
   ],
   "source": [
    "os.path.exists(\"test.txt\")"
   ]
  },
  {
   "cell_type": "code",
   "execution_count": 10,
   "metadata": {},
   "outputs": [
    {
     "data": {
      "text/plain": [
       "False"
      ]
     },
     "execution_count": 10,
     "metadata": {},
     "output_type": "execute_result"
    }
   ],
   "source": [
    "os.path.exists('log.txt')"
   ]
  },
  {
   "cell_type": "code",
   "execution_count": 11,
   "metadata": {},
   "outputs": [],
   "source": [
    "# 文件夹存在 VS 不存在"
   ]
  },
  {
   "cell_type": "code",
   "execution_count": 16,
   "metadata": {},
   "outputs": [
    {
     "data": {
      "text/plain": [
       "False"
      ]
     },
     "execution_count": 16,
     "metadata": {},
     "output_type": "execute_result"
    }
   ],
   "source": [
    "os.path.exists(\"cat/images\")"
   ]
  },
  {
   "cell_type": "code",
   "execution_count": 23,
   "metadata": {},
   "outputs": [
    {
     "data": {
      "text/plain": [
       "True"
      ]
     },
     "execution_count": 23,
     "metadata": {},
     "output_type": "execute_result"
    }
   ],
   "source": [
    "os.path.exists(\"/home/cdl/code/python小技巧\")"
   ]
  },
  {
   "cell_type": "markdown",
   "metadata": {},
   "source": [
    "<hr>"
   ]
  },
  {
   "cell_type": "code",
   "execution_count": 25,
   "metadata": {},
   "outputs": [
    {
     "data": {
      "text/plain": [
       "False"
      ]
     },
     "execution_count": 25,
     "metadata": {},
     "output_type": "execute_result"
    }
   ],
   "source": [
    "os.path.isfile(\"/home/cdl/code/python小技巧\")"
   ]
  },
  {
   "cell_type": "code",
   "execution_count": 26,
   "metadata": {},
   "outputs": [
    {
     "data": {
      "text/plain": [
       "True"
      ]
     },
     "execution_count": 26,
     "metadata": {},
     "output_type": "execute_result"
    }
   ],
   "source": [
    "os.path.isdir(\"/home/cdl/code/python小技巧\")"
   ]
  },
  {
   "cell_type": "code",
   "execution_count": 27,
   "metadata": {},
   "outputs": [
    {
     "data": {
      "text/plain": [
       "True"
      ]
     },
     "execution_count": 27,
     "metadata": {},
     "output_type": "execute_result"
    }
   ],
   "source": [
    "os.path.isfile(\"test1.txt\")"
   ]
  },
  {
   "cell_type": "markdown",
   "metadata": {},
   "source": [
    "<hr>"
   ]
  },
  {
   "cell_type": "code",
   "execution_count": 28,
   "metadata": {},
   "outputs": [
    {
     "data": {
      "text/plain": [
       "True"
      ]
     },
     "execution_count": 28,
     "metadata": {},
     "output_type": "execute_result"
    }
   ],
   "source": [
    "os.access(\"/home/cdl/code/python小技巧\", os.F_OK)  # path存在"
   ]
  },
  {
   "cell_type": "code",
   "execution_count": 29,
   "metadata": {},
   "outputs": [
    {
     "data": {
      "text/plain": [
       "True"
      ]
     },
     "execution_count": 29,
     "metadata": {},
     "output_type": "execute_result"
    }
   ],
   "source": [
    "os.access(\"/home/cdl/code/python小技巧\", os.R_OK)  # path可读"
   ]
  },
  {
   "cell_type": "code",
   "execution_count": 30,
   "metadata": {},
   "outputs": [
    {
     "data": {
      "text/plain": [
       "True"
      ]
     },
     "execution_count": 30,
     "metadata": {},
     "output_type": "execute_result"
    }
   ],
   "source": [
    "os.access(\"/home/cdl/code/python小技巧\", os.W_OK)   # path可写"
   ]
  },
  {
   "cell_type": "code",
   "execution_count": 76,
   "metadata": {},
   "outputs": [
    {
     "data": {
      "text/plain": [
       "True"
      ]
     },
     "execution_count": 76,
     "metadata": {},
     "output_type": "execute_result"
    }
   ],
   "source": [
    "os.access(\"/home/cdl/code/python小技巧\", os.X_OK)   # path可执行"
   ]
  },
  {
   "cell_type": "markdown",
   "metadata": {},
   "source": [
    "<hr>"
   ]
  },
  {
   "cell_type": "code",
   "execution_count": 84,
   "metadata": {},
   "outputs": [],
   "source": [
    "import os\n",
    "\n",
    "path = \"/home/cdl/code/python小技巧/dana_dir\"\n",
    "os.mkdir(path)\n",
    "path = \"/home/cdl/code/python小技巧/haha1_dir\"\n",
    "os.mkdir(path)"
   ]
  },
  {
   "cell_type": "code",
   "execution_count": 78,
   "metadata": {},
   "outputs": [],
   "source": [
    "import os\n",
    "\n",
    "# os.rmdir() 方法用于删除指定路径的目录。仅当这文件夹是空的才可以, 否则, 抛出OSError\n",
    "path = \"/home/cdl/code/python小技巧/dana_dir\"\n",
    "os.rmdir(path)"
   ]
  },
  {
   "cell_type": "code",
   "execution_count": 81,
   "metadata": {},
   "outputs": [],
   "source": [
    "import os\n",
    "\n",
    "# os.rename() 方法用于命名文件或目录，从 src 到 dst,如果dst是一个存在的目录, 将抛出OSError\n",
    "\n",
    "\n",
    "src = \"/home/cdl/code/python小技巧/haha_dir/haha.txt\"\n",
    "dst = \"/home/cdl/code/python小技巧/haha_dir/haha_new.txt\"\n",
    "os.rename(src, dst)"
   ]
  },
  {
   "cell_type": "code",
   "execution_count": 82,
   "metadata": {},
   "outputs": [],
   "source": [
    "import os\n",
    "\n",
    "# os.remove() 方法用于删除指定路径的文件。如果指定的路径是一个目录，将抛出OSError\n",
    "\n",
    "path = \"/home/cdl/code/python小技巧/haha_dir/haha_new.txt\"\n",
    "os.remove(path)"
   ]
  },
  {
   "cell_type": "code",
   "execution_count": 86,
   "metadata": {},
   "outputs": [
    {
     "data": {
      "text/plain": [
       "'/home/cdl/code/python小技巧/haha_dir/testfolder'"
      ]
     },
     "execution_count": 86,
     "metadata": {},
     "output_type": "execute_result"
    }
   ],
   "source": [
    "import os\n",
    "\n",
    "# 把目录和文件名合成一个路径\n",
    "\n",
    "os.path.join('/home/cdl/code/python小技巧/haha_dir/', 'testfile.txt')\n",
    "os.path.join('/home/cdl/code/python小技巧/haha_dir/', 'testfolder')"
   ]
  },
  {
   "cell_type": "code",
   "execution_count": 89,
   "metadata": {},
   "outputs": [
    {
     "data": {
      "text/plain": [
       "('/home/cdl/code/python小技巧/haha_dir', 'haha_new.txt')"
      ]
     },
     "execution_count": 89,
     "metadata": {},
     "output_type": "execute_result"
    }
   ],
   "source": [
    "import os\n",
    "\n",
    "# 把路径分割成 dirname 和 basename，返回一个元组\n",
    "os.path.split('/home/cdl/code/python小技巧/haha_dir')\n",
    "path = \"/home/cdl/code/python小技巧/haha_dir/haha_new.txt\"\n",
    "os.path.split(path)"
   ]
  },
  {
   "cell_type": "markdown",
   "metadata": {},
   "source": [
    "<hr>"
   ]
  },
  {
   "cell_type": "markdown",
   "metadata": {},
   "source": [
    "### 时尚的pathlib模块(py3.4开始添加)"
   ]
  },
  {
   "cell_type": "code",
   "execution_count": 33,
   "metadata": {},
   "outputs": [
    {
     "data": {
      "text/plain": [
       "'test.txt'"
      ]
     },
     "execution_count": 33,
     "metadata": {},
     "output_type": "execute_result"
    }
   ],
   "source": [
    "import pathlib\n",
    "\n",
    "\n",
    "file_obj = pathlib.Path(\"test.txt\")\n",
    "file_obj.name"
   ]
  },
  {
   "cell_type": "code",
   "execution_count": 34,
   "metadata": {},
   "outputs": [
    {
     "data": {
      "text/plain": [
       "True"
      ]
     },
     "execution_count": 34,
     "metadata": {},
     "output_type": "execute_result"
    }
   ],
   "source": [
    "file_obj.exists()"
   ]
  },
  {
   "cell_type": "code",
   "execution_count": 35,
   "metadata": {},
   "outputs": [
    {
     "data": {
      "text/plain": [
       "False"
      ]
     },
     "execution_count": 35,
     "metadata": {},
     "output_type": "execute_result"
    }
   ],
   "source": [
    "file_obj.is_dir()"
   ]
  },
  {
   "cell_type": "code",
   "execution_count": 36,
   "metadata": {},
   "outputs": [
    {
     "data": {
      "text/plain": [
       "True"
      ]
     },
     "execution_count": 36,
     "metadata": {},
     "output_type": "execute_result"
    }
   ],
   "source": [
    "file_obj.is_file()"
   ]
  },
  {
   "cell_type": "markdown",
   "metadata": {},
   "source": [
    "### 几种方法优劣对比\n",
    "- 首先，try语句的缺点是没有主动做判断，不方便根据文件是否存在而做针对性的处理，它把必要的逻辑交给异常捕获，多少显得“不负责任”；try语句也有优点，一是不需要引入模块，不需要区分各种使用方法，二是将其它可能存在的异常都打包，避免多样系统或使用场景的遗漏。\n",
    "- os模块是传统的老模块了，在使用上和维护上都会比较顺畅；它的主要缺点在于有的方法比较繁琐，由于使用字符串来表示文件路径，这会导致路径拼接上的麻烦，另外，不同操作系统在路径分隔符上的差异（Windows使用\\分隔符，Linux和Mac使用/分隔符），也可能导致难以发现的错误。\n",
    "- 相对来说，pathlib功能最强大，但普及度比较低，有一定的学习门槛；它主要的优点是面向对象，同时，因为对不同操作系统的特性做了封装，能有效避免字符串表示文件路径的难题。它的不足之处是没有像os.access()可以检测访问权限的方法，虽然这个方法基本不会使用到。\n",
    "- 下面比较了三种拼接文件路径的方法，方法一未对分隔符做处理，不能保证在每个操作系统都能找到；方法二需要反复使用os.path.join；方法三只用“/\"就能拼接路径，而且肯定支持多操作系统。"
   ]
  },
  {
   "cell_type": "code",
   "execution_count": 37,
   "metadata": {},
   "outputs": [],
   "source": [
    "# 错误拼接：未处理分隔符"
   ]
  },
  {
   "cell_type": "code",
   "execution_count": 38,
   "metadata": {},
   "outputs": [],
   "source": [
    "data_folder = \"source_data/text_files/\"\n",
    "file_to_open = data_folder + \"test.txt\""
   ]
  },
  {
   "cell_type": "code",
   "execution_count": 39,
   "metadata": {},
   "outputs": [],
   "source": [
    "# os模块拼接"
   ]
  },
  {
   "cell_type": "code",
   "execution_count": 40,
   "metadata": {},
   "outputs": [],
   "source": [
    "import os\n",
    "\n",
    "data_folder = os.path.join(\"source_data\", \"text_files\")\n",
    "file_to_open = os.path.join(\"data_folder\", \"test.txt\")"
   ]
  },
  {
   "cell_type": "code",
   "execution_count": 41,
   "metadata": {},
   "outputs": [],
   "source": [
    "# pathlib模块拼接"
   ]
  },
  {
   "cell_type": "code",
   "execution_count": 42,
   "metadata": {},
   "outputs": [],
   "source": [
    "from pathlib import Path\n",
    "data_folder = Path(\"source_data/text_files/\")\n",
    "file_to_open = data_folder / \"test.txt\""
   ]
  },
  {
   "cell_type": "markdown",
   "metadata": {},
   "source": [
    "### 总结\n",
    "- 如果文件路径简单，仅仅要用到exists()、is_dir()、is_file() 这几个方法的话，os.path模块和pathlib.Path模块不分伯仲，都很好用，但是如果考虑到繁复的路径拼接的话，pathlib.Path就会胜出一筹。"
   ]
  },
  {
   "cell_type": "code",
   "execution_count": null,
   "metadata": {},
   "outputs": [],
   "source": []
  }
 ],
 "metadata": {
  "kernelspec": {
   "display_name": "Python 3",
   "language": "python",
   "name": "python3"
  },
  "language_info": {
   "codemirror_mode": {
    "name": "ipython",
    "version": 3
   },
   "file_extension": ".py",
   "mimetype": "text/x-python",
   "name": "python",
   "nbconvert_exporter": "python",
   "pygments_lexer": "ipython3",
   "version": "3.5.6"
  }
 },
 "nbformat": 4,
 "nbformat_minor": 2
}
