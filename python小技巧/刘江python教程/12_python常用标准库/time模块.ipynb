{
 "cells": [
  {
   "cell_type": "code",
   "execution_count": 5,
   "metadata": {},
   "outputs": [
    {
     "name": "stdout",
     "output_type": "stream",
     "text": [
      "time.struct_time(tm_year=2018, tm_mon=11, tm_mday=14, tm_hour=10, tm_min=28, tm_sec=59, tm_wday=2, tm_yday=318, tm_isdst=0)\n",
      "10\n",
      "318\n",
      "(14, 10, 28, 59)\n"
     ]
    }
   ],
   "source": [
    "import time\n",
    "\n",
    "# 在Python中，用三种方式来表示时间，分别是时间戳、格式化时间字符串和结构化时间\n",
    "'''\n",
    "时间戳（timestamp）：也就是1970年1月1日之后的秒，例如1506388236.216345，可以通过time.time()获得。时间戳是一个浮点数，可以进行加减运算，但请注意不要让结果超出取值范围。\n",
    "格式化的时间字符串（string_time）：也就是年月日时分秒这样的我们常见的时间字符串，例如2017-09-26 09:12:48，可以通过time.localtime()获得;\n",
    "结构化时间（struct_time）：一个包含了年月日时分秒的多元元组，例如time.struct_time(tm_year=2017, tm_mon=9, tm_mday=26, tm_hour=9, tm_min=14, tm_sec=50, tm_wday=1, tm_yday=269, tm_isdst=0)，可以通过time.strftime('%Y-%m-%d')获得。\n",
    "'''\n",
    "# DST（Daylight Saving Time）即夏令时\n",
    "# UTC（Coordinated Universal Time，世界协调时），亦即格林威治天文时间，世界标准时间。我们中国为东八区，比UTC早8个小时，也就是UTC+8\n",
    "\n",
    "# 1.结构化时间:\n",
    "time.localtime()\n",
    "## 结构化时间元组共有9个元素，按顺序排列如下表：\n",
    "'''\n",
    "索引  属性                   取值范围\n",
    "0    tm_year（年）          比如2017\n",
    "1    tm_mon（月）           1 - 12\n",
    "2    tm_mday（日）          1 - 31\n",
    "3    tm_hour（时）          0 - 23\n",
    "4    tm_min（分）           0 - 59\n",
    "5    tm_sec（秒）           0 - 61\n",
    "6    tm_wday（weekday）     0 - 6（0表示周一）\n",
    "7    tm_yday（一年中的第几天）1 - 366\n",
    "8    tm_isdst（是否是夏令时） 默认为-1\n",
    "'''\n",
    "# 结构化时间是一个元组，那么就可以通过索引进行取值，也可以进行分片，或者通过属性名获取对应的值\n",
    "import time\n",
    "\n",
    "lt = time.localtime()\n",
    "print(lt)\n",
    "print(lt[3])\n",
    "print(lt.tm_yday)\n",
    "print(lt[2:6])"
   ]
  },
  {
   "cell_type": "code",
   "execution_count": 9,
   "metadata": {},
   "outputs": [
    {
     "data": {
      "text/plain": [
       "'2018-11-14 10:31:02'"
      ]
     },
     "execution_count": 9,
     "metadata": {},
     "output_type": "execute_result"
    }
   ],
   "source": [
    "# 2.格式化时间字符串\n",
    "\n",
    "## 利用time.strftime('%Y-%m-%d %H:%M:%S')等方法可以获得一个格式化时间字符串\n",
    "time.strftime('%Y-%m-%d %H:%M:%S')\n",
    "# 注意其中的空格、短横线和冒号都是美观修饰符号，真正起控制作用的是百分符\n",
    "\n",
    "'''\n",
    "格式        含义\n",
    "%a        本地星期名称的简写（如星期四为Thu）\n",
    "%A        本地星期名称的全称（如星期四为Thursday）\n",
    "%b        本地月份名称的简写（如八月份为agu）\n",
    "%B        本地月份名称的全称（如八月份为august）\n",
    "%c        本地相应的日期和时间的字符串表示（如：15/08/27 10:20:06）\n",
    "%d        一个月中的第几天（01 - 31）\n",
    "%f        微秒（范围0.999999）\n",
    "%H        一天中的第几个小时（24小时制，00 - 23）\n",
    "%I        第几个小时（12小时制，0 - 11）\n",
    "%j        一年中的第几天（001 - 366）\n",
    "%m        月份（01 - 12）\n",
    "%M        分钟数（00 - 59）\n",
    "%p        本地am或者pm的标识符\n",
    "%S        秒（00 - 61）\n",
    "%U        一年中的星期数。（00 - 53星期天是一个星期的开始。）第一个星期天之 前的所有天数都放在第0周。\n",
    "%w        一个星期中的第几天（0 - 6，0是星期天）\n",
    "%W        和%U基本相同，不同的是%W以星期一为一个星期的开始。\n",
    "%x        本地相应日期字符串（如15/08/01）\n",
    "%X        本地相应时间字符串（如08:08:10）\n",
    "%y        去掉世纪的年份（00 - 99）两个数字表示的年份\n",
    "%Y        完整的年份（4个数字表示年份）\n",
    "%z        与UTC时间的间隔（如果是本地时间，返回空字符串）\n",
    "%Z        时区的名字（如果是本地时间，返回空字符串）\n",
    "%%        ‘%’字符\n",
    "'''\n"
   ]
  },
  {
   "cell_type": "code",
   "execution_count": 12,
   "metadata": {},
   "outputs": [
    {
     "name": "stdout",
     "output_type": "stream",
     "text": [
      "1.0014152526855469\n"
     ]
    }
   ],
   "source": [
    "# 3.time模块主要方法\n",
    "# time.sleep(t)   用来睡眠或者暂停程序t秒，t可以是浮点数或整数\n",
    "time.time()  # 返回当前系统时间戳。时间戳可以做算术运算\n",
    "'''计算程序运行的时间'''\n",
    "def func():\n",
    "    time.sleep(1.0)\n",
    "    pass\n",
    "\n",
    "t1 = time.time()\n",
    "func()\n",
    "t2 = time.time()\n",
    "print(t2-t1)"
   ]
  },
  {
   "cell_type": "code",
   "execution_count": 15,
   "metadata": {},
   "outputs": [
    {
     "name": "stdout",
     "output_type": "stream",
     "text": [
      "time.struct_time(tm_year=2018, tm_mon=11, tm_mday=14, tm_hour=2, tm_min=38, tm_sec=9, tm_wday=2, tm_yday=318, tm_isdst=0)\n",
      "time.struct_time(tm_year=2018, tm_mon=11, tm_mday=14, tm_hour=2, tm_min=21, tm_sec=29, tm_wday=2, tm_yday=318, tm_isdst=0)\n"
     ]
    }
   ],
   "source": [
    "# time.gmtime([secs]) 将一个时间戳转换为UTC时区的结构化时间,可选参数secs的默认值为time.time()\n",
    "print(time.gmtime())\n",
    "t = time.time() - 1000\n",
    "print(time.gmtime(t))"
   ]
  },
  {
   "cell_type": "code",
   "execution_count": 19,
   "metadata": {},
   "outputs": [
    {
     "name": "stdout",
     "output_type": "stream",
     "text": [
      "time.struct_time(tm_year=2018, tm_mon=11, tm_mday=14, tm_hour=10, tm_min=40, tm_sec=28, tm_wday=2, tm_yday=318, tm_isdst=0)\n",
      "time.struct_time(tm_year=2018, tm_mon=11, tm_mday=14, tm_hour=10, tm_min=39, tm_sec=28, tm_wday=2, tm_yday=318, tm_isdst=0)\n",
      "time.struct_time(tm_year=2018, tm_mon=11, tm_mday=14, tm_hour=13, tm_min=27, tm_sec=8, tm_wday=2, tm_yday=318, tm_isdst=0)\n"
     ]
    }
   ],
   "source": [
    "# time.localtime([secs])  将一个时间戳转换为当前时区的结构化时间。如果secs参数未提供，则以当前时间为准，即time.time()\n",
    "print(time.localtime())\n",
    "print(time.localtime(1542163168))\n",
    "print(time.localtime(time.time() + 10000))"
   ]
  },
  {
   "cell_type": "code",
   "execution_count": 23,
   "metadata": {},
   "outputs": [
    {
     "name": "stdout",
     "output_type": "stream",
     "text": [
      "Wed Nov 14 10:42:19 2018\n",
      "Wed Nov 14 10:42:19 2018\n",
      "Sun Jul 27 00:25:07 2014\n",
      "Sun Mar 10 04:28:59 2019\n"
     ]
    }
   ],
   "source": [
    "# time.ctime([secs])   把一个时间戳转化为本地时间的格式化字符串。默认使用time.time()作为参数\n",
    "print(time.ctime())\n",
    "print(time.ctime(time.time()))\n",
    "print(time.ctime(1406391907))\n",
    "print(time.ctime(time.time() + 10000000))"
   ]
  },
  {
   "cell_type": "code",
   "execution_count": 27,
   "metadata": {},
   "outputs": [
    {
     "name": "stdout",
     "output_type": "stream",
     "text": [
      "Wed Nov 14 10:44:36 2018\n",
      "Wed Nov 14 02:44:36 2018\n"
     ]
    }
   ],
   "source": [
    "# time.asctime([t])  \n",
    "'''把一个结构化时间转换为Sun Aug 23 14:31:59 2017这种形式的格式化时间字符串。默认将time.localtime()作为参数'''\n",
    "time.asctime()\n",
    "print(time.asctime(time.localtime()))\n",
    "print(time.asctime(time.gmtime()))"
   ]
  },
  {
   "cell_type": "code",
   "execution_count": 28,
   "metadata": {},
   "outputs": [
    {
     "data": {
      "text/plain": [
       "1542163587.0"
      ]
     },
     "execution_count": 28,
     "metadata": {},
     "output_type": "execute_result"
    }
   ],
   "source": [
    "# time.mktime(t)\n",
    "'''\n",
    "将一个结构化时间转化为时间戳。time.mktime()执行与gmtime(),localtime()相反的操作\n",
    "它接收struct_time对象作为参数,返回用秒数表示时间的浮点数\n",
    "'''\n",
    "time.mktime(time.localtime())"
   ]
  },
  {
   "cell_type": "code",
   "execution_count": 30,
   "metadata": {},
   "outputs": [
    {
     "name": "stdout",
     "output_type": "stream",
     "text": [
      "2018-11-14 10:49:28\n"
     ]
    }
   ],
   "source": [
    "# time.strftime(format [, t])\n",
    "'''\n",
    "返回格式化字符串表示的当地时间。把一个struct_time（如time.localtime()和time.gmtime()的返回值）转化为格式化的时间字符串，显示的格式由参数format决定。\n",
    "如果未指定t，默认传入time.localtime()\n",
    "'''\n",
    "time.strftime('%Y-%m-%d %H:%M:%S')\n",
    "print(time.strftime('%Y-%m-%d %H:%M:%S', time.localtime()))"
   ]
  },
  {
   "cell_type": "code",
   "execution_count": 33,
   "metadata": {},
   "outputs": [
    {
     "name": "stdout",
     "output_type": "stream",
     "text": [
      "time.struct_time(tm_year=2018, tm_mon=11, tm_mday=14, tm_hour=10, tm_min=50, tm_sec=54, tm_wday=2, tm_yday=318, tm_isdst=-1)\n",
      "2018\n",
      "11\n",
      "14\n",
      "10\n",
      "50\n",
      "54\n",
      "2\n",
      "318\n",
      "-1\n"
     ]
    }
   ],
   "source": [
    "# time.strptime(string[,format])\n",
    "'''\n",
    "将格式化时间字符串转化成结构化时间。该方法是time.strftime()方法的逆操作。time.strptime()方法根据指定的格式把一个时间字符串解析为时间元组\n",
    "注意: 提供的字符串要和format参数的格式一一对应，如果string中日期间使用“-”分隔，format中也必须使用“-”分隔，时间中使用冒号“:”分隔，后面也必须使用冒号分隔\n",
    "'''\n",
    "s = '2018-11-14 10:50:54'\n",
    "t = time.strptime(s, '%Y-%m-%d %H:%M:%S')\n",
    "print(t)\n",
    "for i in t:\n",
    "    print(i)"
   ]
  },
  {
   "cell_type": "code",
   "execution_count": 45,
   "metadata": {},
   "outputs": [
    {
     "name": "stdout",
     "output_type": "stream",
     "text": [
      "0.002742000000000022 seconds process time!\n"
     ]
    }
   ],
   "source": [
    "# time.clock()\n",
    "'''\n",
    "返回执行当前程序的CPU时间。用来衡量不同程序的耗时,该方法在不同的系统上含义不同\n",
    "'''\n",
    "import time\n",
    "\n",
    "def procedure():\n",
    "    time.sleep(3)\n",
    "\n",
    "time1 = time.clock()\n",
    "procedure()\n",
    "print(time.clock() - time1, \"seconds process time!\")"
   ]
  },
  {
   "cell_type": "code",
   "execution_count": null,
   "metadata": {
    "collapsed": true
   },
   "outputs": [],
   "source": [
    "# 时间格式之间的转换\n",
    "'''\n",
    "从               到             方法\n",
    "时间戳          UTC结构化时间    gmtime()\n",
    "时间戳          本地结构化时间    localtime()\n",
    "UTC结构化时间    时间戳          calendar.timegm()\n",
    "本地结构化时间    时间戳          mktime()\n",
    "结构化时间       格式化字符串     strftime()\n",
    "格式化字符串     结构化时间       strptime()\n",
    "'''"
   ]
  }
 ],
 "metadata": {
  "kernelspec": {
   "display_name": "Python 3",
   "language": "python",
   "name": "python3"
  },
  "language_info": {
   "codemirror_mode": {
    "name": "ipython",
    "version": 3
   },
   "file_extension": ".py",
   "mimetype": "text/x-python",
   "name": "python",
   "nbconvert_exporter": "python",
   "pygments_lexer": "ipython3",
   "version": "3.5.4"
  }
 },
 "nbformat": 4,
 "nbformat_minor": 2
}
