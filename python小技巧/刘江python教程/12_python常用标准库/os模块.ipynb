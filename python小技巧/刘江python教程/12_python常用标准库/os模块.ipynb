{
 "cells": [
  {
   "cell_type": "code",
   "execution_count": 1,
   "metadata": {},
   "outputs": [
    {
     "name": "stdout",
     "output_type": "stream",
     "text": [
      "当前操作系统名称: posix\n",
      "环境变量： environ({'JPY_PARENT_PID': '4612', 'CONDA_PS1_BACKUP': '\\\\[\\\\e]0;\\\\u@\\\\h: \\\\w\\\\a\\\\]${debian_chroot:+($debian_chroot)}\\\\[\\\\033[01;32m\\\\]\\\\u@\\\\h\\\\[\\\\033[00m\\\\]:\\\\[\\\\033[01;34m\\\\]\\\\w\\\\[\\\\033[00m\\\\]\\\\$ ', 'UPSTART_JOB': 'unity7', 'OLDPWD': '/home/cdl', 'UPSTART_INSTANCE': '', 'CONDA_PATH_BACKUP': '/opt/ros/kinetic/bin:/home/cdl/software/anaconda3/bin:/home/cdl/bin:/home/cdl/.local/bin:/usr/local/sbin:/usr/local/bin:/usr/sbin:/usr/bin:/sbin:/bin:/usr/games:/usr/local/games:/snap/bin', 'XDG_VTNR': '7', 'CONDA_DEFAULT_ENV': 'py35', 'PAGER': 'cat', 'DISPLAY': ':0', 'XDG_SESSION_DESKTOP': 'ubuntu', 'DEFAULTS_PATH': '/usr/share/gconf/ubuntu.default.path', '_': '/home/cdl/.conda/envs/py35/bin/jupyter', 'XDG_SEAT': 'seat0', 'XDG_SESSION_ID': 'c2', 'CLUTTER_IM_MODULE': 'xim', 'UPSTART_EVENTS': 'xsession started', 'LOGNAME': 'cdl', 'XDG_DATA_DIRS': '/usr/share/ubuntu:/usr/share/gnome:/usr/local/share:/usr/share:/var/lib/snapd/desktop', 'GTK2_MODULES': 'overlay-scrollbar', 'XDG_MENU_PREFIX': 'gnome-', 'UNITY_DEFAULT_PROFILE': 'unity', 'JOB': 'unity-settings-daemon', 'XDG_CURRENT_DESKTOP': 'Unity', 'SHLVL': '1', 'LESSOPEN': '| /usr/bin/lesspipe %s', 'PYTHONPATH': '/home/cdl/tutorial_ws/devel/lib/python3/dist-packages:/opt/ros/kinetic/lib/python2.7/dist-packages', 'UPSTART_SESSION': 'unix:abstract=/com/ubuntu/upstart-session/1000/1276', 'CONDA_PREFIX': '/home/cdl/.conda/envs/py35', 'QT_QPA_PLATFORMTHEME': 'appmenu-qt5', 'XDG_SEAT_PATH': '/org/freedesktop/DisplayManager/Seat0', 'CLICOLOR': '1', 'QT_ACCESSIBILITY': '1', 'CMAKE_PREFIX_PATH': '/home/cdl/tutorial_ws/devel:/opt/ros/kinetic', 'SESSIONTYPE': 'gnome-session', 'XAUTHORITY': '/home/cdl/.Xauthority', 'GTK_MODULES': 'gail:atk-bridge:unity-gtk-module', 'UNITY_HAS_3D_SUPPORT': 'true', 'GPG_AGENT_INFO': '/home/cdl/.gnupg/S.gpg-agent:0:1', 'ROS_DISTRO': 'kinetic', 'ROS_PACKAGE_PATH': '/home/cdl/tutorial_ws/src:/opt/ros/kinetic/share', 'PKG_CONFIG_PATH': '/home/cdl/tutorial_ws/devel/lib/pkgconfig:/opt/ros/kinetic/lib/pkgconfig:/opt/ros/kinetic/lib/x86_64-linux-gnu/pkgconfig', 'QT_IM_MODULE': 'fcitx', 'ROS_VERSION': '1', 'WINDOWID': '62914570', 'XDG_SESSION_TYPE': 'x11', 'SSH_AUTH_SOCK': '/run/user/1000/keyring/ssh', 'USER': 'cdl', 'GNOME_KEYRING_PID': '', 'PATH': '/home/cdl/.conda/envs/py35/bin:/home/cdl/.conda/envs/py35/bin:/opt/ros/kinetic/bin:/home/cdl/software/anaconda3/bin:/home/cdl/bin:/home/cdl/.local/bin:/usr/local/sbin:/usr/local/bin:/usr/sbin:/usr/bin:/sbin:/bin:/usr/games:/usr/local/games:/snap/bin', 'GNOME_DESKTOP_SESSION_ID': 'this-is-deprecated', 'ROS_ETC_DIR': '/opt/ros/kinetic/etc/ros', 'GNOME_KEYRING_CONTROL': '', 'GTK_IM_MODULE': 'fcitx', 'GDMSESSION': 'ubuntu', 'GSETTINGS_SCHEMA_DIR': '/home/cdl/data', 'SHELL': '/bin/bash', 'QT4_IM_MODULE': 'fcitx', 'COMPIZ_BIN_PATH': '/usr/bin/', 'VTE_VERSION': '4205', 'XDG_CONFIG_DIRS': '/etc/xdg/xdg-ubuntu:/usr/share/upstart/xdg:/etc/xdg', 'INSTANCE': '', 'TERM': 'xterm-color', 'LS_COLORS': 'rs=0:di=01;34:ln=01;36:mh=00:pi=40;33:so=01;35:do=01;35:bd=40;33;01:cd=40;33;01:or=40;31;01:mi=00:su=37;41:sg=30;43:ca=30;41:tw=30;42:ow=34;42:st=37;44:ex=01;32:*.tar=01;31:*.tgz=01;31:*.arc=01;31:*.arj=01;31:*.taz=01;31:*.lha=01;31:*.lz4=01;31:*.lzh=01;31:*.lzma=01;31:*.tlz=01;31:*.txz=01;31:*.tzo=01;31:*.t7z=01;31:*.zip=01;31:*.z=01;31:*.Z=01;31:*.dz=01;31:*.gz=01;31:*.lrz=01;31:*.lz=01;31:*.lzo=01;31:*.xz=01;31:*.bz2=01;31:*.bz=01;31:*.tbz=01;31:*.tbz2=01;31:*.tz=01;31:*.deb=01;31:*.rpm=01;31:*.jar=01;31:*.war=01;31:*.ear=01;31:*.sar=01;31:*.rar=01;31:*.alz=01;31:*.ace=01;31:*.zoo=01;31:*.cpio=01;31:*.7z=01;31:*.rz=01;31:*.cab=01;31:*.jpg=01;35:*.jpeg=01;35:*.gif=01;35:*.bmp=01;35:*.pbm=01;35:*.pgm=01;35:*.ppm=01;35:*.tga=01;35:*.xbm=01;35:*.xpm=01;35:*.tif=01;35:*.tiff=01;35:*.png=01;35:*.svg=01;35:*.svgz=01;35:*.mng=01;35:*.pcx=01;35:*.mov=01;35:*.mpg=01;35:*.mpeg=01;35:*.m2v=01;35:*.mkv=01;35:*.webm=01;35:*.ogm=01;35:*.mp4=01;35:*.m4v=01;35:*.mp4v=01;35:*.vob=01;35:*.qt=01;35:*.nuv=01;35:*.wmv=01;35:*.asf=01;35:*.rm=01;35:*.rmvb=01;35:*.flc=01;35:*.avi=01;35:*.fli=01;35:*.flv=01;35:*.gl=01;35:*.dl=01;35:*.xcf=01;35:*.xwd=01;35:*.yuv=01;35:*.cgm=01;35:*.emf=01;35:*.ogv=01;35:*.ogx=01;35:*.aac=00;36:*.au=00;36:*.flac=00;36:*.m4a=00;36:*.mid=00;36:*.midi=00;36:*.mka=00;36:*.mp3=00;36:*.mpc=00;36:*.ogg=00;36:*.ra=00;36:*.wav=00;36:*.oga=00;36:*.opus=00;36:*.spx=00;36:*.xspf=00;36:', 'SESSION': 'ubuntu', 'MANDATORY_PATH': '/usr/share/gconf/ubuntu.mandatory.path', 'XDG_RUNTIME_DIR': '/run/user/1000', 'LESSCLOSE': '/usr/bin/lesspipe %s %s', 'HOME': '/home/cdl', 'GIT_PAGER': 'cat', 'DBUS_SESSION_BUS_ADDRESS': 'unix:abstract=/tmp/dbus-ansYmAOaow', 'DESKTOP_SESSION': 'ubuntu', 'PS1': '(py35) \\\\[\\\\e]0;\\\\u@\\\\h: \\\\w\\\\a\\\\]${debian_chroot:+($debian_chroot)}\\\\[\\\\033[01;32m\\\\]\\\\u@\\\\h\\\\[\\\\033[00m\\\\]:\\\\[\\\\033[01;34m\\\\]\\\\w\\\\[\\\\033[00m\\\\]\\\\$ ', 'ROS_MASTER_URI': 'http://localhost:11311', 'LD_LIBRARY_PATH': '/home/cdl/tutorial_ws/devel/lib:/opt/ros/kinetic/lib:/opt/ros/kinetic/lib/x86_64-linux-gnu', 'QT_LINUX_ACCESSIBILITY_ALWAYS_ON': '1', 'XDG_SESSION_PATH': '/org/freedesktop/DisplayManager/Session0', 'ROS_ROOT': '/opt/ros/kinetic/share/ros', 'PWD': '/home/cdl/virtual_env', 'MPLBACKEND': 'module://ipykernel.pylab.backend_inline', 'ROSLISP_PACKAGE_DIRECTORIES': '/home/cdl/tutorial_ws/devel/share/common-lisp', 'COMPIZ_CONFIG_PROFILE': 'ubuntu', 'LANG': 'zh_CN.UTF-8', 'XMODIFIERS': '@im=fcitx', 'XDG_GREETER_DATA_DIR': '/var/lib/lightdm-data/cdl', 'SESSION_MANAGER': 'local/cdl-Inspiron-5421:@/tmp/.ICE-unix/1680,unix/cdl-Inspiron-5421:/tmp/.ICE-unix/1680', 'LANGUAGE': 'zh_CN:zh', 'GDM_LANG': 'zh_CN', 'IM_CONFIG_PHASE': '1'})\n",
      "当前系统的路径分隔符: /\n",
      "可替代的路径分隔符: None\n",
      "文件名与文件扩展名之间的分隔符: .\n",
      "PATH环境变量中的分隔符: :\n",
      "行结束符: \n",
      "\n",
      "在不同的系统上null设备的路径: /dev/null\n"
     ]
    }
   ],
   "source": [
    "# os------os模块的主要功能：系统相关、目录及文件操作、执行命令和管理进程\n",
    "import os\n",
    "\n",
    "# 1. 系统相关\n",
    "'''\n",
    "方法和变量          用途\n",
    "os.name           查看当前操作系统的名称。windows平台下返回‘nt’，Linux则返回‘posix’。\n",
    "os.environ        获取系统环境变量\n",
    "os.sep            当前平台的路径分隔符。在windows下，为‘\\’，在POSIX系统中，为‘/’。\n",
    "os.altsep         可替代的路径分隔符，在Windows中为‘/’。\n",
    "os.extsep         文件名和文件扩展名之间分隔的符号，在Windows下为‘.’。\n",
    "os.pathsep        PATH环境变量中的分隔符，在POSIX系统中为‘:’，在Windows中为‘;’。\n",
    "os.linesep        行结束符。在不同的系统中行尾的结束符是不同的，例如在Windows下为‘\\r\\n’。\n",
    "os.devnull        在不同的系统上null设备的路径，在Windows下为‘nul’，在POSIX下为‘/dev/null’。\n",
    "os.defpath        当使用exec函数族的时候，如果没有指定PATH环境变量，则默认会查找os.defpath中的值作为子进程PATH的值。\n",
    "'''\n",
    "print('当前操作系统名称:',os.name)\n",
    "print('环境变量：', os.environ)\n",
    "print('当前系统的路径分隔符:', os.sep)\n",
    "print('可替代的路径分隔符:', os.altsep)\n",
    "print('文件名与文件扩展名之间的分隔符:', os.extsep)\n",
    "print('PATH环境变量中的分隔符:', os.pathsep)\n",
    "print('行结束符:', os.linesep)\n",
    "print('在不同的系统上null设备的路径:', os.devnull)"
   ]
  },
  {
   "cell_type": "code",
   "execution_count": 43,
   "metadata": {},
   "outputs": [
    {
     "name": "stdout",
     "output_type": "stream",
     "text": [
      "获取当前工作目录: /home/cdl/virtual_env/python_code/python小技巧/刘江python教程\n",
      "获取当前工作目录: /home/cdl/virtual_env/python_code/python小技巧/刘江python教程/12_python常用标准库\n",
      "当前目录: .\n",
      "当前目录的父目录: ..\n"
     ]
    }
   ],
   "source": [
    "# 2. 文件和目录操作\n",
    "'''\n",
    "方法和变量                                      用途\n",
    "os.getcwd()                              获取当前工作目录，即当前python脚本工作的目录路径\n",
    "os.chdir(\"dirname\")                      改变当前脚本工作目录；相当于shell下cd\n",
    "os.curdir                                返回当前目录: ('.')\n",
    "os.pardir                                获取当前目录的父目录字符串名：('..')\n",
    "os.makedirs('dir1/dir2')                 可生成多层递归目录\n",
    "os.removedirs(‘dirname1’)                递归删除空目录（要小心）\n",
    "os.mkdir('dirname')                      生成单级目录\n",
    "os.rmdir('dirname')                      删除单级空目录，若目录不为空则无法删除并报错\n",
    "os.listdir('dirname')                    \n",
    "os.remove('filename')                    删除一个文件\n",
    "os.rename(\"oldname\",\"new\")               重命名文件/目录\n",
    "os.stat('path/filename')                 获取文件/目录信息\n",
    "os.path.abspath(path)                    返回path规范化的绝对路径\n",
    "os.path.split(path)                      将path分割成目录和文件名二元组返回\n",
    "os.path.dirname(path)                    返回path的目录。其实就是os.path.split(path)的第一个元素\n",
    "os.path.basename(path)                   返回path最后的文件名。如果path以／或\\结尾，那么就会返回空值。\n",
    "os.path.exists(path或者file)              如果path存在，返回True；如果path不存在，返回False\n",
    "os.path.isabs(path)                      如果path是绝对路径，返回True\n",
    "os.path.isfile(path)                     如果path是一个存在的文件，返回True。否则返回False\n",
    "os.path.isdir(path)                      如果path是一个存在的目录，则返回True。否则返回False\n",
    "os.path.join(path1[, path2[, ...]])      将多个路径组合后返回，第一个绝对路径之前的参数将被忽略\n",
    "os.path.getatime(path)                   返回path所指向的文件或者目录的最后存取时间\n",
    "os.path.getmtime(path)                   返回path所指向的文件或者目录的最后修改时间\n",
    "os.path.getsize(filename)                返回文件包含的字符数量\n",
    "'''\n",
    "# windows系统下文件路径，比如你要引用d盘下的1.txt文件，路径要以字符串的形式写成'd:\\\\1.txt'或者r'd:\\1.txtt\n",
    "print('获取当前工作目录:', os.getcwd())\n",
    "os.chdir(\"/home/cdl/virtual_env/python_code/python小技巧/刘江python教程/12_python常用标准库\")  # 切换目录\n",
    "print('获取当前工作目录:', os.getcwd())\n",
    "print('当前目录:', os.curdir)\n",
    "print('当前目录的父目录:', os.pardir)"
   ]
  },
  {
   "cell_type": "code",
   "execution_count": 63,
   "metadata": {
    "collapsed": true
   },
   "outputs": [],
   "source": [
    "os.makedirs('dir11/dir2')  # 递归创建目录\n",
    "os.makedirs(\"dir1/dir\")"
   ]
  },
  {
   "cell_type": "code",
   "execution_count": 65,
   "metadata": {},
   "outputs": [
    {
     "name": "stdout",
     "output_type": "stream",
     "text": [
      "/home/cdl/virtual_env/python_code/python小技巧/刘江python教程/12_python常用标准库\n",
      "dir1\n",
      "dir11\n",
      "os模块.ipynb\n"
     ]
    }
   ],
   "source": [
    "%%bash\n",
    "! pwd\n",
    "! ls"
   ]
  },
  {
   "cell_type": "code",
   "execution_count": 66,
   "metadata": {},
   "outputs": [
    {
     "name": "stdout",
     "output_type": "stream",
     "text": [
      "dir1  os模块.ipynb\r\n"
     ]
    }
   ],
   "source": [
    "os.removedirs('dir11/dir2')  # 递归删除目录\n",
    "! ls"
   ]
  },
  {
   "cell_type": "code",
   "execution_count": 82,
   "metadata": {},
   "outputs": [
    {
     "name": "stdout",
     "output_type": "stream",
     "text": [
      "列出指定目录下的所有文件和子目录，包括隐藏文件: ['os模块.ipynb', 'dir1', 'dir2', '.ipynb_checkpoints']\n",
      "dir1  dir2  os模块.ipynb\r\n"
     ]
    }
   ],
   "source": [
    "print('列出指定目录下的所有文件和子目录，包括隐藏文件:', os.listdir())\n",
    "os.mkdir('dir2') # 生成单级目录\n",
    "! ls"
   ]
  },
  {
   "cell_type": "code",
   "execution_count": 84,
   "metadata": {},
   "outputs": [
    {
     "name": "stdout",
     "output_type": "stream",
     "text": [
      "dir1  os模块.ipynb\r\n"
     ]
    }
   ],
   "source": [
    "os.rmdir('dir2') # 删除单级目录\n",
    "! ls"
   ]
  },
  {
   "cell_type": "code",
   "execution_count": 5,
   "metadata": {},
   "outputs": [
    {
     "name": "stdout",
     "output_type": "stream",
     "text": [
      "haha.txt  os模块.ipynb\trename_dir1\r\n"
     ]
    }
   ],
   "source": [
    "os.rename('dir1', 'rename_dir1')\n",
    "! ls"
   ]
  },
  {
   "cell_type": "code",
   "execution_count": 6,
   "metadata": {},
   "outputs": [
    {
     "name": "stdout",
     "output_type": "stream",
     "text": [
      "os模块.ipynb  rename_dir1\r\n"
     ]
    }
   ],
   "source": [
    "os.remove('haha.txt')  # 删除一个文件\n",
    "! ls"
   ]
  },
  {
   "cell_type": "code",
   "execution_count": 7,
   "metadata": {},
   "outputs": [
    {
     "data": {
      "text/plain": [
       "os.stat_result(st_mode=16893, st_ino=2904038, st_dev=2057, st_nlink=4, st_uid=1000, st_gid=1000, st_size=4096, st_atime=1541820570, st_mtime=1541820610, st_ctime=1541820610)"
      ]
     },
     "execution_count": 7,
     "metadata": {},
     "output_type": "execute_result"
    }
   ],
   "source": [
    "os.stat(os.getcwd())   # 获取目录/文件的信息"
   ]
  },
  {
   "cell_type": "code",
   "execution_count": 10,
   "metadata": {},
   "outputs": [
    {
     "name": "stdout",
     "output_type": "stream",
     "text": [
      "os模块.ipynb  rename_dir1  test\r\n"
     ]
    }
   ],
   "source": [
    "# 更多操作\n",
    "import os\n",
    "\n",
    "os.getcwd()\n",
    "os.mkdir('test')\n",
    "! ls"
   ]
  },
  {
   "cell_type": "code",
   "execution_count": 11,
   "metadata": {},
   "outputs": [
    {
     "data": {
      "text/plain": [
       "['os模块.ipynb', 'rename_dir1', 'test', '.ipynb_checkpoints']"
      ]
     },
     "execution_count": 11,
     "metadata": {},
     "output_type": "execute_result"
    }
   ],
   "source": [
    "os.listdir()"
   ]
  },
  {
   "cell_type": "code",
   "execution_count": 12,
   "metadata": {
    "collapsed": true
   },
   "outputs": [],
   "source": [
    "os.chdir('test')"
   ]
  },
  {
   "cell_type": "code",
   "execution_count": 14,
   "metadata": {},
   "outputs": [
    {
     "data": {
      "text/plain": [
       "'/home/cdl/virtual_env/python_code/python小技巧/刘江python教程/12_python常用标准库/test'"
      ]
     },
     "execution_count": 14,
     "metadata": {},
     "output_type": "execute_result"
    }
   ],
   "source": [
    "os.getcwd()"
   ]
  },
  {
   "cell_type": "code",
   "execution_count": 15,
   "metadata": {},
   "outputs": [
    {
     "data": {
      "text/plain": [
       "'/home/cdl/virtual_env/python_code/python小技巧/刘江python教程/12_python常用标准库/test'"
      ]
     },
     "execution_count": 15,
     "metadata": {},
     "output_type": "execute_result"
    }
   ],
   "source": [
    "os.path.abspath(os.getcwd())  # 返回绝对路径"
   ]
  },
  {
   "cell_type": "code",
   "execution_count": 16,
   "metadata": {},
   "outputs": [
    {
     "data": {
      "text/plain": [
       "('/home/cdl/virtual_env/python_code/python小技巧/刘江python教程/12_python常用标准库',\n",
       " 'test')"
      ]
     },
     "execution_count": 16,
     "metadata": {},
     "output_type": "execute_result"
    }
   ],
   "source": [
    "os.path.split(os.getcwd())  # 将path分割成目录和文件名二元组返回"
   ]
  },
  {
   "cell_type": "code",
   "execution_count": 17,
   "metadata": {},
   "outputs": [
    {
     "data": {
      "text/plain": [
       "'/home/cdl/virtual_env/python_code/python小技巧/刘江python教程/12_python常用标准库'"
      ]
     },
     "execution_count": 17,
     "metadata": {},
     "output_type": "execute_result"
    }
   ],
   "source": [
    "os.path.dirname(os.getcwd()) # 返回path的目录。其实就是os.path.split(path)的第一个元素"
   ]
  },
  {
   "cell_type": "code",
   "execution_count": 18,
   "metadata": {},
   "outputs": [
    {
     "data": {
      "text/plain": [
       "'test'"
      ]
     },
     "execution_count": 18,
     "metadata": {},
     "output_type": "execute_result"
    }
   ],
   "source": [
    "os.path.basename(os.getcwd())  # 返回path最后的文件名"
   ]
  },
  {
   "cell_type": "code",
   "execution_count": 19,
   "metadata": {},
   "outputs": [
    {
     "data": {
      "text/plain": [
       "True"
      ]
     },
     "execution_count": 19,
     "metadata": {},
     "output_type": "execute_result"
    }
   ],
   "source": [
    "os.path.exists(os.getcwd())  # 如果path存在，返回True；如果path不存在，返回False"
   ]
  },
  {
   "cell_type": "code",
   "execution_count": 24,
   "metadata": {},
   "outputs": [
    {
     "data": {
      "text/plain": [
       "False"
      ]
     },
     "execution_count": 24,
     "metadata": {},
     "output_type": "execute_result"
    }
   ],
   "source": [
    "path = os.getcwd() + '/demo.txt'\n",
    "os.path.exists(path)"
   ]
  },
  {
   "cell_type": "code",
   "execution_count": 25,
   "metadata": {},
   "outputs": [
    {
     "data": {
      "text/plain": [
       "True"
      ]
     },
     "execution_count": 25,
     "metadata": {},
     "output_type": "execute_result"
    }
   ],
   "source": [
    "os.path.isabs(os.getcwd())   # 如果path是绝对路径，返回True"
   ]
  },
  {
   "cell_type": "code",
   "execution_count": 26,
   "metadata": {},
   "outputs": [
    {
     "data": {
      "text/plain": [
       "False"
      ]
     },
     "execution_count": 26,
     "metadata": {},
     "output_type": "execute_result"
    }
   ],
   "source": [
    "os.path.isfile(os.getcwd())  # 如果path是一个存在的文件，返回True。否则返回False"
   ]
  },
  {
   "cell_type": "code",
   "execution_count": 28,
   "metadata": {},
   "outputs": [
    {
     "data": {
      "text/plain": [
       "True"
      ]
     },
     "execution_count": 28,
     "metadata": {},
     "output_type": "execute_result"
    }
   ],
   "source": [
    "os.path.isdir(os.getcwd())   # 如果path是一个存在的目录，返回True。否则返回False"
   ]
  },
  {
   "cell_type": "code",
   "execution_count": 30,
   "metadata": {},
   "outputs": [
    {
     "data": {
      "text/plain": [
       "'/home/cdl/virtual_env/python_code/python小技巧/刘江python教程/12_python常用标准库/test/demo.py'"
      ]
     },
     "execution_count": 30,
     "metadata": {},
     "output_type": "execute_result"
    }
   ],
   "source": [
    "os.path.join(os.getcwd(), \"demo.py\")  # 将多个路径组合后返回，第一个绝对路径之前的参数将被忽略"
   ]
  },
  {
   "cell_type": "code",
   "execution_count": 31,
   "metadata": {},
   "outputs": [
    {
     "data": {
      "text/plain": [
       "1541820763.7385645"
      ]
     },
     "execution_count": 31,
     "metadata": {},
     "output_type": "execute_result"
    }
   ],
   "source": [
    "os.path.getatime(os.getcwd())  # 返回path所指向的文件或者目录的最后存取时间"
   ]
  },
  {
   "cell_type": "code",
   "execution_count": 33,
   "metadata": {},
   "outputs": [
    {
     "data": {
      "text/plain": [
       "1541820718.7645712"
      ]
     },
     "execution_count": 33,
     "metadata": {},
     "output_type": "execute_result"
    }
   ],
   "source": [
    "os.path.getmtime(os.getcwd())  # 返回path所指向的文件或者目录的最后修改时间"
   ]
  },
  {
   "cell_type": "code",
   "execution_count": 34,
   "metadata": {},
   "outputs": [
    {
     "data": {
      "text/plain": [
       "4096"
      ]
     },
     "execution_count": 34,
     "metadata": {},
     "output_type": "execute_result"
    }
   ],
   "source": [
    "os.path.getsize(os.getcwd())  # 返回文件包含的字符数量"
   ]
  },
  {
   "cell_type": "code",
   "execution_count": 44,
   "metadata": {},
   "outputs": [
    {
     "name": "stdout",
     "output_type": "stream",
     "text": [
      "<class 'generator'>\n",
      "('/home/cdl/virtual_env/python_code/python小技巧', ['haha1_dir', 'dana_dir', 'haha_dir', '.ipynb_checkpoints', '刘江python教程'], ['dict.txt', '05python文件读写操作.ipynb', '08python中的冷知识1.ipynb', 'test.txt', 'haha.txt', '10python中的冷知识3.ipynb', '02python列表去重不改变原来列表顺序的两种方法.ipynb', '17使用list和set.ipynb', 'file11.txt', '14.python中的元组存在意义.ipynb', 'test2.txt', '12python中的闭包和变量作用域.ipynb', '01python内置函数isinstance的用法.ipynb', '15.并发编程之初探并发编程.ipynb', 'crawer_demo.ipynb', 'test.json', '16python中的冷知识5.ipynb', 'test.txt3', '18python中的几种函数参数.ipynb', 'demo.json', '04pyhon操作json网络数据.ipynb', 'dana.txt', 'test1.txt', '03python列表所有方法总结.ipynb', '06python中的id()函数.ipynb', 'demo.txt', '19python中的错误处理和调试.ipynb', '13.python中的典型代码示例.ipynb', '07再谈python文件读写os exists.ipynb', '09python中的冷知识2.ipynb', '11python中的冷知识4.ipynb'])\n",
      "('/home/cdl/virtual_env/python_code/python小技巧/haha1_dir', [], [])\n",
      "('/home/cdl/virtual_env/python_code/python小技巧/dana_dir', [], [])\n",
      "('/home/cdl/virtual_env/python_code/python小技巧/haha_dir', ['.ipynb_checkpoints'], [])\n",
      "('/home/cdl/virtual_env/python_code/python小技巧/haha_dir/.ipynb_checkpoints', [], [])\n",
      "('/home/cdl/virtual_env/python_code/python小技巧/.ipynb_checkpoints', [], ['01python内置函数isinstance的用法-checkpoint.ipynb', '11python中的冷知识4-checkpoint.ipynb', '18python中的几种函数参数-checkpoint.ipynb', '03python列表所有方法总结-checkpoint.ipynb', '10python中的冷知识3-checkpoint.ipynb', '07再谈python文件读写os exists-checkpoint.ipynb', '06python中的id()函数-checkpoint.ipynb', '12python中的闭包和变量作用域-checkpoint.ipynb', '15.并发编程之初探并发编程-checkpoint.ipynb', '02python列表去重不改变原来列表顺序的两种方法-checkpoint.ipynb', '17使用list和set-checkpoint.ipynb', '16python中的冷知识5-checkpoint.ipynb', '09python中的冷知识2-checkpoint.ipynb', '14.python中的元组存在意义-checkpoint.ipynb', '04pyhon操作json网络数据-checkpoint.ipynb', '19python中的错误处理和调试-checkpoint.ipynb', 'crawer_demo-checkpoint.ipynb', '05python文件读写操作-checkpoint.ipynb', '13.python中的典型代码示例-checkpoint.ipynb', '08python中的冷知识1-checkpoint.ipynb'])\n",
      "('/home/cdl/virtual_env/python_code/python小技巧/刘江python教程', ['python_package', 'file_test', '.idea', 'reflect反射机制', '.ipynb_checkpoints', '12_python常用标准库'], ['python运行机制图.png', '09_python异常处理.ipynb', '逻辑运算符.png', '身份运算符.png', '编译器与解释器区别.png', '多继承2.png', '格式化操作符辅助指令.png', '算术运算符.png', '运算符优先级别.png', '08_python面向对象编程.ipynb', '10_python调试和测试.ipynb', '赋值运算符.png', '06_python内置函数.ipynb', '变量在内存中的表示.png', '03_python数据类型.ipynb', '04_python流程控制 .ipynb', '类、类的方法、类变量、类的实例在内存中的保存.png', '07_python文件读写.ipynb', '02_python基础知识.ipynb', '01_python环境搭建.ipynb', '05_python函数.ipynb', '多继承1.png', '11_python模块与包.ipynb', '位运算符.png', 'print格式化输出符号.png', '编译方式与解释方式区别.png', '成员运算符.png', '比较运算符.png'])\n",
      "('/home/cdl/virtual_env/python_code/python小技巧/刘江python教程/python_package', ['p2', '__pycache__', 'p1'], ['Main.py', 'main_abc.py', '__init__.py', 'module_a.py', 'abc.py'])\n",
      "('/home/cdl/virtual_env/python_code/python小技巧/刘江python教程/python_package/p2', ['__pycache__'], ['y.py', '__init__.py', 'x.py'])\n",
      "('/home/cdl/virtual_env/python_code/python小技巧/刘江python教程/python_package/p2/__pycache__', [], ['x.cpython-35.pyc', '__init__.cpython-35.pyc'])\n",
      "('/home/cdl/virtual_env/python_code/python小技巧/刘江python教程/python_package/__pycache__', [], ['__init__.cpython-35.pyc'])\n",
      "('/home/cdl/virtual_env/python_code/python小技巧/刘江python教程/python_package/p1', [], ['a.py', 'b.py', '__init__.py'])\n",
      "('/home/cdl/virtual_env/python_code/python小技巧/刘江python教程/file_test', ['.ipynb_checkpoints'], ['gbk.txt', 'test.txt', 'test1.txt'])\n",
      "('/home/cdl/virtual_env/python_code/python小技巧/刘江python教程/file_test/.ipynb_checkpoints', [], [])\n",
      "('/home/cdl/virtual_env/python_code/python小技巧/刘江python教程/.idea', [], ['刘江python教程.iml', 'workspace.xml', 'modules.xml', 'misc.xml'])\n",
      "('/home/cdl/virtual_env/python_code/python小技巧/刘江python教程/reflect反射机制', [], ['commons.py', 'visit.py'])\n",
      "('/home/cdl/virtual_env/python_code/python小技巧/刘江python教程/.ipynb_checkpoints', [], ['08_python面向对象编程-checkpoint.ipynb', '10_python调试和测试-checkpoint.ipynb', '11_python模块与包-checkpoint.ipynb', '07_python文件读写-checkpoint.ipynb', '09_python异常处理-checkpoint.ipynb', '12_python常用标准库-checkpoint.ipynb', '01_python环境搭建-checkpoint.ipynb', '02_python基础知识-checkpoint.ipynb', '03_python数据类型-checkpoint.ipynb', '04_python流程控制 -checkpoint.ipynb', '06_python内置函数-checkpoint.ipynb', '05_python函数-checkpoint.ipynb'])\n",
      "('/home/cdl/virtual_env/python_code/python小技巧/刘江python教程/12_python常用标准库', ['rename_dir1', 'test', '.ipynb_checkpoints'], ['os模块.ipynb'])\n",
      "('/home/cdl/virtual_env/python_code/python小技巧/刘江python教程/12_python常用标准库/rename_dir1', ['dir', 'dir2', '.ipynb_checkpoints'], [])\n",
      "('/home/cdl/virtual_env/python_code/python小技巧/刘江python教程/12_python常用标准库/rename_dir1/dir', [], [])\n",
      "('/home/cdl/virtual_env/python_code/python小技巧/刘江python教程/12_python常用标准库/rename_dir1/dir2', [], [])\n",
      "('/home/cdl/virtual_env/python_code/python小技巧/刘江python教程/12_python常用标准库/rename_dir1/.ipynb_checkpoints', [], [])\n",
      "('/home/cdl/virtual_env/python_code/python小技巧/刘江python教程/12_python常用标准库/test', [], [])\n",
      "('/home/cdl/virtual_env/python_code/python小技巧/刘江python教程/12_python常用标准库/.ipynb_checkpoints', [], ['os模块-checkpoint.ipynb'])\n"
     ]
    }
   ],
   "source": [
    "os.chdir('/home/cdl/virtual_env/python_code/python小技巧')\n",
    "cp = os.getcwd()\n",
    "lis = os.walk(cp)\n",
    "print(type(lis))\n",
    "'''\n",
    "os.walk(cp)对每一个目录都返回一个三元元组(dirpath, dirnames, filenames)\n",
    "    dirpath - 遍历所在目录树的位置，是一个字符串对象\n",
    "    dirnames - 目录树中的子目录组成的列表，不包括(\".\"和\"..\")\n",
    "    filenames - 目录树中的文件组成的列表\n",
    "'''\n",
    "for li in lis:\n",
    "    print(li)"
   ]
  },
  {
   "cell_type": "code",
   "execution_count": 50,
   "metadata": {},
   "outputs": [
    {
     "data": {
      "text/plain": [
       "0"
      ]
     },
     "execution_count": 50,
     "metadata": {},
     "output_type": "execute_result"
    }
   ],
   "source": [
    "# 3. 执行命令\n",
    "import os\n",
    "\n",
    "net = os.system('ifconfig') # 运行操作系统命令，直接显示结果。但返回值是0或-1，不能获得显示在屏幕上的数据\n",
    "net"
   ]
  },
  {
   "cell_type": "code",
   "execution_count": null,
   "metadata": {
    "collapsed": true
   },
   "outputs": [],
   "source": []
  }
 ],
 "metadata": {
  "kernelspec": {
   "display_name": "Python 3",
   "language": "python",
   "name": "python3"
  },
  "language_info": {
   "codemirror_mode": {
    "name": "ipython",
    "version": 3
   },
   "file_extension": ".py",
   "mimetype": "text/x-python",
   "name": "python",
   "nbconvert_exporter": "python",
   "pygments_lexer": "ipython3",
   "version": "3.5.4"
  }
 },
 "nbformat": 4,
 "nbformat_minor": 2
}
