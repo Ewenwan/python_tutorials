{
 "cells": [
  {
   "cell_type": "code",
   "execution_count": 1,
   "metadata": {
    "collapsed": true
   },
   "outputs": [],
   "source": [
    "# 轻量级的消息队列模块queue，主要用于多生产者和消费者模式下的队列实现，特别适合多线程时的消息交换\n",
    "# 实现了常见的锁语法，临时阻塞线程，防止竞争，有赖于对线程的支持。"
   ]
  },
  {
   "cell_type": "code",
   "execution_count": 2,
   "metadata": {},
   "outputs": [
    {
     "data": {
      "text/plain": [
       "'\\nFIFO：先进先出队列，类似管道。元素只能从队头方向一个一个的弹出，只能从队尾一个一个的放入\\nLIFO：后进先出队列，也就是栈,元素永远只能在栈顶出入\\npriority queue：优先级队列，每个元素都带有一个优先值，值越小的越早出去。值相同的，先进入队列的先出去\\n'"
      ]
     },
     "execution_count": 2,
     "metadata": {},
     "output_type": "execute_result"
    }
   ],
   "source": [
    "# queue模块实现了三种队列：\n",
    "'''\n",
    "FIFO：先进先出队列，类似管道。元素只能从队头方向一个一个的弹出，只能从队尾一个一个的放入\n",
    "LIFO：后进先出队列，也就是栈,元素永远只能在栈顶出入\n",
    "priority queue：优先级队列，每个元素都带有一个优先值，值越小的越早出去。值相同的，先进入队列的先出去\n",
    "'''\n",
    "# queue模块定义了下面几个类和异常:\n",
    "'''\n",
    "class queue.Queue(maxsize=0) FIFO队列构造器。maxsize是队列里最多能同时存在的元素个数\n",
    "class queue.LifoQueue(maxsize=0) LIFO队列构造器。maxsize是队列里最多能同时放置的元素个数\n",
    "class queue.PriorityQueue(maxsize=0) 优先级队列构造器。maxsize是队列里最多能同时放置的元素个数\n",
    "exception queue.Empty  从空的队列里请求元素的时候，弹出该异常\n",
    "exception queue.Full   往满的队列里放入元素的时候，弹出该异常\n",
    "'''\n",
    "\n",
    "# Queue对象\n",
    "'''\n",
    "Queue.qsize()\n",
    "返回当前队列内的元素的个数。注意，qsize()大于零不等于下一个get()方法一定不会被阻塞，qsize()小于maxsize也不表示下一个put()方法一定不会被阻塞。\n",
    "\n",
    "Queue.empty()\n",
    "队列为空则返回True，否则返回False。同样地，返回True不表示下一个put()方法一定不会被阻塞。返回False不表示下一个get()一定不会被阻塞。\n",
    "\n",
    "Queue.full()\n",
    "与empty()方法正好相反。同样不保证下一步的操作不被阻塞。\n",
    "\n",
    "Queue.put(item, block=True, timeout=None)\n",
    "item参数表示具体要放入队列的元素。block和timeout两个参数配合使用。其中，如果block=True，timeout=None，队列阻塞，直到有空槽出现；当block=True，timeout=正整数N，如果在等待了N秒后，队列还没有空槽，则弹出Full异常；如果block=False，则timeout参数被忽略，队列有空槽则立即放入，如果没空槽，则弹出Full异常。\n",
    "\n",
    "Queue.put_nowait(item)\n",
    "等同于put(item, False)\n",
    "\n",
    "Queue.get(block=True, timeout=None)\n",
    "从队列内删除并返回一个元素。如果block=True, timeout=None，队列会阻塞，直到有可供弹出的元素。如果timeout指定为一个正整数N，则在N秒内如果队列内没有可供弹出的元素，则抛出Empty异常。如果block=False，timeout参数会被忽略，此时队列内如果有元素则直接弹出，无元素可弹，则抛出Empty异常。\n",
    "\n",
    "Queue.get_nowait()\n",
    "等同于get(False).\n",
    "\n",
    "# 下面的两个方法用于跟踪排队的任务是否被消费者守护线程完全处理。\n",
    "Queue.task_done()\n",
    "表明先前的队列任务已完成。由消费者线程使用。\n",
    "\n",
    "Queue.join()\n",
    "阻塞队列，直到队列内的所有元素被获取和处理。\n",
    "当有元素进入队列时未完成任务的计数将增加。每当有消费者线程调用task_done()方法表示一个任务被完成时，未完成任务的计数将减少。当该计数变成0的时候，join()方法将不再阻塞。\n",
    "'''"
   ]
  },
  {
   "cell_type": "code",
   "execution_count": 3,
   "metadata": {},
   "outputs": [
    {
     "name": "stdout",
     "output_type": "stream",
     "text": [
      "1\n",
      "2\n",
      "3\n"
     ]
    }
   ],
   "source": [
    "import queue\n",
    "\n",
    "q = queue.Queue(5)   # FIFO模式\n",
    "q.put(1)\n",
    "q.put(2)\n",
    "q.put(3)\n",
    "print(q.get())\n",
    "print(q.get())\n",
    "print(q.get())\n",
    "# print(q.get())  # 阻塞了\n"
   ]
  },
  {
   "cell_type": "code",
   "execution_count": 5,
   "metadata": {},
   "outputs": [
    {
     "name": "stdout",
     "output_type": "stream",
     "text": [
      "5\n",
      "0\n",
      "True\n",
      "False\n"
     ]
    }
   ],
   "source": [
    "q = queue.Queue(5)\n",
    "print(q.maxsize)\n",
    "print(q.qsize())\n",
    "print(q.empty())\n",
    "print(q.full())\n",
    "q.put('123')\n",
    "q.put(123)\n",
    "q.put(['1', '2'])\n",
    "q.put({'name': 'curry'})\n",
    "q.put(2.34)\n",
    "# q.put(None) # 阻塞了\n"
   ]
  },
  {
   "cell_type": "code",
   "execution_count": 7,
   "metadata": {},
   "outputs": [
    {
     "name": "stdout",
     "output_type": "stream",
     "text": [
      "3\n",
      "2\n",
      "1\n"
     ]
    }
   ],
   "source": [
    "import queue\n",
    "q = queue.LifoQueue(5)  # LIFO模式\n",
    "q.put(1)\n",
    "q.put(2)\n",
    "q.put(3)\n",
    "print(q.get())\n",
    "print(q.get())\n",
    "print(q.get())"
   ]
  },
  {
   "cell_type": "code",
   "execution_count": 12,
   "metadata": {},
   "outputs": [
    {
     "name": "stdout",
     "output_type": "stream",
     "text": [
      "(1, 'curry')\n",
      "(2, 'dana')\n",
      "<queue.PriorityQueue object at 0x7fad9041f828>\n",
      "(3, 'haha')\n",
      "1\n"
     ]
    }
   ],
   "source": [
    "import queue\n",
    "\n",
    "q = queue.PriorityQueue()\n",
    "q.put((3, 'haha'))\n",
    "q.put((2, 'dana'))\n",
    "q.put((1, 'curry'))\n",
    "print(q.get())\n",
    "print(q.get())\n",
    "print(q)\n",
    "q.put((4, 'xixi'))\n",
    "print(q.get())\n",
    "print(q.qsize())"
   ]
  },
  {
   "cell_type": "code",
   "execution_count": 18,
   "metadata": {},
   "outputs": [
    {
     "name": "stdout",
     "output_type": "stream",
     "text": [
      "线程1已经完成任务1了\n",
      "线程2已经完成任务2了\n",
      "线程3已经完成任务3了\n",
      "线程4已经完成任务4了\n",
      "线程4已经完成任务5了\n",
      "线程1已经完成任务6了\n",
      "线程2已经完成任务7了\n",
      "线程3已经完成任务8了\n",
      "线程5已经完成任务9了\n",
      "线程4已经完成任务10了\n",
      "线程1已经完成任务11了\n",
      "线程2已经完成任务12了\n",
      "线程3已经完成任务13了\n",
      "线程5已经完成任务14了\n",
      "线程4已经完成任务15了\n",
      "线程1已经完成任务16了\n",
      "线程2已经完成任务17了\n",
      "线程3已经完成任务18了\n",
      "线程5已经完成任务19了\n",
      "线程4已经完成任务20了\n",
      "-----工作完成啦!-----\n",
      "线程4发现了一个None，可以休息了^-^线程2发现了一个None，可以休息了^-^线程5发现了一个None，可以休息了^-^线程1发现了一个None，可以休息了^-^线程3发现了一个None，可以休息了^-^[<Thread(Thread-9, stopped 140382918653696)>, <Thread(Thread-10, stopped 140382910260992)>, <Thread(Thread-11, stopped 140382901868288)>, <Thread(Thread-12, stopped 140382348244736)>, <Thread(Thread-13, stopped 140382339852032)>]\n",
      "\n",
      "\n",
      "\n",
      "\n",
      "\n"
     ]
    }
   ],
   "source": [
    "# 等待排队任务\n",
    "\n",
    "#! /usr/bin/env python\n",
    "# -*- coding: utf-8 -*-\n",
    "import queue \n",
    "import time\n",
    "import threading\n",
    "\n",
    "def worker(i):\n",
    "    while True:\n",
    "        item = q.get()\n",
    "        if item is None:\n",
    "            print('线程%s发现了一个None，可以休息了^-^' % i)\n",
    "            break\n",
    "        time.sleep(0.5)  # do_work(item)做具体的工作\n",
    "        print('线程%s已经完成任务%s了' % (i, item))\n",
    "        q.task_done()  # 做完后发出任务完成信号，然后继续下一个任务\n",
    "\n",
    "if __name__ == '__main__':\n",
    "    num_of_thread = 5\n",
    "    source = [i for i in range(1, 21)]  # 模拟20个任务\n",
    "    q = queue.Queue()  # 创建一个FIFO队列对象，不设置上限\n",
    "    threads = []  # 创建一个线程池\n",
    "     # 创建指定个数的工作线程，并把他们放到线程池threads中\n",
    "    for i in range(1, num_of_thread+1):\n",
    "        t = threading.Thread(target=worker, args=(i,))\n",
    "        threads.append(t)\n",
    "        t.start()\n",
    "    # 将任务源里的任务逐个放入队列\n",
    "    for item in source:\n",
    "        time.sleep(0.5)  # 每隔0.5秒发布一个新任务\n",
    "        q.put(item)\n",
    "    \n",
    "    q.join()  # 阻塞队列直到队列里的任务都完成了\n",
    "    print('-----工作完成啦!-----')\n",
    "     # 停止工作线程\n",
    "    for i in range(num_of_thread):\n",
    "        q.put(None)\n",
    "    for t in threads:\n",
    "        t.join()\n",
    "    print(threads)\n",
    "    "
   ]
  },
  {
   "cell_type": "code",
   "execution_count": null,
   "metadata": {
    "collapsed": true
   },
   "outputs": [],
   "source": []
  }
 ],
 "metadata": {
  "kernelspec": {
   "display_name": "Python 3",
   "language": "python",
   "name": "python3"
  },
  "language_info": {
   "codemirror_mode": {
    "name": "ipython",
    "version": 3
   },
   "file_extension": ".py",
   "mimetype": "text/x-python",
   "name": "python",
   "nbconvert_exporter": "python",
   "pygments_lexer": "ipython3",
   "version": "3.5.4"
  }
 },
 "nbformat": 4,
 "nbformat_minor": 2
}
