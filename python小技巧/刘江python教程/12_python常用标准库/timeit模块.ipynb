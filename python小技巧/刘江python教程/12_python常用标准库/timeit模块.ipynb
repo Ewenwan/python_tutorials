{
 "cells": [
  {
   "cell_type": "code",
   "execution_count": 1,
   "metadata": {},
   "outputs": [
    {
     "name": "stdout",
     "output_type": "stream",
     "text": [
      "0.3666254670001763\n"
     ]
    }
   ],
   "source": [
    "# time.time()和time.clock()方法可以用来计算程序执行时间及cpu时间\n",
    "# timeit模块是Python内置的用于统计小段代码执行时间的模块，它同时提供命令行调用接口\n",
    "\n",
    "'''\n",
    "命令行模式下:\n",
    "python -m timeit [-n N] [-r N] [-u U] [-s S] [-t] [-c] [-h] [语句 ...]\n",
    "-n：执行次数\n",
    "-r：计时器重复次数\n",
    "-s：执行环境配置（通常该语句只被执行一次）\n",
    "-p：处理器时间\n",
    "-v：打印原始时间\n",
    "-h：帮助\n",
    "如：python3 -m timeit '\"-\".join(str(n) for n in range(100))'    windows系统中\n",
    "'''\n",
    "import timeit\n",
    "\n",
    "print(timeit.timeit('\"-\".join(str(n) for n in range(100))', number=10000))"
   ]
  },
  {
   "cell_type": "code",
   "execution_count": null,
   "metadata": {
    "collapsed": true
   },
   "outputs": [],
   "source": []
  }
 ],
 "metadata": {
  "kernelspec": {
   "display_name": "Python 3",
   "language": "python",
   "name": "python3"
  },
  "language_info": {
   "codemirror_mode": {
    "name": "ipython",
    "version": 3
   },
   "file_extension": ".py",
   "mimetype": "text/x-python",
   "name": "python",
   "nbconvert_exporter": "python",
   "pygments_lexer": "ipython3",
   "version": "3.5.4"
  }
 },
 "nbformat": 4,
 "nbformat_minor": 2
}
