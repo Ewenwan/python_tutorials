{
 "cells": [
  {
   "cell_type": "code",
   "execution_count": 3,
   "metadata": {
    "collapsed": true
   },
   "outputs": [],
   "source": [
    "import random\n",
    "# random模块用于生成伪随机数\n",
    "# 计算机的伪随机数是由随机种子根据一定的计算方法计算出来的数值。所以，只要计算方法一定，随机种子一定，那么产生的随机数就是固定的\n",
    "# 如果用户不设置随机种子，那么随机种子默认来自系统时钟。"
   ]
  },
  {
   "cell_type": "code",
   "execution_count": 14,
   "metadata": {},
   "outputs": [
    {
     "name": "stdout",
     "output_type": "stream",
     "text": [
      "0.5587279401678955\n",
      "6.456641009265134\n",
      "0\n",
      "86\n",
      "lose\n",
      "['two', 'four', 'ace', 'three']\n",
      "[50, 40, 10, 30]\n"
     ]
    }
   ],
   "source": [
    "# 1. 基本方法\n",
    "'''\n",
    "random.seed(a=None, version=2)\n",
    "初始化随机数生成器。如果未提供a或者a=None，则使用系统时间为种子。如果a是一个整数，则作为新的种子\n",
    "\n",
    "random.getstate()\n",
    "返回当前生成器的内部状态\n",
    "\n",
    "random.setstate(state)\n",
    "传入一个先前利用getstate方法获得的状态对象，使得生成器恢复到这个状态\n",
    "\n",
    "random.getrandbits(k)\n",
    "返回一个不大于K位的Python整数（十进制），比如k=10，则结果是0~2^10之间的整数。\n",
    "'''\n",
    "# 2. 针对整数的方法\n",
    "\"\"\"\n",
    "注意：在使用后面的方法时，一定要小心区间的开闭!\n",
    "random.randrange(stop)\n",
    "random.randrange(start, stop[, step])\n",
    "等同于后面的choice(range(start,stop,step))，从range的范围内随机选择一个整数\n",
    "random.randint(a, b)\n",
    "返回一个a <= N <= b的随机整数N。等同于randrange(a, b+1)\n",
    "\"\"\"\n",
    "# 3. 针对序列类型的方法\n",
    "\"\"\"\n",
    "random.choice(seq)\n",
    "从非空序列seq中随机选取一个元素。如果seq为空则弹出IndexError异常。\n",
    "random.choices(population, weights=None, *, cum_weights=None, k=1) # 3.6版本新增\n",
    "从population集群中随机抽取K个元素。weights是相对权重列表，cum_weights是累计权重，两个参数不能同时存在\n",
    "\n",
    "random.shuffle(x[, random])\n",
    "随机打乱序列x内元素的排列顺序，俗称“洗牌”,只能用于可变的序列。对于不可变序列，请使用下面的sample()方法。\n",
    "\n",
    "random.sample(population, k)\n",
    "从population样本或集合中随机抽取K个不重复的元素形成新的序列。\n",
    "常用于不重复的随机抽样。返回的是一个新的序列，不会破坏原有序列。\n",
    "比如从一个整数区间随机抽取一定数量的整数random.sample(range(10000000), k=60)，这非常有效和节省空间。 \n",
    "如果k大于population的长度，则弹出ValueError异常。\n",
    "\"\"\"\n",
    "# 4. 真值分布\n",
    "'''\n",
    "random.random()\n",
    "返回一个介于左闭右开[0.0, 1.0)区间的浮点数\n",
    "\n",
    "random.uniform(a, b)\n",
    "返回一个介于a和b之间的浮点数。如果a>b，则是b到a之间的浮点数\n",
    "\n",
    "random.triangular(low, high, mode)\n",
    "返回一个low <= N <=high的三角形分布的随机数。参数mode指明众数出现位置\n",
    "\n",
    "random.gauss(mu, sigma)\n",
    "高斯分布\n",
    "\n",
    "random.normalvariate(mu, sigma)\n",
    "正态分布\n",
    "'''\n",
    "from random import *\n",
    "\n",
    "print(random())   # 随机浮点数:  0.0 <= x < 1.0\n",
    "print(uniform(2.5, 10.0))   # 随机浮点数:  2.5 <= x < 10.0\n",
    "print(randrange(10))  # 0-9的整数\n",
    "print(randrange(0, 101, 2))   # 0-100的偶数\n",
    "print(choice(['win', 'lose', 'draw'])) # 从序列随机选择一个元素\n",
    "deck = 'ace two three four'.split()  # 对序列进行洗牌，改变原序列\n",
    "shuffle(deck)\n",
    "print(deck)\n",
    "print(sample([10, 20, 30, 40, 50], k=4))   # 不改变原序列的抽取指定数目样本，并生成新序列\n",
    "\n"
   ]
  },
  {
   "cell_type": "code",
   "execution_count": 15,
   "metadata": {},
   "outputs": [
    {
     "name": "stdout",
     "output_type": "stream",
     "text": [
      "GE8O\n"
     ]
    }
   ],
   "source": [
    "# 下面是生成一个包含大写字母A-Z和数字0-9的随机4位验证码的程序\n",
    "\n",
    "import random\n",
    "\n",
    "checkcode = ''\n",
    "for i in range(4):\n",
    "    current = random.randrange(0,4)\n",
    "    if current != i:\n",
    "        temp = chr(random.randint(65,90))\n",
    "    else:\n",
    "        temp = random.randint(0,9)\n",
    "    checkcode += str(temp)\n",
    "print(checkcode)"
   ]
  },
  {
   "cell_type": "code",
   "execution_count": 16,
   "metadata": {},
   "outputs": [
    {
     "name": "stdout",
     "output_type": "stream",
     "text": [
      "LFO3B82n8cm13lk6037K269v8343X5G28hlja61Y34k8K50z2a9h66w2YW47jN03\n"
     ]
    }
   ],
   "source": [
    "# 下面是生成指定长度字母数字随机序列的代码\n",
    "\n",
    "import random, string\n",
    "\n",
    "def gen_random_string(length):\n",
    "    # 数字的个数随机产生\n",
    "    num_of_numeric = random.randint(1,length-1)\n",
    "    # 剩下的都是字母\n",
    "    num_of_letter = length - num_of_numeric\n",
    "    # 随机生成数字\n",
    "    numerics = [random.choice(string.digits) for i in range(num_of_numeric)]\n",
    "    # 随机生成字母\n",
    "    letters = [random.choice(string.ascii_letters) for i in range(num_of_letter)]\n",
    "    # 结合两者\n",
    "    all_chars = numerics + letters\n",
    "    # 洗牌\n",
    "    random.shuffle(all_chars)\n",
    "    # 生成最终字符串\n",
    "    result = ''.join([i for i in all_chars])\n",
    "    return result\n",
    "\n",
    "if __name__ == '__main__':\n",
    "    print(gen_random_string(64))"
   ]
  },
  {
   "cell_type": "code",
   "execution_count": null,
   "metadata": {
    "collapsed": true
   },
   "outputs": [],
   "source": []
  }
 ],
 "metadata": {
  "kernelspec": {
   "display_name": "Python 3",
   "language": "python",
   "name": "python3"
  },
  "language_info": {
   "codemirror_mode": {
    "name": "ipython",
    "version": 3
   },
   "file_extension": ".py",
   "mimetype": "text/x-python",
   "name": "python",
   "nbconvert_exporter": "python",
   "pygments_lexer": "ipython3",
   "version": "3.5.4"
  }
 },
 "nbformat": 4,
 "nbformat_minor": 2
}
