{
 "cells": [
  {
   "cell_type": "code",
   "execution_count": 2,
   "metadata": {
    "collapsed": true
   },
   "outputs": [],
   "source": [
    "# fileinput模块用于对标准输入或多个文件进行逐行遍历\n",
    "import fileinput\n",
    "\n",
    "# 典型用法:\n",
    "'''\n",
    "for line in fileinput.input():\n",
    "    process(line)\n",
    "如果代码中没有指定操作的文件对象，则默认是从stdin获得的sys.argv[1:]中的参数\n",
    "'''\n",
    "# 基本用法:\n",
    "'''\n",
    "fileinput.input(files=None, inplace=False, backup='', bufsize=0, mode='r', openhook=None)\n",
    "创建并返回一个FileInput类的实例。files指定要处理的文件，可以是一个多元元组，表示按顺序批量处理元组内文件。inplace参数最关键，可设置是否对源文件进行修改\n",
    "backup则用于指定对源文件进行备份的后缀名；mode用于指定文件读写方式,fileinput.input()方法也可以作为一个上下文管理器使用\n",
    "\n",
    "with fileinput.input(files=('spam.txt', 'eggs.txt')) as f:\n",
    "    for line in f:\n",
    "        process(line)\n",
    "'''\n",
    "# 主要属性\n",
    "'''\n",
    "fileinput.filename()\n",
    "返回当前正在处理的文件名（也就是包含了当前正在处理的文本行的文件）\n",
    "\n",
    "fileinput.fileno()\n",
    "返回当前文件的总行数。\n",
    "\n",
    "fileinput.lineno()\n",
    "返回当前的行数，这个行数是累计的。多个文件的行数会累加起来。\n",
    "\n",
    "fileinput.filelineno()\n",
    "返回当前正在处理的文件的当前行数。每次处理完一个文件并开始处理下一个文件时，该值会重置为1，重新开始计数。\n",
    "\n",
    "fileinput.isfirstline()\n",
    "当前行是当前文件的第一行时返回True，否则False\n",
    "\n",
    "fileinput.isstdin()\n",
    "当前操作对象为sys.stdin时返回True否则False。\n",
    "\n",
    "fileinput.nextfile()\n",
    "关闭当前的文件，跳到下一个文件，跳过的行不计数。\n",
    "\n",
    "fileinput.close()\n",
    "关闭整个文件链，结束迭代\n",
    "'''"
   ]
  },
  {
   "cell_type": "code",
   "execution_count": null,
   "metadata": {
    "collapsed": true
   },
   "outputs": [],
   "source": [
    "import fileinput\n",
    "\n",
    "with fileinput.input(files='1.txt') as f:\n",
    "    for line in f:\n",
    "        line = line.rstrip()\n",
    "        num = fileinput.lineno()\n",
    "        print('#%d\\t%s' % (num, line))"
   ]
  },
  {
   "cell_type": "code",
   "execution_count": null,
   "metadata": {
    "collapsed": true
   },
   "outputs": [],
   "source": []
  },
  {
   "cell_type": "code",
   "execution_count": null,
   "metadata": {
    "collapsed": true
   },
   "outputs": [],
   "source": []
  }
 ],
 "metadata": {
  "kernelspec": {
   "display_name": "Python 3",
   "language": "python",
   "name": "python3"
  },
  "language_info": {
   "codemirror_mode": {
    "name": "ipython",
    "version": 3
   },
   "file_extension": ".py",
   "mimetype": "text/x-python",
   "name": "python",
   "nbconvert_exporter": "python",
   "pygments_lexer": "ipython3",
   "version": "3.5.4"
  }
 },
 "nbformat": 4,
 "nbformat_minor": 2
}
