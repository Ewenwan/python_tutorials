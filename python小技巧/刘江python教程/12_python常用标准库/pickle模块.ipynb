{
 "cells": [
  {
   "cell_type": "code",
   "execution_count": 6,
   "metadata": {},
   "outputs": [
    {
     "name": "stdout",
     "output_type": "stream",
     "text": [
      "b'\\x80\\x03cbuiltins\\ndict\\nq\\x00.'\n",
      "<class 'bytes'>\n",
      "<class 'dict'>\n"
     ]
    },
    {
     "data": {
      "text/plain": [
       "type"
      ]
     },
     "execution_count": 6,
     "metadata": {},
     "output_type": "execute_result"
    }
   ],
   "source": [
    "'''\n",
    "方法                               功能\n",
    "pickle.dump(obj, file)       将Python数据转换并保存到pickle格式的文件内\n",
    "pickle.dumps(obj)            将Python数据转换为pickle格式的bytes字串\n",
    "pickle.load(file)            从pickle格式的文件中读取数据并转换为python的类型\n",
    "pickle.loads(bytes_object)   将pickle格式的bytes字串转换为python的类型\n",
    "'''\n",
    "# 在pickle中dumps()和loads()操作的是bytes类型，而不是json中的str类型；\n",
    "# 在使用dump()和load()读写文件时，要使用rb或wb模式，也就是只接收bytes类型的数据。\n",
    "\n",
    "import pickle\n",
    "\n",
    "dic = {'name': 'curry', 'age': 30}\n",
    "p = pickle.dumps(dict)\n",
    "print(p)\n",
    "print(type(p))\n",
    "\n",
    "dic2 = pickle.loads(p)\n",
    "print(dic2)\n",
    "type(dic2)"
   ]
  },
  {
   "cell_type": "code",
   "execution_count": 7,
   "metadata": {
    "collapsed": true
   },
   "outputs": [],
   "source": [
    "data = {'a': [1, 2, 3, 5+8],\n",
    "       'b': ('character string', b'byte string'),\n",
    "       'c': {None, True, False},}\n",
    "with open('data.pickle', 'wb') as f:\n",
    "    pickle.dump(data, f)"
   ]
  },
  {
   "cell_type": "code",
   "execution_count": 8,
   "metadata": {
    "collapsed": true
   },
   "outputs": [],
   "source": [
    "with open('data.pickle', 'rb') as f:\n",
    "    pickle.load(f)"
   ]
  },
  {
   "cell_type": "code",
   "execution_count": null,
   "metadata": {
    "collapsed": true
   },
   "outputs": [],
   "source": []
  }
 ],
 "metadata": {
  "kernelspec": {
   "display_name": "Python 3",
   "language": "python",
   "name": "python3"
  },
  "language_info": {
   "codemirror_mode": {
    "name": "ipython",
    "version": 3
   },
   "file_extension": ".py",
   "mimetype": "text/x-python",
   "name": "python",
   "nbconvert_exporter": "python",
   "pygments_lexer": "ipython3",
   "version": "3.5.4"
  }
 },
 "nbformat": 4,
 "nbformat_minor": 2
}
