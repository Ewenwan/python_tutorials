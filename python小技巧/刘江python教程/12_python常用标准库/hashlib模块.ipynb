{
 "cells": [
  {
   "cell_type": "code",
   "execution_count": null,
   "metadata": {
    "collapsed": true
   },
   "outputs": [],
   "source": [
    "# 1.什么是Hash\n",
    "'''\n",
    "把任意长度的输入，通过某种hash算法，变换成固定长度的输出，该输出就是散列值，也称摘要值，该算法就是哈希函数，也称摘要函数\n",
    "通过摘要函数对任意长度的数据计算出固定长度的摘要digest，目的是为了提供一个验证文件未被篡改的方法\n",
    "摘要函数是一个单向函数，计算digest很容易，但通过digest反推原始数据却非常困难\n",
    "最关键的是，对原始数据做一个比特位的修改，都会导致计算出的摘要完全不同\n",
    "摘要算法不是加密算法，不能用于加密数据（因为无法通过摘要反推明文），只能用于防止数据被篡改\n",
    "MD5是最常见的摘要算法，速度很快，生成结果是固定的16字节，通常用一个32位的16进制字符串表示\n",
    "SHA1算法更安全点，它的结果是20字节长度，通常用一个40位的16进制字符串表示。\n",
    "而比SHA1更安全的算法是SHA256和SHA512等等，不过越安全的算法越慢，并且摘要长度更长。\n",
    "'''"
   ]
  },
  {
   "cell_type": "code",
   "execution_count": 6,
   "metadata": {},
   "outputs": [
    {
     "name": "stdout",
     "output_type": "stream",
     "text": [
      "b'\\x03\\x1e\\xdd}Ae\\x15\\x93\\xc5\\xfe\\\\\\x00o\\xa5u+7\\xfd\\xdf\\xf7\\xbcN\\x84:\\xa6\\xaf\\x0c\\x95\\x0fK\\x94\\x06'\n",
      "031edd7d41651593c5fe5c006fa5752b37fddff7bc4e843aa6af0c950f4b9406\n",
      "32\n",
      "64\n"
     ]
    }
   ],
   "source": [
    "# 2.hashlib模块\n",
    "## update()方法现在只接受bytes类型的数据，不接收str类型\n",
    "import hashlib\n",
    "\n",
    "m = hashlib.sha256()     # 通过构造函数获得一个hash对象\n",
    "m.update(b'Nobody inspects')        # 使用hash对象的update方法添将bytes类型的数据添加到对象中\n",
    "m.update(b' the spammish repetition')\n",
    "print(m.digest())                  # 获得bytes类型的消息摘要\n",
    "print(m.hexdigest())               # 获得16进制str类型的消息摘要\n",
    "print(m.digest_size)   # 查看消息摘要的位长\n",
    "print(m.block_size)    # 查看消息摘要的内部块大小"
   ]
  },
  {
   "cell_type": "code",
   "execution_count": 7,
   "metadata": {},
   "outputs": [
    {
     "data": {
      "text/plain": [
       "'a4337bc45a8fc544c03f52dc550cd6e1e87021bc896588bd79e901e2'"
      ]
     },
     "execution_count": 7,
     "metadata": {},
     "output_type": "execute_result"
    }
   ],
   "source": [
    "# 更加简单写法\n",
    "hashlib.sha224(b\"Nobody inspects the spammish repetition\").hexdigest()"
   ]
  },
  {
   "cell_type": "code",
   "execution_count": 8,
   "metadata": {},
   "outputs": [
    {
     "data": {
      "text/plain": [
       "'090b235e9eb8f197f2dd927937222c570396d971222d9009a9189e2b6cc0a2c1'"
      ]
     },
     "execution_count": 8,
     "metadata": {},
     "output_type": "execute_result"
    }
   ],
   "source": [
    "# hashlib.new(name[, data])\n",
    "'''\n",
    "一个通用的构造方法，name是某个算法的字符串名称，data是可选的bytes类型待摘要的数据\n",
    "'''\n",
    "h = hashlib.new('sha256', b'haha')\n",
    "h.hexdigest()"
   ]
  },
  {
   "cell_type": "code",
   "execution_count": 10,
   "metadata": {},
   "outputs": [
    {
     "name": "stdout",
     "output_type": "stream",
     "text": [
      "{'sha256', 'sha224', 'md5', 'sha512', 'sha384', 'sha1'}\n",
      "{'sha', 'sha256', 'SHA384', 'ecdsa-with-SHA1', 'SHA256', 'sha1', 'MDC2', 'dsaEncryption', 'MD4', 'sha224', 'DSA', 'sha384', 'SHA224', 'DSA-SHA', 'MD5', 'SHA1', 'SHA', 'SHA512', 'mdc2', 'md5', 'md4', 'ripemd160', 'sha512', 'RIPEMD160', 'whirlpool', 'dsaWithSHA'}\n"
     ]
    }
   ],
   "source": [
    "# 3. hashlib模块的两个常量属性\n",
    "'''\n",
    "hashlib.algorithms_guaranteed 所有平台中，模块支持的hash算法列表\n",
    "hashlib.algorithms_available  当前Python解释器环境中，模块支持的hash算法列表\n",
    "'''\n",
    "print(hashlib.algorithms_guaranteed)\n",
    "print(hashlib.algorithms_available)"
   ]
  },
  {
   "cell_type": "code",
   "execution_count": null,
   "metadata": {
    "collapsed": true
   },
   "outputs": [],
   "source": [
    "# 4.hash对象的两个常量属性\n",
    "'''\n",
    "hash.digest_size\n",
    "hash结果的长度\n",
    "\n",
    "hash.block_size\n",
    "hash内部块的大小\n",
    "'''"
   ]
  },
  {
   "cell_type": "code",
   "execution_count": null,
   "metadata": {
    "collapsed": true
   },
   "outputs": [],
   "source": [
    "# 5.hash对象的属性\n",
    "'''\n",
    "hash.name\n",
    "hash算法名称字符串\n",
    "'''"
   ]
  },
  {
   "cell_type": "code",
   "execution_count": null,
   "metadata": {
    "collapsed": true
   },
   "outputs": [],
   "source": [
    "# 6. hash对象的方法\n",
    "'''\n",
    "hash.update(arg)\n",
    "更新hash对象。连续的调用该方法相当于连续的追加更新。例如m.update(a); m.update(b)相当于m.update(a+b)。\n",
    "注意，当数据规模较大的时候，Python的GIL在此时会解锁，用于提高计算速度。\n",
    "一定要理解update()的作用，由于消息摘要是只针对当前状态产生的，所以每一次update后，再次计算hexdigest()的值都会不一样。\n",
    "\n",
    "hash.digest()\n",
    "返回bytes格式的消息摘要\n",
    "\n",
    "hash.hexdigest()\n",
    "与digest方法类似，不过返回的是两倍长度的字符串对象，所有的字符都是十六进制的数字。\n",
    "通常用于邮件传输或非二进制环境中。通常我们比较摘要时，比较的就是这个值！\n",
    "\n",
    "hash.copy()\n",
    "返回一个hash对象的拷贝\n",
    "'''"
   ]
  },
  {
   "cell_type": "code",
   "execution_count": 11,
   "metadata": {},
   "outputs": [
    {
     "data": {
      "text/plain": [
       "'b305cadbb3bce54f3aa59c64fec00dea'"
      ]
     },
     "execution_count": 11,
     "metadata": {},
     "output_type": "execute_result"
    }
   ],
   "source": [
    "# 使用场景\n",
    "'''\n",
    "最常用的就是密码加密！密码加密不像数据加密，通常不需要反向解析出明文\n",
    "数据加密一般是需要反向解析的，我们无法从摘要反向解析出数据，加密是没问题了，但你让数据使用者如何获取数据\n",
    "加盐：额外给原始数据添加一点自定义的数据，使得生成的消息摘要不同于普通方式计算的摘要\n",
    "'''\n",
    "md5 = hashlib.md5()\n",
    "s = 'password' + 'salt'\n",
    "md5.update(s.encode())\n",
    "md5.hexdigest()"
   ]
  },
  {
   "cell_type": "code",
   "execution_count": null,
   "metadata": {
    "collapsed": true
   },
   "outputs": [],
   "source": []
  }
 ],
 "metadata": {
  "kernelspec": {
   "display_name": "Python 3",
   "language": "python",
   "name": "python3"
  },
  "language_info": {
   "codemirror_mode": {
    "name": "ipython",
    "version": 3
   },
   "file_extension": ".py",
   "mimetype": "text/x-python",
   "name": "python",
   "nbconvert_exporter": "python",
   "pygments_lexer": "ipython3",
   "version": "3.5.4"
  }
 },
 "nbformat": 4,
 "nbformat_minor": 2
}
