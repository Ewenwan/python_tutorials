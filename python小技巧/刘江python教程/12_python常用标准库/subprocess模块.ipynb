{
 "cells": [
  {
   "cell_type": "code",
   "execution_count": 1,
   "metadata": {
    "collapsed": true
   },
   "outputs": [],
   "source": [
    "# subprocess模块主要用于创建子进程，并连接它们的输入、输出和错误管道，获取它们的返回状态\n",
    "# 通俗地说就是通过这个模块，你可以在Python的代码里执行操作系统级别的命令，比如“ipconfig”、“du -sh”等等\n",
    "import subprocess"
   ]
  },
  {
   "cell_type": "code",
   "execution_count": 17,
   "metadata": {},
   "outputs": [
    {
     "name": "stdout",
     "output_type": "stream",
     "text": [
      "CompletedProcess(args=['ls', '-a'], returncode=0)\n",
      "CompletedProcess(args=['ls', '-l', '/dev/null'], returncode=0, stdout=b'crw-rw-rw- 1 root root 1, 3 11\\xe6\\x9c\\x88 12 08:12 /dev/null\\n')\n"
     ]
    }
   ],
   "source": [
    "# 推荐使用run()方法调用子进程，执行操作系统命令\n",
    "# 在更高级的使用场景，你还可以使用Popen接口,其实run()方法在底层调用的就是Popen接口\n",
    "# subprocess.run() 功能：执行popenargs参数所表示的命令(字符串或字符串列表)，等待命令结束，并返回一个CompletedProcess类型对象\n",
    "print(subprocess.run(['ls', '-a']))\n",
    "print(subprocess.run([\"ls\", \"-l\", \"/dev/null\"], stdout=subprocess.PIPE))"
   ]
  },
  {
   "cell_type": "code",
   "execution_count": 21,
   "metadata": {},
   "outputs": [
    {
     "name": "stdout",
     "output_type": "stream",
     "text": [
      "CompletedProcess(args=['du -sh'], returncode=0)\n",
      "CompletedProcess(args='du -sh', returncode=0)\n"
     ]
    }
   ],
   "source": [
    "print(subprocess.run(['du -sh'], shell=True))\n",
    "print(subprocess.run('du -sh', shell=True))\n",
    "# 总结：Linux中，当args是个字符串是，请设置shell=True，当args是个列表的时候，shell保持默认的False"
   ]
  },
  {
   "cell_type": "code",
   "execution_count": 31,
   "metadata": {},
   "outputs": [
    {
     "name": "stdout",
     "output_type": "stream",
     "text": [
      "CompletedProcess(args='dir', returncode=0)\n",
      "CompletedProcess(args='dir', returncode=0, stdout=b'os\\xe6\\xa8\\xa1\\xe5\\x9d\\x97.ipynb  out.log  rename_dir1  subprocess\\xe6\\xa8\\xa1\\xe5\\x9d\\x97.ipynb  sys\\xe6\\xa8\\xa1\\xe5\\x9d\\x97.ipynb  test\\n')\n"
     ]
    }
   ],
   "source": [
    "# run()方法返回的是一个CompletedProcess类型对象，不能直接获取我们通常想要的结果\n",
    "# 要获取命令执行的结果或者信息，在调用run()方法的时候，请指定stdout=subprocess.PIPE\n",
    "s = subprocess.run('dir', shell=True)\n",
    "print(s)\n",
    "s = subprocess.run('dir', shell=True, stdout=subprocess.PIPE)\n",
    "s.stdout.decode('GBK')\n",
    "print(s)\n"
   ]
  },
  {
   "cell_type": "code",
   "execution_count": 32,
   "metadata": {},
   "outputs": [
    {
     "ename": "TypeError",
     "evalue": "__init__() got an unexpected keyword argument 'sdtout'",
     "output_type": "error",
     "traceback": [
      "\u001b[0;31m---------------------------------------------------------------------------\u001b[0m",
      "\u001b[0;31mTypeError\u001b[0m                                 Traceback (most recent call last)",
      "\u001b[0;32m<ipython-input-32-703254d168d0>\u001b[0m in \u001b[0;36m<module>\u001b[0;34m()\u001b[0m\n\u001b[1;32m      2\u001b[0m \u001b[0;32mimport\u001b[0m \u001b[0msubprocess\u001b[0m\u001b[0;34m\u001b[0m\u001b[0m\n\u001b[1;32m      3\u001b[0m \u001b[0;34m\u001b[0m\u001b[0m\n\u001b[0;32m----> 4\u001b[0;31m \u001b[0ms\u001b[0m \u001b[0;34m=\u001b[0m \u001b[0msubprocess\u001b[0m\u001b[0;34m.\u001b[0m\u001b[0mrun\u001b[0m\u001b[0;34m(\u001b[0m\u001b[0;34m\"python\"\u001b[0m\u001b[0;34m,\u001b[0m \u001b[0mstdin\u001b[0m\u001b[0;34m=\u001b[0m\u001b[0msubprocess\u001b[0m\u001b[0;34m.\u001b[0m\u001b[0mPIPE\u001b[0m\u001b[0;34m,\u001b[0m \u001b[0msdtout\u001b[0m\u001b[0;34m=\u001b[0m\u001b[0msubprocess\u001b[0m\u001b[0;34m.\u001b[0m\u001b[0mPIPE\u001b[0m\u001b[0;34m,\u001b[0m \u001b[0mshell\u001b[0m\u001b[0;34m=\u001b[0m\u001b[0;32mTrue\u001b[0m\u001b[0;34m)\u001b[0m\u001b[0;34m\u001b[0m\u001b[0m\n\u001b[0m\u001b[1;32m      5\u001b[0m \u001b[0ms\u001b[0m\u001b[0;34m.\u001b[0m\u001b[0mstdin\u001b[0m \u001b[0;34m=\u001b[0m \u001b[0;34m\"print('gg')\"\u001b[0m\u001b[0;34m\u001b[0m\u001b[0m\n\u001b[1;32m      6\u001b[0m \u001b[0mprint\u001b[0m\u001b[0;34m(\u001b[0m\u001b[0ms\u001b[0m\u001b[0;34m)\u001b[0m\u001b[0;34m\u001b[0m\u001b[0m\n",
      "\u001b[0;32m~/.conda/envs/py35/lib/python3.5/subprocess.py\u001b[0m in \u001b[0;36mrun\u001b[0;34m(input, timeout, check, *popenargs, **kwargs)\u001b[0m\n\u001b[1;32m    381\u001b[0m         \u001b[0mkwargs\u001b[0m\u001b[0;34m[\u001b[0m\u001b[0;34m'stdin'\u001b[0m\u001b[0;34m]\u001b[0m \u001b[0;34m=\u001b[0m \u001b[0mPIPE\u001b[0m\u001b[0;34m\u001b[0m\u001b[0m\n\u001b[1;32m    382\u001b[0m \u001b[0;34m\u001b[0m\u001b[0m\n\u001b[0;32m--> 383\u001b[0;31m     \u001b[0;32mwith\u001b[0m \u001b[0mPopen\u001b[0m\u001b[0;34m(\u001b[0m\u001b[0;34m*\u001b[0m\u001b[0mpopenargs\u001b[0m\u001b[0;34m,\u001b[0m \u001b[0;34m**\u001b[0m\u001b[0mkwargs\u001b[0m\u001b[0;34m)\u001b[0m \u001b[0;32mas\u001b[0m \u001b[0mprocess\u001b[0m\u001b[0;34m:\u001b[0m\u001b[0;34m\u001b[0m\u001b[0m\n\u001b[0m\u001b[1;32m    384\u001b[0m         \u001b[0;32mtry\u001b[0m\u001b[0;34m:\u001b[0m\u001b[0;34m\u001b[0m\u001b[0m\n\u001b[1;32m    385\u001b[0m             \u001b[0mstdout\u001b[0m\u001b[0;34m,\u001b[0m \u001b[0mstderr\u001b[0m \u001b[0;34m=\u001b[0m \u001b[0mprocess\u001b[0m\u001b[0;34m.\u001b[0m\u001b[0mcommunicate\u001b[0m\u001b[0;34m(\u001b[0m\u001b[0minput\u001b[0m\u001b[0;34m,\u001b[0m \u001b[0mtimeout\u001b[0m\u001b[0;34m=\u001b[0m\u001b[0mtimeout\u001b[0m\u001b[0;34m)\u001b[0m\u001b[0;34m\u001b[0m\u001b[0m\n",
      "\u001b[0;31mTypeError\u001b[0m: __init__() got an unexpected keyword argument 'sdtout'"
     ]
    }
   ],
   "source": [
    "# 交互式输入\n",
    "import subprocess\n",
    "\n",
    "s = subprocess.run(\"python\", stdin=subprocess.PIPE, sdtout=subprocess.PIPE, shell=True)\n",
    "s.stdin = \"print('gg')\"  # 错误用法\n",
    "print(s)"
   ]
  },
  {
   "cell_type": "code",
   "execution_count": 33,
   "metadata": {},
   "outputs": [
    {
     "name": "stdout",
     "output_type": "stream",
     "text": [
      "b''\n"
     ]
    }
   ],
   "source": [
    "f = open(\"1.txt\")\n",
    "s = subprocess.run(\"python\", stdin=f, stdout=subprocess.PIPE, shell=True)\n",
    "print(s.stdout)\n",
    "f.close()\n",
    "# 这样做，虽然可以达到目的，但是很不方便，也不是以代码驱动的方式。这个时候，我们可以使用Popen类"
   ]
  },
  {
   "cell_type": "code",
   "execution_count": 36,
   "metadata": {},
   "outputs": [
    {
     "name": "stdout",
     "output_type": "stream",
     "text": [
      "<subprocess.Popen object at 0x7ff0cc14ab00>\n"
     ]
    }
   ],
   "source": [
    "s = subprocess.Popen('dir', shell=True)\n",
    "type(s)\n",
    "print(s)"
   ]
  },
  {
   "cell_type": "code",
   "execution_count": 38,
   "metadata": {},
   "outputs": [
    {
     "name": "stdout",
     "output_type": "stream",
     "text": [
      "environ({'XDG_SEAT_PATH': '/org/freedesktop/DisplayManager/Seat0', 'MPLBACKEND': 'module://ipykernel.pylab.backend_inline', 'TERM': 'xterm-color', 'ROS_PACKAGE_PATH': '/home/cdl/tutorial_ws/src:/opt/ros/kinetic/share', 'LESSOPEN': '| /usr/bin/lesspipe %s', 'ROS_ROOT': '/opt/ros/kinetic/share/ros', 'LESSCLOSE': '/usr/bin/lesspipe %s %s', 'CMAKE_PREFIX_PATH': '/home/cdl/tutorial_ws/devel:/opt/ros/kinetic', 'UNITY_DEFAULT_PROFILE': 'unity', 'SESSION_MANAGER': 'local/cdl-Inspiron-5421:@/tmp/.ICE-unix/1693,unix/cdl-Inspiron-5421:/tmp/.ICE-unix/1693', 'UPSTART_JOB': 'unity7', 'LANG': 'zh_CN.UTF-8', 'XDG_VTNR': '7', 'DESKTOP_SESSION': 'ubuntu', 'CONDA_PATH_BACKUP': '/opt/ros/kinetic/bin:/home/cdl/software/anaconda3/bin:/home/cdl/bin:/home/cdl/.local/bin:/usr/local/sbin:/usr/local/bin:/usr/sbin:/usr/bin:/sbin:/bin:/usr/games:/usr/local/games:/snap/bin', 'QT_LINUX_ACCESSIBILITY_ALWAYS_ON': '1', 'LS_COLORS': 'rs=0:di=01;34:ln=01;36:mh=00:pi=40;33:so=01;35:do=01;35:bd=40;33;01:cd=40;33;01:or=40;31;01:mi=00:su=37;41:sg=30;43:ca=30;41:tw=30;42:ow=34;42:st=37;44:ex=01;32:*.tar=01;31:*.tgz=01;31:*.arc=01;31:*.arj=01;31:*.taz=01;31:*.lha=01;31:*.lz4=01;31:*.lzh=01;31:*.lzma=01;31:*.tlz=01;31:*.txz=01;31:*.tzo=01;31:*.t7z=01;31:*.zip=01;31:*.z=01;31:*.Z=01;31:*.dz=01;31:*.gz=01;31:*.lrz=01;31:*.lz=01;31:*.lzo=01;31:*.xz=01;31:*.bz2=01;31:*.bz=01;31:*.tbz=01;31:*.tbz2=01;31:*.tz=01;31:*.deb=01;31:*.rpm=01;31:*.jar=01;31:*.war=01;31:*.ear=01;31:*.sar=01;31:*.rar=01;31:*.alz=01;31:*.ace=01;31:*.zoo=01;31:*.cpio=01;31:*.7z=01;31:*.rz=01;31:*.cab=01;31:*.jpg=01;35:*.jpeg=01;35:*.gif=01;35:*.bmp=01;35:*.pbm=01;35:*.pgm=01;35:*.ppm=01;35:*.tga=01;35:*.xbm=01;35:*.xpm=01;35:*.tif=01;35:*.tiff=01;35:*.png=01;35:*.svg=01;35:*.svgz=01;35:*.mng=01;35:*.pcx=01;35:*.mov=01;35:*.mpg=01;35:*.mpeg=01;35:*.m2v=01;35:*.mkv=01;35:*.webm=01;35:*.ogm=01;35:*.mp4=01;35:*.m4v=01;35:*.mp4v=01;35:*.vob=01;35:*.qt=01;35:*.nuv=01;35:*.wmv=01;35:*.asf=01;35:*.rm=01;35:*.rmvb=01;35:*.flc=01;35:*.avi=01;35:*.fli=01;35:*.flv=01;35:*.gl=01;35:*.dl=01;35:*.xcf=01;35:*.xwd=01;35:*.yuv=01;35:*.cgm=01;35:*.emf=01;35:*.ogv=01;35:*.ogx=01;35:*.aac=00;36:*.au=00;36:*.flac=00;36:*.m4a=00;36:*.mid=00;36:*.midi=00;36:*.mka=00;36:*.mp3=00;36:*.mpc=00;36:*.ogg=00;36:*.ra=00;36:*.wav=00;36:*.oga=00;36:*.opus=00;36:*.spx=00;36:*.xspf=00;36:', 'GDM_LANG': 'zh_CN', 'DBUS_SESSION_BUS_ADDRESS': 'unix:abstract=/tmp/dbus-vvoHE1QS52', 'GIT_PAGER': 'cat', 'CLICOLOR': '1', 'JPY_PARENT_PID': '3760', 'XDG_GREETER_DATA_DIR': '/var/lib/lightdm-data/cdl', 'GPG_AGENT_INFO': '/home/cdl/.gnupg/S.gpg-agent:0:1', 'CONDA_DEFAULT_ENV': 'py35', 'USER': 'cdl', 'GNOME_KEYRING_CONTROL': '', 'GDMSESSION': 'ubuntu', 'XDG_SESSION_ID': 'c2', 'PS1': '(py35) \\\\[\\\\e]0;\\\\u@\\\\h: \\\\w\\\\a\\\\]${debian_chroot:+($debian_chroot)}\\\\[\\\\033[01;32m\\\\]\\\\u@\\\\h\\\\[\\\\033[00m\\\\]:\\\\[\\\\033[01;34m\\\\]\\\\w\\\\[\\\\033[00m\\\\]\\\\$ ', 'CONDA_PREFIX': '/home/cdl/.conda/envs/py35', 'JOB': 'unity-settings-daemon', 'XDG_DATA_DIRS': '/usr/share/ubuntu:/usr/share/gnome:/usr/local/share:/usr/share:/var/lib/snapd/desktop', 'LANGUAGE': 'zh_CN:zh', 'PAGER': 'cat', 'XMODIFIERS': '@im=fcitx', 'VTE_VERSION': '4205', 'ROS_VERSION': '1', 'PKG_CONFIG_PATH': '/home/cdl/tutorial_ws/devel/lib/pkgconfig:/opt/ros/kinetic/lib/pkgconfig:/opt/ros/kinetic/lib/x86_64-linux-gnu/pkgconfig', 'GTK2_MODULES': 'overlay-scrollbar', 'WINDOWID': '62914570', 'XDG_RUNTIME_DIR': '/run/user/1000', 'QT_IM_MODULE': 'fcitx', 'UPSTART_INSTANCE': '', 'UPSTART_EVENTS': 'xsession started', 'XDG_CONFIG_DIRS': '/etc/xdg/xdg-ubuntu:/usr/share/upstart/xdg:/etc/xdg', 'COMPIZ_BIN_PATH': '/usr/bin/', 'XDG_SESSION_DESKTOP': 'ubuntu', 'IM_CONFIG_PHASE': '1', 'PATH': '/home/cdl/.conda/envs/py35/bin:/home/cdl/.conda/envs/py35/bin:/opt/ros/kinetic/bin:/home/cdl/software/anaconda3/bin:/home/cdl/bin:/home/cdl/.local/bin:/usr/local/sbin:/usr/local/bin:/usr/sbin:/usr/bin:/sbin:/bin:/usr/games:/usr/local/games:/snap/bin', 'INSTANCE': '', 'ROS_MASTER_URI': 'http://localhost:11311', 'ROSLISP_PACKAGE_DIRECTORIES': '/home/cdl/tutorial_ws/devel/share/common-lisp', 'PYTHONPATH': '/home/cdl/tutorial_ws/devel/lib/python3/dist-packages:/opt/ros/kinetic/lib/python2.7/dist-packages', 'DISPLAY': ':0', 'XAUTHORITY': '/home/cdl/.Xauthority', 'XDG_MENU_PREFIX': 'gnome-', 'XDG_SESSION_PATH': '/org/freedesktop/DisplayManager/Session0', 'UPSTART_SESSION': 'unix:abstract=/com/ubuntu/upstart-session/1000/1280', 'MANDATORY_PATH': '/usr/share/gconf/ubuntu.mandatory.path', 'QT4_IM_MODULE': 'fcitx', 'SESSIONTYPE': 'gnome-session', 'ROS_DISTRO': 'kinetic', 'QT_ACCESSIBILITY': '1', '_': '/home/cdl/.conda/envs/py35/bin/jupyter', 'PWD': '/home/cdl/virtual_env/python_code/python小技巧/刘江python教程/12_python常用标准库', 'GNOME_KEYRING_PID': '', 'HOME': '/home/cdl', 'GTK_MODULES': 'gail:atk-bridge:unity-gtk-module', 'DEFAULTS_PATH': '/usr/share/gconf/ubuntu.default.path', 'QT_QPA_PLATFORMTHEME': 'appmenu-qt5', 'GTK_IM_MODULE': 'fcitx', 'LOGNAME': 'cdl', 'SHLVL': '1', 'CONDA_PS1_BACKUP': '\\\\[\\\\e]0;\\\\u@\\\\h: \\\\w\\\\a\\\\]${debian_chroot:+($debian_chroot)}\\\\[\\\\033[01;32m\\\\]\\\\u@\\\\h\\\\[\\\\033[00m\\\\]:\\\\[\\\\033[01;34m\\\\]\\\\w\\\\[\\\\033[00m\\\\]\\\\$ ', 'UNITY_HAS_3D_SUPPORT': 'true', 'SSH_AUTH_SOCK': '/run/user/1000/keyring/ssh', 'XDG_CURRENT_DESKTOP': 'Unity', 'COMPIZ_CONFIG_PROFILE': 'ubuntu', 'CLUTTER_IM_MODULE': 'xim', 'ROS_ETC_DIR': '/opt/ros/kinetic/etc/ros', 'LD_LIBRARY_PATH': '/home/cdl/tutorial_ws/devel/lib:/opt/ros/kinetic/lib:/opt/ros/kinetic/lib/x86_64-linux-gnu', 'XDG_SEAT': 'seat0', 'XDG_SESSION_TYPE': 'x11', 'GNOME_DESKTOP_SESSION_ID': 'this-is-deprecated', 'SESSION': 'ubuntu', 'OLDPWD': '/home/cdl', 'SHELL': '/bin/bash'})\n",
      "\n"
     ]
    }
   ],
   "source": [
    "import subprocess\n",
    "\n",
    "s = subprocess.Popen(\"python\", stdout=subprocess.PIPE, stdin=subprocess.PIPE, shell=True)\n",
    "s.stdin.write(b\"import os\\n\")\n",
    "s.stdin.write(b\"print(os.environ)\")\n",
    "s.stdin.close()\n",
    "\n",
    "out = s.stdout.read().decode(\"utf-8\")\n",
    "s.stdout.close()\n",
    "print(out)"
   ]
  },
  {
   "cell_type": "code",
   "execution_count": null,
   "metadata": {
    "collapsed": true
   },
   "outputs": [],
   "source": []
  }
 ],
 "metadata": {
  "kernelspec": {
   "display_name": "Python 3",
   "language": "python",
   "name": "python3"
  },
  "language_info": {
   "codemirror_mode": {
    "name": "ipython",
    "version": 3
   },
   "file_extension": ".py",
   "mimetype": "text/x-python",
   "name": "python",
   "nbconvert_exporter": "python",
   "pygments_lexer": "ipython3",
   "version": "3.5.4"
  }
 },
 "nbformat": 4,
 "nbformat_minor": 2
}
