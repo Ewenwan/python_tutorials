{
 "cells": [
  {
   "cell_type": "code",
   "execution_count": 7,
   "metadata": {},
   "outputs": [
    {
     "ename": "TypeError",
     "evalue": "a bytes-like object is required, not 'str'",
     "output_type": "error",
     "traceback": [
      "\u001b[0;31m---------------------------------------------------------------------------\u001b[0m",
      "\u001b[0;31mTypeError\u001b[0m                                 Traceback (most recent call last)",
      "\u001b[0;32m<ipython-input-7-f2e00b4d7c0f>\u001b[0m in \u001b[0;36m<module>\u001b[0;34m()\u001b[0m\n\u001b[1;32m     26\u001b[0m \u001b[0mb\u001b[0m \u001b[0;34m=\u001b[0m \u001b[0mbytes\u001b[0m\u001b[0;34m(\u001b[0m\u001b[0ms\u001b[0m\u001b[0;34m,\u001b[0m \u001b[0mencoding\u001b[0m\u001b[0;34m=\u001b[0m\u001b[0;34m'utf-8'\u001b[0m\u001b[0;34m)\u001b[0m\u001b[0;34m\u001b[0m\u001b[0m\n\u001b[1;32m     27\u001b[0m \u001b[0mf\u001b[0m \u001b[0;34m=\u001b[0m \u001b[0mopen\u001b[0m\u001b[0;34m(\u001b[0m\u001b[0;34m'/home/cdl/virtual_env/python_code/python小技巧/刘江python教程/file_test/test1.txt'\u001b[0m\u001b[0;34m,\u001b[0m \u001b[0;34m'wb'\u001b[0m\u001b[0;34m)\u001b[0m\u001b[0;34m\u001b[0m\u001b[0m\n\u001b[0;32m---> 28\u001b[0;31m \u001b[0mf\u001b[0m\u001b[0;34m.\u001b[0m\u001b[0mwrite\u001b[0m\u001b[0;34m(\u001b[0m\u001b[0ms\u001b[0m\u001b[0;34m)\u001b[0m\u001b[0;34m\u001b[0m\u001b[0m\n\u001b[0m\u001b[1;32m     29\u001b[0m \u001b[0mf\u001b[0m\u001b[0;34m.\u001b[0m\u001b[0mclose\u001b[0m\u001b[0;34m(\u001b[0m\u001b[0;34m)\u001b[0m\u001b[0;34m\u001b[0m\u001b[0m\n\u001b[1;32m     30\u001b[0m \u001b[0;34m\u001b[0m\u001b[0m\n",
      "\u001b[0;31mTypeError\u001b[0m: a bytes-like object is required, not 'str'"
     ]
    }
   ],
   "source": [
    "## Python内置了一个open()方法，用于对文件进行读写操作\n",
    "## 使用open()方法操作文件,可以分三步走，一是打开文件，二是操作文件，三是关闭文件\n",
    "## open()方法的返回值是一个file对象，可以将它赋值给一个变量（文件句柄）。其基本语法格式为:\n",
    "## f = open(filename, mode)\n",
    "    ## filename：一个包含你要访问的文件名称的字符串值，通常是一个文件路径\n",
    "    ## mode：打开文件的模式，有很多种，默认是只读方式r\n",
    "'''\n",
    "r 只读      默认模式，如果文件不存在就报错，存在就正常读取。\n",
    "w 只写      如果文件不存在，新建文件然后写入；如果存在，先清空文件内容，再写入。\n",
    "a追加       如果文件不存在，新建文件，然后写入；如果存在，在文件的最后追加写入。\n",
    "x新建       如果文件存在则报错，如果不存在就新建文件，然后写入内容，比w模式更安全。\n",
    "b二进制模式  比如rb、wb、ab，以bytes类型操作数据\n",
    "+读写模式    比如r+、w+、a+\n",
    "'''\n",
    "# 1、 b模式：\n",
    "## 二进制模式，通常用来读取图片、视频等二进制文件\n",
    "## 注意:b模式在读写的时候是以bytes类型读写的，因此获得的是一个bytes对象而不是字符串\n",
    "## 在这个读写过程中，需要自己指定编码格式。在使用带b的模式时一定要注意传入的数据类型，确保为bytes类型。\n",
    "s = 'this is a file'\n",
    "b = bytes(s, encoding='utf-8')\n",
    "f = open('/home/cdl/virtual_env/python_code/python小技巧/刘江python教程/file_test/test.txt', 'wb')\n",
    "f.write(b)\n",
    "f.close()\n",
    "\n",
    "# 下面的代码将会报错\n",
    "s = 'hello boy!'\n",
    "b = bytes(s, encoding='utf-8')\n",
    "f = open('/home/cdl/virtual_env/python_code/python小技巧/刘江python教程/file_test/test1.txt', 'wb')\n",
    "f.write(s)\n",
    "f.close()\n",
    "\n",
    "\n",
    "\n",
    "\n",
    "\n",
    "\n",
    "\n",
    "\n",
    "\n",
    "\n",
    "\n",
    "\n"
   ]
  },
  {
   "cell_type": "code",
   "execution_count": 8,
   "metadata": {
    "collapsed": true
   },
   "outputs": [],
   "source": [
    "# 2.+ 模式\n",
    "\n",
    "## 对于w+模式，在读写之前都会清空文件的内容，建议不要使用！\n",
    "## 对于a+模式，永远只能在文件的末尾写入，有局限性，建议不要使用！\n",
    "## 对于r+模式，也就是读写模式，配合seek()和tell()方法，可以实现更多操作。"
   ]
  },
  {
   "cell_type": "code",
   "execution_count": 22,
   "metadata": {},
   "outputs": [
    {
     "name": "stdout",
     "output_type": "stream",
     "text": [
      "'GBK鈥\n"
     ]
    },
    {
     "ename": "UnicodeDecodeError",
     "evalue": "'gbk' codec can't decode byte 0x98 in position 6: incomplete multibyte sequence",
     "output_type": "error",
     "traceback": [
      "\u001b[0;31m---------------------------------------------------------------------------\u001b[0m",
      "\u001b[0;31mUnicodeDecodeError\u001b[0m                        Traceback (most recent call last)",
      "\u001b[0;32m<ipython-input-22-f0109523f03f>\u001b[0m in \u001b[0;36m<module>\u001b[0;34m()\u001b[0m\n\u001b[1;32m      8\u001b[0m \u001b[0;31m## 下面的代码将会出错\u001b[0m\u001b[0;34m\u001b[0m\u001b[0;34m\u001b[0m\u001b[0m\n\u001b[1;32m      9\u001b[0m \u001b[0mf\u001b[0m \u001b[0;34m=\u001b[0m \u001b[0mopen\u001b[0m\u001b[0;34m(\u001b[0m\u001b[0;34m'/home/cdl/virtual_env/python_code/python小技巧/刘江python教程/file_test/gbk.txt'\u001b[0m\u001b[0;34m,\u001b[0m \u001b[0;34m'r'\u001b[0m\u001b[0;34m,\u001b[0m \u001b[0mencoding\u001b[0m\u001b[0;34m=\u001b[0m\u001b[0;34m'gbk'\u001b[0m\u001b[0;34m)\u001b[0m\u001b[0;34m\u001b[0m\u001b[0m\n\u001b[0;32m---> 10\u001b[0;31m \u001b[0mprint\u001b[0m\u001b[0;34m(\u001b[0m\u001b[0mf\u001b[0m\u001b[0;34m.\u001b[0m\u001b[0mread\u001b[0m\u001b[0;34m(\u001b[0m\u001b[0;34m)\u001b[0m\u001b[0;34m)\u001b[0m\u001b[0;34m\u001b[0m\u001b[0m\n\u001b[0m\u001b[1;32m     11\u001b[0m \u001b[0mf\u001b[0m\u001b[0;34m.\u001b[0m\u001b[0mclose\u001b[0m\u001b[0;34m(\u001b[0m\u001b[0;34m)\u001b[0m\u001b[0;34m\u001b[0m\u001b[0m\n",
      "\u001b[0;31mUnicodeDecodeError\u001b[0m: 'gbk' codec can't decode byte 0x98 in position 6: incomplete multibyte sequence"
     ]
    }
   ],
   "source": [
    "# 3.编码问题\n",
    "\n",
    "## 遇到有些编码不规范的文件，可能会抛出UnicodeDecodeError异常,表示在文件中可能夹杂了一些非法编码的字符\n",
    "## 遇到这种情况，可以提供errors参数，表示如果遇到编码错误后如何处理。\n",
    "f = open('/home/cdl/virtual_env/python_code/python小技巧/刘江python教程/file_test/gbk.txt', 'r', encoding='gbk', errors='ignore')\n",
    "print(f.read())\n",
    "f.close()\n",
    "## 下面的代码将会出错\n",
    "f = open('/home/cdl/virtual_env/python_code/python小技巧/刘江python教程/file_test/gbk.txt', 'r', encoding='gbk')\n",
    "print(f.read())\n",
    "f.close()\n"
   ]
  },
  {
   "cell_type": "code",
   "execution_count": 36,
   "metadata": {},
   "outputs": [
    {
     "name": "stdout",
     "output_type": "stream",
     "text": [
      "python is nice!\n",
      "python is nice!\n",
      "['python is nice!']\n",
      "python is nice!\n",
      "-------------------\n",
      "python is nice!"
     ]
    }
   ],
   "source": [
    "# 4.文件对象操作\n",
    "## 当用open方法打开一个文件时，将返回一个文件对象。这个对象内置了很多操作方法\n",
    "\n",
    "# f.read(size) 读取一定大小的数据, 然后作为字符串或字节对象返回\n",
    "f = open('/home/cdl/virtual_env/python_code/python小技巧/刘江python教程/file_test/test.txt', 'r')\n",
    "s = f.read()\n",
    "print(s)\n",
    "f.close()\n",
    "\n",
    "# f.readline()\n",
    "## 从文件中读取一行n内容,换行符为'\\n'。如果返回一个空字符串，说明已经已经读取到最后一行。\n",
    "## 这种方法，通常是读一行，处理一行，并且不能回头，只能前进，读过的行不能再读\n",
    "f = open('/home/cdl/virtual_env/python_code/python小技巧/刘江python教程/file_test/test.txt', 'r')\n",
    "s = f.readline()\n",
    "print(s)\n",
    "f.close()\n",
    "\n",
    "# f.readlines()\n",
    "## 将文件中所有的行，一行一行全部读入一个列表内，按顺序一个一个作为列表的元素，并返回这个列表\n",
    "## readlines方法会一次性将文件全部读入内存，所以也存在一定的风险。但是它有个好处，每行都保存在列表里，可以随意存取\n",
    "f = open('/home/cdl/virtual_env/python_code/python小技巧/刘江python教程/file_test/test.txt', 'r')\n",
    "a = f.readlines()\n",
    "print(a)\n",
    "for i in a:\n",
    "    print(i.strip())\n",
    "f.close()\n",
    "print('-------------------')\n",
    "# 遍历文件-----将文件对象作为一个迭代器来使用\n",
    "## 这个方法很简单, 不需要将文件一次性读出，但是同样没有提供一个很好的控制，与readline方法一样只能前进，不能回退\n",
    "f = open('/home/cdl/virtual_env/python_code/python小技巧/刘江python教程/file_test/test.txt', 'r')\n",
    "for line in f:\n",
    "    print(line, end='')\n",
    "f.close()\n",
    "## 总结:\n",
    "'''\n",
    "如果文件很小，read()一次性读取最方便；\n",
    "如果不能确定文件大小，反复调用read(size)比较保险；\n",
    "如果是配置文件，调用readlines()最方便。\n",
    "普通情况，使用for循环更好，速度更快。\n",
    "'''\n",
    "# f.write()\n",
    "## 将字符串或bytes类型的数据写入文件内。write()动作可以多次重复进行，其实都是在内存中的操作，并不会立刻写回硬盘，直到执行close()方法后，才会将所有的写入操作反映到硬盘上\n",
    "f = open('/home/cdl/virtual_env/python_code/python小技巧/刘江python教程/file_test/test.txt', 'w')\n",
    "f.write('python is nice!')\n",
    "f.close()\n",
    "\n",
    "# f.close()\n",
    "## 关闭文件对象。当处理完一个文件后，调用f.close()来关闭文件并释放系统的资源。\n",
    "## 文件关闭后，如果尝试再次调用该文件对象，则会抛出异常。\n",
    "## 忘记调用close()的后果是数据可能只写了一部分到磁盘，剩下的丢失了，或者更糟糕的结果\n",
    "\n",
    "# with关键字\n",
    "## with关键字用于Python的上下文管理器机制\n",
    "## 为了防止诸如open这一类文件打开方法在操作过程出现异常或错误，或者最后忘了执行close方法，文件非正常关闭等可能导致文件泄露、破坏的问题\n",
    "with open('/home/cdl/virtual_env/python_code/python小技巧/刘江python教程/file_test/test.txt', 'w') as f:\n",
    "    f.write('hi shanghai')\n",
    "    \n",
    "\n",
    "with open()"
   ]
  },
  {
   "cell_type": "code",
   "execution_count": null,
   "metadata": {
    "collapsed": true
   },
   "outputs": [],
   "source": []
  }
 ],
 "metadata": {
  "kernelspec": {
   "display_name": "Python 3",
   "language": "python",
   "name": "python3"
  },
  "language_info": {
   "codemirror_mode": {
    "name": "ipython",
    "version": 3
   },
   "file_extension": ".py",
   "mimetype": "text/x-python",
   "name": "python",
   "nbconvert_exporter": "python",
   "pygments_lexer": "ipython3",
   "version": "3.5.4"
  }
 },
 "nbformat": 4,
 "nbformat_minor": 2
}
