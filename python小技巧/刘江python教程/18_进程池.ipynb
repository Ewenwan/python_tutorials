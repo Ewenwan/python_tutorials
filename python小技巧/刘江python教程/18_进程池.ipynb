{
 "cells": [
  {
   "cell_type": "markdown",
   "metadata": {},
   "source": [
    "* 在使用多线程处理任务时也不是线程越多越好。因为在切换线程的时候，需要切换上下文环境，线程很多的时候，依然会造成CPU的大量开销。为解决这个问题，线程池的概念被提出来了。\n",
    "* 预先创建好一个数量较为优化的线程组，在需要的时候立刻能够使用，就形成了线程池\n",
    "* 在Python中，没有内置的较好的线程池模块，需要自己实现或使用第三方模块"
   ]
  },
  {
   "cell_type": "code",
   "execution_count": 3,
   "metadata": {},
   "outputs": [
    {
     "name": "stdout",
     "output_type": "stream",
     "text": [
      "执行任务 执行任务0 执行任务执行任务\n",
      "1  执行任务执行任务 \n",
      "23 54\n",
      "\n",
      "\n",
      "\n",
      "执行任务 6\n",
      "执行任务 7\n",
      "执行任务 8\n",
      "执行任务 9\n",
      "执行任务 10\n",
      "执行任务 11\n",
      "执行任务 12\n",
      "执行任务 13\n",
      "执行任务 14\n",
      "执行任务 15\n",
      "执行任务 16\n",
      "执行任务 17\n",
      "执行任务 18\n",
      "执行任务活动的子进程数:  199\n",
      "\n"
     ]
    }
   ],
   "source": [
    "import queue\n",
    "import time\n",
    "import threading\n",
    "\n",
    "class MyThreadPoo:\n",
    "    def __init__(self, maxsize=5):\n",
    "        self.maxsize = maxsize\n",
    "        self._pool = queue.Queue(maxsize)  # 使用queue队列，创建一个线程池\n",
    "        for _ in range(maxsize):\n",
    "            self._pool.put(threading.Thread)\n",
    "    def get_thread(self):\n",
    "        return self._pool.get()\n",
    "    def add_thread(self):\n",
    "        self._pool.put(threading.Thread)\n",
    "\n",
    "def run(i, pool):\n",
    "    print(\"执行任务\", i)\n",
    "    time.sleep(i)\n",
    "    pool.add_thread()    # 执行完毕后，再向线程池中添加一个线程类\n",
    "\n",
    "pool = MyThreadPoo(5)   # 设定线程池中最多只能有5个线程类\n",
    "for i in range(20):\n",
    "    t = pool.get_thread()   # 每个t都是一个线程类\n",
    "    obj = t(target=run, args=(i, pool))  # 这里的obj才是正真的线程对象\n",
    "    obj.start()\n",
    "print(\"活动的子进程数:\", threading.active_count()-1)\n",
    "    \n",
    "        "
   ]
  },
  {
   "cell_type": "markdown",
   "metadata": {},
   "source": [
    "#### 分析上述代码:\n",
    "* 实例化一个MyThreadPool的对象，在其内部建立了一个最多包含5个元素的阻塞队列，并一次性将5个Thread类型添加进去。\n",
    "* 循环20次，每次从pool中获取一个thread类，利用该类传递参数，实例化线程对象。\n",
    "* 在run()方法中，每当任务完成后，又为pool添加一个thread类，保持队列中始终有5个thread类。\n",
    "* 一定要分清楚，代码里各个变量表示的内容。t表示的是一个线程类，也就是threading.Thread，而obj才是正真的线程对象。\n"
   ]
  },
  {
   "cell_type": "code",
   "execution_count": null,
   "metadata": {
    "collapsed": true
   },
   "outputs": [],
   "source": []
  }
 ],
 "metadata": {
  "kernelspec": {
   "display_name": "Python 3",
   "language": "python",
   "name": "python3"
  },
  "language_info": {
   "codemirror_mode": {
    "name": "ipython",
    "version": 3
   },
   "file_extension": ".py",
   "mimetype": "text/x-python",
   "name": "python",
   "nbconvert_exporter": "python",
   "pygments_lexer": "ipython3",
   "version": "3.5.4"
  }
 },
 "nbformat": 4,
 "nbformat_minor": 2
}
