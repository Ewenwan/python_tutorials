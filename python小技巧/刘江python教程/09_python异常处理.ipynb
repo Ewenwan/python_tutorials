{
 "cells": [
  {
   "cell_type": "code",
   "execution_count": 10,
   "metadata": {},
   "outputs": [
    {
     "name": "stdout",
     "output_type": "stream",
     "text": [
      "division by zero\n",
      "发生异常之前的语句正常执行\n",
      "division by zero\n"
     ]
    },
    {
     "ename": "ValueError",
     "evalue": "invalid literal for int() with base 10: 'hello'",
     "output_type": "error",
     "traceback": [
      "\u001b[0;31m---------------------------------------------------------------------------\u001b[0m",
      "\u001b[0;31mValueError\u001b[0m                                Traceback (most recent call last)",
      "\u001b[0;32m<ipython-input-10-9a8e0776768f>\u001b[0m in \u001b[0;36m<module>\u001b[0;34m()\u001b[0m\n\u001b[1;32m     39\u001b[0m \u001b[0ms1\u001b[0m \u001b[0;34m=\u001b[0m \u001b[0;34m'hello'\u001b[0m\u001b[0;34m\u001b[0m\u001b[0m\n\u001b[1;32m     40\u001b[0m \u001b[0;32mtry\u001b[0m\u001b[0;34m:\u001b[0m\u001b[0;34m\u001b[0m\u001b[0m\n\u001b[0;32m---> 41\u001b[0;31m     \u001b[0mint\u001b[0m\u001b[0;34m(\u001b[0m\u001b[0ms1\u001b[0m\u001b[0;34m)\u001b[0m\u001b[0;34m\u001b[0m\u001b[0m\n\u001b[0m\u001b[1;32m     42\u001b[0m \u001b[0;32mexcept\u001b[0m \u001b[0mIndexError\u001b[0m \u001b[0;32mas\u001b[0m \u001b[0mex\u001b[0m\u001b[0;34m:\u001b[0m    \u001b[0;31m# 本例为非法值异常，而你只捕获索引异常\u001b[0m\u001b[0;34m\u001b[0m\u001b[0m\n\u001b[1;32m     43\u001b[0m     \u001b[0mprint\u001b[0m\u001b[0;34m(\u001b[0m\u001b[0mex\u001b[0m\u001b[0;34m)\u001b[0m\u001b[0;34m\u001b[0m\u001b[0m\n",
      "\u001b[0;31mValueError\u001b[0m: invalid literal for int() with base 10: 'hello'"
     ]
    }
   ],
   "source": [
    "# 提高代码的健壮性与可用性\n",
    "'''\n",
    "try:\n",
    "    pass\n",
    "except Exception as e:\n",
    "    pass\n",
    "'''\n",
    "# Python的异常机制具有嵌套处理的能力\n",
    "def f1():\n",
    "    return 10/0\n",
    "\n",
    "\n",
    "def f2():\n",
    "    f1()\n",
    "\n",
    "    \n",
    "def f3():\n",
    "    f2()\n",
    "## 调用f3()\n",
    "try:\n",
    "    print(f3())\n",
    "except Exception as e:\n",
    "    print(e)\n",
    "\n",
    "# try…except…语句处理异常的工作机制如下：\n",
    "    ## 首先，执行try子句（在关键字try和关键字except之间的语句）\n",
    "    ## 如果没有异常发生，忽略except子句，try子句执行后结束\n",
    "    ## 如果在执行try子句的过程中发生了异常，那么try子句余下的部分将被忽略。\n",
    "    ## 如果异常的类型和 except 之后的名称相符，那么对应的except子句将被执行。\n",
    "\n",
    "try:\n",
    "    print(\"发生异常之前的语句正常执行\")\n",
    "    print(1/0)\n",
    "    print(\"发生异常之后的语句不会被执行\")\n",
    "except ZeroDivisionError as e:\n",
    "    print(e)\n",
    "\n",
    "# 如果程序发生的异常不在你的捕获列表中，那么依然会抛出别的异常\n",
    "s1 = 'hello'\n",
    "try:\n",
    "    int(s1)\n",
    "except IndexError as ex:    # 本例为非法值异常，而你只捕获索引异常\n",
    "    print(ex)"
   ]
  },
  {
   "cell_type": "code",
   "execution_count": 14,
   "metadata": {},
   "outputs": [
    {
     "name": "stdout",
     "output_type": "stream",
     "text": [
      "发生异常之前的语句正常执行\n",
      "里层没有捕捉到异常，只能辛苦外层了\n",
      "invalid literal for int() with base 10: 'hello'\n"
     ]
    }
   ],
   "source": [
    "# 如果一个异常没有与任何的except匹配，那么这个异常将会传递给上层的try中。\n",
    "# 也就是前面说的嵌套处理能力。直到程序最顶端如果还没有被捕获，那么将弹出异常\n",
    "s = 'hello'\n",
    "try:\n",
    "    try:\n",
    "        print(\"发生异常之前的语句正常执行\")\n",
    "        int(s)\n",
    "        print(\"发生异常之后的语句不会被执行\")\n",
    "    except IndexError as e:\n",
    "        print(e)\n",
    "except ValueError as e:\n",
    "    print('里层没有捕捉到异常，只能辛苦外层了')\n",
    "    print(e)"
   ]
  },
  {
   "cell_type": "code",
   "execution_count": 18,
   "metadata": {},
   "outputs": [
    {
     "name": "stdout",
     "output_type": "stream",
     "text": [
      "我在异常抛出之前，我要执行，哈哈。。。\n",
      "division by zero\n"
     ]
    }
   ],
   "source": [
    "# 可能包含多个except子句，分别来处理不同的特定的异常。但最多只有一个分支会被执行\n",
    "import sys\n",
    "try:\n",
    "    print('我在异常抛出之前，我要执行，哈哈。。。')\n",
    "    print(1/0)\n",
    "    print('不执行了。。。')\n",
    "except ValueError as e:\n",
    "    print(e)\n",
    "except NameError as e:\n",
    "    print(e)\n",
    "except ZeroDivisionError as e:\n",
    "    print(e)\n",
    "except IndexError as e:\n",
    "    print(e)\n",
    "except (RuntimeError, ImportError, TypeError) as e:  # 一个except子句可以同时处理多个异常，这些异常将被放在一个括号里成为一个元组\n",
    "    print(e)\n",
    "except:  # 最后一个except子句可以忽略异常的名称，它将被当作通配符使用，也就是说匹配所有异常\n",
    "    print('Unexpected error:', sys.exc_info()[0])"
   ]
  },
  {
   "cell_type": "code",
   "execution_count": 22,
   "metadata": {},
   "outputs": [
    {
     "name": "stdout",
     "output_type": "stream",
     "text": [
      "Could not convert data to an integer.\n"
     ]
    }
   ],
   "source": [
    "# 综合实例\n",
    "import sys\n",
    "\n",
    "try:\n",
    "    f = open('file_test/test.txt')\n",
    "    s = f.readline()\n",
    "    i = int(s.strip())\n",
    "except OSError as err:\n",
    "    print(\"OS error: {0}\".format(err))\n",
    "except ValueError:\n",
    "    print(\"Could not convert data to an integer.\")\n",
    "except:\n",
    "    print(\"Unexpected error:\", sys.exc_info()[0])\n",
    "    raise"
   ]
  },
  {
   "cell_type": "code",
   "execution_count": 23,
   "metadata": {},
   "outputs": [
    {
     "name": "stdout",
     "output_type": "stream",
     "text": [
      "错误\n"
     ]
    }
   ],
   "source": [
    "# 通用异常：Exception\n",
    "## 在Python的异常中，有一个通用异常：Exception，它可以捕获任意异常\n",
    "\n",
    "s1 = 'hello'\n",
    "try:\n",
    "    int(s1)\n",
    "except Exception as e:\n",
    "    print('错误')"
   ]
  },
  {
   "cell_type": "code",
   "execution_count": 24,
   "metadata": {},
   "outputs": [
    {
     "name": "stdout",
     "output_type": "stream",
     "text": [
      "cannot open -f\n",
      "/run/user/1000/jupyter/kernel-f8174d10-577b-4d1a-bc9b-2cff8db90454.json has 12 lines\n"
     ]
    }
   ],
   "source": [
    "# finally和else子句\n",
    "## try except语法还有一个可选的else子句，如果使用这个子句，那么必须放在所有的except子句之后,这个子句将在try子句没有发生任何异常的时候执行\n",
    "for arg in sys.argv[1:]:\n",
    "    try:\n",
    "        f = open(arg, 'r')\n",
    "    except IOError:\n",
    "        print('cannot open', arg)\n",
    "    else:\n",
    "        print(arg, 'has', len(f.readlines()), 'lines')\n",
    "        f.close()"
   ]
  },
  {
   "cell_type": "code",
   "execution_count": 29,
   "metadata": {},
   "outputs": [
    {
     "name": "stdout",
     "output_type": "stream",
     "text": [
      "try...\n",
      "ValueError: invalid literal for int() with base 10: 'a'\n",
      "无论上面什么情况，finally子句都会执行！\n",
      "END\n"
     ]
    }
   ],
   "source": [
    "# 同样的，还有一个可选的finally子句。无论try执行情况和except异常触发情况，finally子句都会被执行\n",
    "try:\n",
    "    print('try...')\n",
    "    r = 10 / int('a')\n",
    "    print('result:', r)\n",
    "except ValueError as e:\n",
    "    print('ValueError:', e)\n",
    "else:\n",
    "    print('try子句没有发生异常时，我else子句就要上场啦！')\n",
    "finally:\n",
    "    print('无论上面什么情况，finally子句都会执行！')\n",
    "print('END')"
   ]
  },
  {
   "cell_type": "code",
   "execution_count": 30,
   "metadata": {},
   "outputs": [
    {
     "name": "stdout",
     "output_type": "stream",
     "text": [
      "记录异常日志： division by zero\n",
      "但是我自己无法处理，只能继续抛出，看看上层能否处理（甩锅）\n"
     ]
    },
    {
     "ename": "ZeroDivisionError",
     "evalue": "division by zero",
     "output_type": "error",
     "traceback": [
      "\u001b[0;31m---------------------------------------------------------------------------\u001b[0m",
      "\u001b[0;31mZeroDivisionError\u001b[0m                         Traceback (most recent call last)",
      "\u001b[0;32m<ipython-input-30-b6ebd6df2c22>\u001b[0m in \u001b[0;36m<module>\u001b[0;34m()\u001b[0m\n\u001b[1;32m      3\u001b[0m \u001b[0;31m## 为什么要自己主动抛出异常？因为有的时候，你需要记录错误信息，然后将异常继续往上层传递，让上层去处理异常\u001b[0m\u001b[0;34m\u001b[0m\u001b[0;34m\u001b[0m\u001b[0m\n\u001b[1;32m      4\u001b[0m \u001b[0;32mtry\u001b[0m\u001b[0;34m:\u001b[0m\u001b[0;34m\u001b[0m\u001b[0m\n\u001b[0;32m----> 5\u001b[0;31m     \u001b[0;36m1\u001b[0m\u001b[0;34m/\u001b[0m\u001b[0;36m0\u001b[0m\u001b[0;34m\u001b[0m\u001b[0m\n\u001b[0m\u001b[1;32m      6\u001b[0m \u001b[0;32mexcept\u001b[0m \u001b[0mZeroDivisionError\u001b[0m \u001b[0;32mas\u001b[0m \u001b[0me\u001b[0m\u001b[0;34m:\u001b[0m\u001b[0;34m\u001b[0m\u001b[0m\n\u001b[1;32m      7\u001b[0m     \u001b[0mprint\u001b[0m\u001b[0;34m(\u001b[0m\u001b[0;34m\"记录异常日志：\"\u001b[0m\u001b[0;34m,\u001b[0m \u001b[0me\u001b[0m\u001b[0;34m)\u001b[0m\u001b[0;34m\u001b[0m\u001b[0m\n",
      "\u001b[0;31mZeroDivisionError\u001b[0m: division by zero"
     ]
    }
   ],
   "source": [
    "# 主动抛出异常：raise\n",
    "## raise唯一的一个参数指定了要被抛出的异常的实例，如果什么参数都不给，那么会默认抛出当前异常\n",
    "## 为什么要自己主动抛出异常？因为有的时候，你需要记录错误信息，然后将异常继续往上层传递，让上层去处理异常\n",
    "try:\n",
    "    1/0\n",
    "except ZeroDivisionError as e:\n",
    "    print(\"记录异常日志：\", e)\n",
    "    print(\"但是我自己无法处理，只能继续抛出，看看上层能否处理（甩锅）\")\n",
    "    raise"
   ]
  },
  {
   "cell_type": "code",
   "execution_count": 31,
   "metadata": {},
   "outputs": [
    {
     "name": "stdout",
     "output_type": "stream",
     "text": [
      "Please input a number: 4\n",
      "好像有什么不符合常理的事情发生了！！\n",
      "这是个人妖！\n"
     ]
    }
   ],
   "source": [
    "# 有时候，你需要主动弹出异常，作为警告或特殊处理\n",
    "sex = int(input(\"Please input a number: \"))\n",
    "\n",
    "try:\n",
    "    if sex == 1:\n",
    "        print(\"这是个男人！\")\n",
    "    elif sex == 0:\n",
    "        print(\"这是个女人！\")\n",
    "    else:\n",
    "        print(\"好像有什么不符合常理的事情发生了！！\")\n",
    "        raise ValueError(\"非法的输入\")\n",
    "except ValueError:\n",
    "    print(\"这是个人妖！\")"
   ]
  },
  {
   "cell_type": "code",
   "execution_count": 37,
   "metadata": {},
   "outputs": [
    {
     "name": "stdout",
     "output_type": "stream",
     "text": [
      "我的异常!\n"
     ]
    }
   ],
   "source": [
    "# 自定义异常\n",
    "## Python内置了很多的异常类，并且这些类都是从BaseException类派生的。\n",
    "'''\n",
    "AttributeError      试图访问一个对象没有的属性\n",
    "IOError             输入/输出异常\n",
    "ImportError         无法引入模块或包；多是路径问题或名称错误\n",
    "IndentationError    缩进错误\n",
    "IndexError          下标索引错误\n",
    "KeyError            试图访问不存在的键\n",
    "KeyboardInterrupt   Ctrl+C被按下，键盘终止输入\n",
    "NameError           使用未定义的变量\n",
    "SyntaxError         语法错误\n",
    "TypeError           传入对象的类型与要求的不符合\n",
    "UnboundLocalError   试图访问一个还未被设置的局部变量\n",
    "ValueError          传入一个调用者不期望的值，即使值的类型是正确的\n",
    "OSError             操作系统执行错误\n",
    "'''\n",
    "class MyException(Exception):\n",
    "    def __init__(self, msg):\n",
    "        self.msg = msg\n",
    "    def __str__(self):\n",
    "        return self.msg\n",
    "try:\n",
    "    raise MyException('我的异常!')\n",
    "except MyException as e:\n",
    "    print(e)"
   ]
  },
  {
   "cell_type": "code",
   "execution_count": null,
   "metadata": {
    "collapsed": true
   },
   "outputs": [],
   "source": []
  }
 ],
 "metadata": {
  "kernelspec": {
   "display_name": "Python 3",
   "language": "python",
   "name": "python3"
  },
  "language_info": {
   "codemirror_mode": {
    "name": "ipython",
    "version": 3
   },
   "file_extension": ".py",
   "mimetype": "text/x-python",
   "name": "python",
   "nbconvert_exporter": "python",
   "pygments_lexer": "ipython3",
   "version": "3.5.4"
  }
 },
 "nbformat": 4,
 "nbformat_minor": 2
}
