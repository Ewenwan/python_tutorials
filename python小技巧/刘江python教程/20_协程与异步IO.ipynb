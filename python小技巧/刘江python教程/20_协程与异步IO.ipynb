{
 "cells": [
  {
   "cell_type": "markdown",
   "metadata": {},
   "source": [
    "* 通常在Python中我们进行并发编程一般都是使用多线程或者多进程来实现的，对于CPU计算密集型任务由于GIL的存在通常使用多进程来实现，而对于IO密集型任务可以通过线程调度来让线程在执行IO任务时让出GIL，从而实现表面上的并发。\n",
    "* 其实对于IO密集型任务我们还有一种选择就是协程。协程，又称微线程，英文名Coroutine，是运行在单线程中的“并发”，协程相比多线程的一大优势就是省去了多线程之间的切换开销，获得了更高的运行效率。Python中的异步IO模块asyncio就是基本的协程模块。"
   ]
  },
  {
   "cell_type": "markdown",
   "metadata": {},
   "source": [
    "### 1. 协程\n",
    "* 协程的切换不同于线程切换，是由程序自身控制的，没有切换的开销。协程不需要多线程的锁机制，因为都是在同一个线程中运行，所以没有同时访问数据的问题，执行效率比多线程高很多。\n",
    "* 因为协程是单线程执行，那怎么利用多核CPU呢？最简单的方法是多进程+协程，既充分利用多核，又充分发挥协程的高效率，可获得极高的性能。\n",
    "* 进程/线程：操作系统提供的一种并发处理任务的能力。\n",
    "* 协程：程序员通过高超的代码能力，在代码执行流程中人为的实现多任务并发，是单个线程内的任务调度技巧。\n",
    "* 多进程和多线程体现的是操作系统的能力，而协程体现的是程序员的流程控制能力。看下面的例子，甲，乙两个工人模拟两个工作任务交替进行，在单线程内实现了类似多线程的功能"
   ]
  },
  {
   "cell_type": "code",
   "execution_count": 1,
   "metadata": {},
   "outputs": [
    {
     "name": "stdout",
     "output_type": "stream",
     "text": [
      "-----------------------------------\n",
      "<乙>工作了一段时间.....\n",
      "<乙>累了，让<甲>工作一会儿....\n",
      "<甲>工作了一段时间.....\n",
      "<甲>也累了，让<乙>工作一会儿\n",
      "-----------------------------------\n",
      "<乙>工作了一段时间.....\n",
      "<乙>累了，让<甲>工作一会儿....\n",
      "<甲>工作了一段时间.....\n",
      "<甲>也累了，让<乙>工作一会儿\n",
      "-----------------------------------\n",
      "<乙>工作了一段时间.....\n",
      "<乙>累了，让<甲>工作一会儿....\n"
     ]
    },
    {
     "ename": "KeyboardInterrupt",
     "evalue": "",
     "output_type": "error",
     "traceback": [
      "\u001b[0;31m---------------------------------------------------------------------------\u001b[0m",
      "\u001b[0;31mKeyboardInterrupt\u001b[0m                         Traceback (most recent call last)",
      "\u001b[0;32m<ipython-input-1-7122a4d47849>\u001b[0m in \u001b[0;36m<module>\u001b[0;34m()\u001b[0m\n\u001b[1;32m     22\u001b[0m     \u001b[0;32mfor\u001b[0m \u001b[0m_\u001b[0m \u001b[0;32min\u001b[0m \u001b[0mrange\u001b[0m\u001b[0;34m(\u001b[0m\u001b[0;36m5\u001b[0m\u001b[0;34m)\u001b[0m\u001b[0;34m:\u001b[0m\u001b[0;34m\u001b[0m\u001b[0m\n\u001b[1;32m     23\u001b[0m         \u001b[0mt\u001b[0m \u001b[0;34m=\u001b[0m \u001b[0mtask1\u001b[0m\u001b[0;34m(\u001b[0m\u001b[0;34m)\u001b[0m\u001b[0;34m\u001b[0m\u001b[0m\n\u001b[0;32m---> 24\u001b[0;31m         \u001b[0mtask2\u001b[0m\u001b[0;34m(\u001b[0m\u001b[0mt\u001b[0m\u001b[0;34m)\u001b[0m\u001b[0;34m\u001b[0m\u001b[0m\n\u001b[0m",
      "\u001b[0;32m<ipython-input-1-7122a4d47849>\u001b[0m in \u001b[0;36mtask2\u001b[0;34m(t)\u001b[0m\n\u001b[1;32m     15\u001b[0m         \u001b[0mtime\u001b[0m\u001b[0;34m.\u001b[0m\u001b[0msleep\u001b[0m\u001b[0;34m(\u001b[0m\u001b[0;36m2\u001b[0m\u001b[0;34m)\u001b[0m\u001b[0;34m\u001b[0m\u001b[0m\n\u001b[1;32m     16\u001b[0m         \u001b[0mprint\u001b[0m\u001b[0;34m(\u001b[0m\u001b[0;34m\"<乙>累了，让<甲>工作一会儿....\"\u001b[0m\u001b[0;34m)\u001b[0m\u001b[0;34m\u001b[0m\u001b[0m\n\u001b[0;32m---> 17\u001b[0;31m         \u001b[0mret\u001b[0m \u001b[0;34m=\u001b[0m \u001b[0mt\u001b[0m\u001b[0;34m.\u001b[0m\u001b[0msend\u001b[0m\u001b[0;34m(\u001b[0m\u001b[0;32mNone\u001b[0m\u001b[0;34m)\u001b[0m\u001b[0;34m\u001b[0m\u001b[0m\n\u001b[0m\u001b[1;32m     18\u001b[0m         \u001b[0mprint\u001b[0m\u001b[0;34m(\u001b[0m\u001b[0mret\u001b[0m\u001b[0;34m)\u001b[0m\u001b[0;34m\u001b[0m\u001b[0m\n\u001b[1;32m     19\u001b[0m     \u001b[0mt\u001b[0m\u001b[0;34m.\u001b[0m\u001b[0mclose\u001b[0m\u001b[0;34m(\u001b[0m\u001b[0;34m)\u001b[0m\u001b[0;34m\u001b[0m\u001b[0m\n",
      "\u001b[0;32m<ipython-input-1-7122a4d47849>\u001b[0m in \u001b[0;36mtask1\u001b[0;34m()\u001b[0m\n\u001b[1;32m      4\u001b[0m     \u001b[0;32mwhile\u001b[0m \u001b[0;32mTrue\u001b[0m\u001b[0;34m:\u001b[0m\u001b[0;34m\u001b[0m\u001b[0m\n\u001b[1;32m      5\u001b[0m         \u001b[0;32myield\u001b[0m \u001b[0;34m\"<甲>也累了，让<乙>工作一会儿\"\u001b[0m\u001b[0;34m\u001b[0m\u001b[0m\n\u001b[0;32m----> 6\u001b[0;31m         \u001b[0mtime\u001b[0m\u001b[0;34m.\u001b[0m\u001b[0msleep\u001b[0m\u001b[0;34m(\u001b[0m\u001b[0;36m1\u001b[0m\u001b[0;34m)\u001b[0m\u001b[0;34m\u001b[0m\u001b[0m\n\u001b[0m\u001b[1;32m      7\u001b[0m         \u001b[0mprint\u001b[0m\u001b[0;34m(\u001b[0m\u001b[0;34m\"<甲>工作了一段时间.....\"\u001b[0m\u001b[0;34m)\u001b[0m\u001b[0;34m\u001b[0m\u001b[0m\n\u001b[1;32m      8\u001b[0m \u001b[0;34m\u001b[0m\u001b[0m\n",
      "\u001b[0;31mKeyboardInterrupt\u001b[0m: "
     ]
    }
   ],
   "source": [
    "import time\n",
    "\n",
    "def task1():\n",
    "    while True:\n",
    "        yield \"<甲>也累了，让<乙>工作一会儿\"\n",
    "        time.sleep(1)\n",
    "        print(\"<甲>工作了一段时间.....\")\n",
    "\n",
    "\n",
    "def task2(t):\n",
    "    next(t)\n",
    "    while True:\n",
    "        print(\"-----------------------------------\")\n",
    "        print(\"<乙>工作了一段时间.....\")\n",
    "        time.sleep(2)\n",
    "        print(\"<乙>累了，让<甲>工作一会儿....\")\n",
    "        ret = t.send(None)\n",
    "        print(ret)\n",
    "    t.close()\n",
    "\n",
    "if __name__ == '__main__':\n",
    "    t = task1()\n",
    "    task2(t)"
   ]
  },
  {
   "cell_type": "markdown",
   "metadata": {},
   "source": [
    "### 2.yield\n",
    "* 最早的时候，Python提供了yield关键字，用于制造生成器。也就是说，包含有yield的函数，都是一个生成器\n",
    "* yield的语法规则是：在yield这里暂停函数的执行，并返回yield后面表达式的值（默认为None），直到被next()方法再次调用时，从上次暂停的yield代码处继续往下执行。当没有可以继续next()的时候，抛出异常，该异常可被for循环处理。"
   ]
  },
  {
   "cell_type": "code",
   "execution_count": 2,
   "metadata": {},
   "outputs": [
    {
     "name": "stdout",
     "output_type": "stream",
     "text": [
      "1\n",
      "1\n",
      "2\n",
      "3\n",
      "5\n",
      "8\n",
      "13\n",
      "21\n",
      "34\n",
      "55\n"
     ]
    }
   ],
   "source": [
    "def fib(n):\n",
    "    a, b = 0, 1\n",
    "    i = 0\n",
    "    while i < n:\n",
    "        yield b\n",
    "        a, b = b, a+b\n",
    "        i += 1\n",
    "\n",
    "if __name__ == '__main__':\n",
    "    f = fib(10)\n",
    "    for item in f:\n",
    "        print(item)"
   ]
  },
  {
   "cell_type": "markdown",
   "metadata": {},
   "source": [
    "### 3. send()\n",
    "* 最初的yield只能返回并暂停函数，并不能实现协程的功能。后来，Python为它定义了新的功能——接收外部发来的值，这样一个生成器就变成了协程。\n",
    "* 每个生成器都可以执行send()方法，为生成器内部的yield语句发送数据。此时yield语句不再只是yield xxxx的形式，还可以是var = yield xxxx的赋值形式。它同时具备两个功能，一是暂停并返回函数，二是接收外部send()方法发送过来的值，重新激活函数，并将这个值赋值给var变量！"
   ]
  },
  {
   "cell_type": "code",
   "execution_count": 3,
   "metadata": {},
   "outputs": [
    {
     "name": "stdout",
     "output_type": "stream",
     "text": [
      "-> 启动协程\n",
      "10\n",
      "-> 协程接收到了x的值: 10\n"
     ]
    },
    {
     "ename": "StopIteration",
     "evalue": "",
     "output_type": "error",
     "traceback": [
      "\u001b[0;31m---------------------------------------------------------------------------\u001b[0m",
      "\u001b[0;31mStopIteration\u001b[0m                             Traceback (most recent call last)",
      "\u001b[0;32m<ipython-input-3-66b43ce1f4cb>\u001b[0m in \u001b[0;36m<module>\u001b[0;34m()\u001b[0m\n\u001b[1;32m      8\u001b[0m \u001b[0mret\u001b[0m \u001b[0;34m=\u001b[0m \u001b[0mnext\u001b[0m\u001b[0;34m(\u001b[0m\u001b[0mmy_coro\u001b[0m\u001b[0;34m)\u001b[0m\u001b[0;34m\u001b[0m\u001b[0m\n\u001b[1;32m      9\u001b[0m \u001b[0mprint\u001b[0m\u001b[0;34m(\u001b[0m\u001b[0mret\u001b[0m\u001b[0;34m)\u001b[0m\u001b[0;34m\u001b[0m\u001b[0m\n\u001b[0;32m---> 10\u001b[0;31m \u001b[0mmy_coro\u001b[0m\u001b[0;34m.\u001b[0m\u001b[0msend\u001b[0m\u001b[0;34m(\u001b[0m\u001b[0;36m10\u001b[0m\u001b[0;34m)\u001b[0m\u001b[0;34m\u001b[0m\u001b[0m\n\u001b[0m",
      "\u001b[0;31mStopIteration\u001b[0m: "
     ]
    }
   ],
   "source": [
    "def simple_coroutine():\n",
    "    print('-> 启动协程')\n",
    "    y = 10\n",
    "    x = yield y\n",
    "    print('-> 协程接收到了x的值:', x)\n",
    "\n",
    "my_coro = simple_coroutine()\n",
    "ret = next(my_coro)\n",
    "print(ret)\n",
    "my_coro.send(10)"
   ]
  },
  {
   "cell_type": "markdown",
   "metadata": {},
   "source": [
    "### 4. @asyncio.coroutine与yield from\n",
    "* @asyncio.coroutine：asyncio模块中的装饰器，用于将一个生成器声明为协程。\n",
    "* yield from 其实就是等待另外一个协程的返回。\n",
    "* 下面这段代码，我们创造了一个协程display_date(num, loop)，然后它使用关键字yield from来等待协程asyncio.sleep(2)()的返回结果。而在这等待的2s之间它会让出CPU的执行权，直到asyncio.sleep(2)返回结果。asyncio.sleep(2)模拟的其实就是一个耗时2秒的IO读写操作。"
   ]
  },
  {
   "cell_type": "code",
   "execution_count": 4,
   "metadata": {},
   "outputs": [
    {
     "name": "stdout",
     "output_type": "stream",
     "text": [
      "Loop: 2 Time: 2018-11-22 09:21:44.265471\n",
      "Loop: 1 Time: 2018-11-22 09:21:44.265695\n",
      "Loop: 2 Time: 2018-11-22 09:21:46.268356\n",
      "Loop: 1 Time: 2018-11-22 09:21:46.269303\n",
      "Loop: 2 Time: 2018-11-22 09:21:48.272431\n",
      "Loop: 1 Time: 2018-11-22 09:21:48.274034\n",
      "Loop: 2 Time: 2018-11-22 09:21:50.276245\n",
      "Loop: 1 Time: 2018-11-22 09:21:50.276766\n",
      "Loop: 2 Time: 2018-11-22 09:21:52.279649\n",
      "Loop: 1 Time: 2018-11-22 09:21:52.280147\n",
      "Loop: 2 Time: 2018-11-22 09:21:54.282648\n",
      "Loop: 1 Time: 2018-11-22 09:21:54.282852\n"
     ]
    }
   ],
   "source": [
    "import asyncio\n",
    "import datetime\n",
    "\n",
    "@asyncio.coroutine  # 声明一个协程\n",
    "def display_date(num, loop):\n",
    "    end_time = loop.time() + 10.0\n",
    "    while True:\n",
    "        print(\"Loop: {} Time: {}\".format(num, datetime.datetime.now()))\n",
    "        if (loop.time() + 1.0) >= end_time:\n",
    "            break\n",
    "        yield from asyncio.sleep(2)  # 阻塞直到协程sleep(2)返回结果\n",
    "loop = asyncio.get_event_loop()  # 获取一个event_loop\n",
    "tasks = [display_date(1, loop), display_date(2, loop)]\n",
    "loop.run_until_complete(asyncio.gather(*tasks))  # \"阻塞\"直到所有的tasks完成\n",
    "loop.close()"
   ]
  },
  {
   "cell_type": "markdown",
   "metadata": {},
   "source": [
    "### 5. async和await\n",
    "* Python3.5中对协程提供了更直接的支持，引入了async/await关键字\n"
   ]
  },
  {
   "cell_type": "code",
   "execution_count": 1,
   "metadata": {},
   "outputs": [
    {
     "name": "stdout",
     "output_type": "stream",
     "text": [
      "Loop: 1 Time: 2018-11-22 09:24:14.451968\n",
      "Loop: 2 Time: 2018-11-22 09:24:14.452192\n",
      "Loop: 1 Time: 2018-11-22 09:24:16.454954\n",
      "Loop: 2 Time: 2018-11-22 09:24:16.455803\n",
      "Loop: 1 Time: 2018-11-22 09:24:18.457261\n",
      "Loop: 2 Time: 2018-11-22 09:24:18.457630\n",
      "Loop: 1 Time: 2018-11-22 09:24:20.460330\n",
      "Loop: 2 Time: 2018-11-22 09:24:20.461131\n",
      "Loop: 1 Time: 2018-11-22 09:24:22.464021\n",
      "Loop: 2 Time: 2018-11-22 09:24:22.464533\n",
      "Loop: 1 Time: 2018-11-22 09:24:24.467380\n",
      "Loop: 2 Time: 2018-11-22 09:24:24.469023\n"
     ]
    }
   ],
   "source": [
    "import asyncio\n",
    "import datetime\n",
    "\n",
    "async def display_date(num, loop):      # 注意这一行的写法\n",
    "    end_time = loop.time() + 10.0\n",
    "    while True:\n",
    "        print(\"Loop: {} Time: {}\".format(num, datetime.datetime.now()))\n",
    "        if (loop.time() + 1.0) >= end_time:\n",
    "            break\n",
    "        await asyncio.sleep(2)  # 阻塞直到协程sleep(2)返回结果\n",
    "\n",
    "loop = asyncio.get_event_loop()  # 获取一个event_loop\n",
    "tasks = [display_date(1, loop), display_date(2, loop)]\n",
    "loop.run_until_complete(asyncio.gather(*tasks))  # \"阻塞\"直到所有的tasks完成\n",
    "loop.close()"
   ]
  },
  {
   "cell_type": "markdown",
   "metadata": {},
   "source": [
    "### 6. asyncio模块\n",
    "* asyncio的使用可分三步走：\n",
    "    * 创建事件循环\n",
    "    * 指定循环模式并运行\n",
    "    * 关闭循环\n",
    "* 通常我们使用asyncio.get_event_loop()方法创建一个循环\n",
    "* 运行循环有两种方法：一是调用run_until_complete()方法，二是调用run_forever()方法。run_until_complete()内置add_done_callback回调函数，run_forever()则可以自定义add_done_callback()"
   ]
  },
  {
   "cell_type": "code",
   "execution_count": 1,
   "metadata": {},
   "outputs": [
    {
     "name": "stdout",
     "output_type": "stream",
     "text": [
      "False\n",
      "Future is done!\n"
     ]
    }
   ],
   "source": [
    "import asyncio\n",
    "\n",
    "async def func(future):\n",
    "    await asyncio.sleep(1)\n",
    "    future.set_result('Future is done!')\n",
    "\n",
    "if __name__ == '__main__':\n",
    "\n",
    "    loop = asyncio.get_event_loop()\n",
    "    future = asyncio.Future()\n",
    "    asyncio.ensure_future(func(future))\n",
    "    print(loop.is_running())   # 查看当前状态时循环是否已经启动\n",
    "    loop.run_until_complete(future)   # 使用run_until_complete()方法\n",
    "    print(future.result())\n",
    "    loop.close()"
   ]
  },
  {
   "cell_type": "code",
   "execution_count": 1,
   "metadata": {},
   "outputs": [
    {
     "name": "stdout",
     "output_type": "stream",
     "text": [
      "Future is done!\n"
     ]
    }
   ],
   "source": [
    "import asyncio\n",
    "\n",
    "async def func(future):\n",
    "    await asyncio.sleep(1)\n",
    "    future.set_result('Future is done!')\n",
    "\n",
    "# 自定义回调函数\n",
    "def call_result(future):\n",
    "    print(future.result())\n",
    "    loop.stop()\n",
    "\n",
    "if __name__ == '__main__':\n",
    "    loop = asyncio.get_event_loop()\n",
    "    future = asyncio.Future()\n",
    "    asyncio.ensure_future(func(future))\n",
    "    future.add_done_callback(call_result)        # 注意这行,自定义回调函数\n",
    "    try:\n",
    "        loop.run_forever()   # 使用run_forever()方法\n",
    "    finally:\n",
    "        loop.close()"
   ]
  },
  {
   "cell_type": "code",
   "execution_count": null,
   "metadata": {
    "collapsed": true
   },
   "outputs": [],
   "source": []
  }
 ],
 "metadata": {
  "kernelspec": {
   "display_name": "Python 3",
   "language": "python",
   "name": "python3"
  },
  "language_info": {
   "codemirror_mode": {
    "name": "ipython",
    "version": 3
   },
   "file_extension": ".py",
   "mimetype": "text/x-python",
   "name": "python",
   "nbconvert_exporter": "python",
   "pygments_lexer": "ipython3",
   "version": "3.5.4"
  }
 },
 "nbformat": 4,
 "nbformat_minor": 2
}
