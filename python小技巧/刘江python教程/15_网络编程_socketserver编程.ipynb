{
 "cells": [
  {
   "cell_type": "code",
   "execution_count": null,
   "metadata": {
    "collapsed": true
   },
   "outputs": [],
   "source": [
    "\"\"\"\n",
    "对多线程网络服务器的要求，提供了socketserver模块，socketserver在内部使用IO多路复用以及多线程/进程机制，实现并发处理多个客户端请求的socket服务端\n",
    "每个客户端请求连接到服务器时，socketserver的服务端都会创建一个线程或进程专门负责处理当前客户端的所有请求\n",
    "\n",
    "\n",
    "对于socketserver模块，最常用的是ThreadingTCPServer，定义如下:\n",
    "                    class ThreadingTCPServer(ThreadingMixIn, TCPServer): pass\n",
    "\"\"\"\n",
    "----------------------------------------------------------------------------------------\n",
    "\"\"\"\n",
    "ThreadingMixIn为它提供了多线程能力，TCPServer为它提供基本的socket通信能力\n",
    "ThreadingTCPServer实现的Soket服务器内部会为每个客户端创建一个线程，该线程用来和客户端进行交互。\n",
    "服务器相当于一个总管，在接收连接并创建新的线程后，就撒手不管了，后面的通信就是线程和客户端之间的连接了，一定要理解这一点！\n",
    "\"\"\"\n",
    "# 使用ThreadingTCPServer的要点:\n",
    "\"\"\"\n",
    "1.创建一个继承自socketserver.BaseRequestHandler的类；\n",
    "2.这个类中必须定义一个名字为handle的方法，不能是别的名字！\n",
    "3.将这个类，连同服务器的ip和端口，作为参数传递给ThreadingTCPServer()构造器\n",
    "4.手动启动ThreadingTCPServer。\n",
    "\"\"\"\n",
    "\n"
   ]
  }
 ],
 "metadata": {
  "kernelspec": {
   "display_name": "Python 3",
   "language": "python",
   "name": "python3"
  },
  "language_info": {
   "codemirror_mode": {
    "name": "ipython",
    "version": 3
   },
   "file_extension": ".py",
   "mimetype": "text/x-python",
   "name": "python",
   "nbconvert_exporter": "python",
   "pygments_lexer": "ipython3",
   "version": "3.5.4"
  }
 },
 "nbformat": 4,
 "nbformat_minor": 2
}
