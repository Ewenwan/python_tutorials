{
 "cells": [
  {
   "cell_type": "markdown",
   "metadata": {},
   "source": [
    "* Python中的multiprocess提供了Process类，实现进程相关的功能。但是它基于fork机制，因此不被windows平台支持。想要在windows中运行，必须使用` if __name__ == '__main__':` 的方式，显然这只能用于调试和学习，不能用于实际环境。\n",
    "* 另外，在multiprocess中你既可以import大写的Process，也可以import小写的process，这两者是完全不同的东西。这种情况在Python中很多，请一定要小心和注意。"
   ]
  },
  {
   "cell_type": "code",
   "execution_count": 1,
   "metadata": {},
   "outputs": [
    {
     "name": "stdout",
     "output_type": "stream",
     "text": [
      "这里是: Process-4\n",
      "这里是: Process-5\n",
      "模块的名称: __main__\n",
      "父进程id: 4358\n",
      "模块的名称: __main__\n",
      "当前子进程id: 4378\n",
      "这里是: Process-2\n",
      "这里是: Process-1\n",
      "-----------------------------------------\n",
      "父进程id: 4358\n",
      "模块的名称: __main__\n",
      "这里是: Process-3\n",
      "模块的名称: __main__\n",
      "模块的名称: __main__\n",
      "当前子进程id: 4380\n",
      "父进程id: 4358\n",
      "父进程id: 4358\n",
      "当前子进程id: 4376\n",
      "-----------------------------------------\n",
      "-----------------------------------------\n",
      "当前子进程id: 4374\n",
      "父进程id: 4358\n",
      "-----------------------------------------\n",
      "当前子进程id: 4373\n",
      "-----------------------------------------\n"
     ]
    }
   ],
   "source": [
    "import os\n",
    "import multiprocessing\n",
    "\n",
    "\n",
    "def foo(i):\n",
    "    # 同样的参数传递方法\n",
    "    print(\"这里是:\", multiprocessing.current_process().name)\n",
    "    print(\"模块的名称:\", __name__)\n",
    "    print(\"父进程id:\", os.getppid())\n",
    "    print(\"当前子进程id:\", os.getpid())\n",
    "    print(\"-----------------------------------------\")\n",
    "\n",
    "if __name__ == '__main__':\n",
    "    for i in range(5):\n",
    "        p = multiprocessing.Process(target=foo, args=(i,))\n",
    "        p.start()"
   ]
  },
  {
   "cell_type": "markdown",
   "metadata": {},
   "source": [
    "#### 1.进程间的数据共享\n",
    "* 在Linux中，每个子进程的数据都是由父进程提供的，每启动一个子进程就从父进程克隆一份数据。\n",
    "* 创建一个进程需要非常大的开销，每个进程都有自己独立的数据空间，不同进程之间通常是不能共享数据的，要想共享数据，一般通过中间件来实现。\n",
    "* 想要在进程之间进行数据共享可以使用Queues、Array和Manager这三个multiprocess模块提供的类。"
   ]
  },
  {
   "cell_type": "code",
   "execution_count": 1,
   "metadata": {},
   "outputs": [
    {
     "name": "stdout",
     "output_type": "stream",
     "text": [
      "这是进程: 3 lis列表是: [3] lis列表的id是: 139875684224200\n",
      "最后的lis列表是: []\n",
      "这是进程: 4 lis列表是: [4] lis列表的id是: 139875684224200\n",
      "这是进程: 2 lis列表是: [2] lis列表的id是: 139875684224200\n",
      "这是进程: 1 lis列表是: [1] lis列表的id是: 139875684224200\n",
      "这是进程: 0 lis列表是: [0] lis列表的id是: 139875684224200\n"
     ]
    }
   ],
   "source": [
    "from multiprocessing import Process\n",
    "\n",
    "lis = []\n",
    "\n",
    "def foo(i):\n",
    "    lis.append(i)\n",
    "    print(\"这是进程:\", i, \"lis列表是:\", lis, \"lis列表的id是:\", id(lis))\n",
    "\n",
    "if __name__=='__main__':\n",
    "    for i in range(5):\n",
    "        p = Process(target=foo, args=(i,))\n",
    "        p.start()\n",
    "    print(\"最后的lis列表是:\", lis)"
   ]
  },
  {
   "cell_type": "markdown",
   "metadata": {},
   "source": [
    "#### 1.1 使用Array共享数据\n",
    "* 对于Array数组类，括号内的“i”表示它内部的元素全部是int类型，而不是指字符“i”，数组内的元素可以预先指定，也可以只指定数组的长度。Array类在实例化的时候必须指定数组的数据类型和数组的大小，类似temp = Array('i', 5)"
   ]
  },
  {
   "cell_type": "code",
   "execution_count": 2,
   "metadata": {},
   "outputs": [
    {
     "name": "stdout",
     "output_type": "stream",
     "text": [
      "进程0   修改数组第一个元素后-----> 101\n",
      "进程1   修改数组第一个元素后-----> 201\n",
      "进程2   修改数组第一个元素后-----> 301\n",
      "进程3   修改数组第一个元素后-----> 401\n",
      "进程4   修改数组第一个元素后-----> 501\n",
      "进程5   修改数组第一个元素后-----> 601\n",
      "进程6   修改数组第一个元素后-----> 701\n",
      "进程7   修改数组第一个元素后-----> 801\n",
      "进程8   修改数组第一个元素后-----> 901\n",
      "进程9   修改数组第一个元素后-----> 1001\n"
     ]
    }
   ],
   "source": [
    "from multiprocessing import Process\n",
    "from multiprocessing import Array\n",
    "\n",
    "def func(i,temp):\n",
    "    temp[0] += 100\n",
    "    print(\"进程%s \" % i, ' 修改数组第一个元素后----->', temp[0])\n",
    "\n",
    "if __name__ == '__main__':\n",
    "    temp = Array('i', [1, 2, 3, 4])\n",
    "    for i in range(10):\n",
    "        p = Process(target=func, args=(i, temp))\n",
    "        p.start()"
   ]
  },
  {
   "cell_type": "markdown",
   "metadata": {},
   "source": [
    "#### 1.2 使用Manager共享数据\n",
    "* 通过Manager类也可以实现进程间数据的共享。Manager()返回的manager对象提供一个服务进程，使得其他进程可以通过代理的方式操作Python对象。manager对象支持 list, dict, Namespace, Lock, RLock, Semaphore, BoundedSemaphore, Condition, Event, Barrier, Queue, Value ,Array等多种格式。"
   ]
  },
  {
   "cell_type": "code",
   "execution_count": 3,
   "metadata": {},
   "outputs": [
    {
     "name": "stdout",
     "output_type": "stream",
     "text": [
      "[('num', 100)]\n",
      "[('num', 101)]\n",
      "[('num', 102)]\n",
      "[('num', 103)]\n",
      "[('num', 104)]\n",
      "[('num', 105)]\n",
      "[('num', 106)]\n",
      "[('num', 107)]\n",
      "[('num', 108)]\n",
      "[('num', 109)]\n"
     ]
    }
   ],
   "source": [
    "from multiprocessing import Process\n",
    "from multiprocessing import Manager\n",
    "\n",
    "def func(i, dic):\n",
    "    dic[\"num\"] = 100+i\n",
    "    print(dic.items())\n",
    "\n",
    "if __name__ == '__main__':\n",
    "    dic = Manager().dict()\n",
    "    for i in range(10):\n",
    "        p = Process(target=func, args=(i, dic))\n",
    "        p.start()\n",
    "        p.join()"
   ]
  },
  {
   "cell_type": "markdown",
   "metadata": {},
   "source": [
    "#### 1.3 使用queues的Queue类共享数据\n",
    "* multiprocessing是一个包，它内部又一个queues模块，提供了一个Queue队列类，可以实现进程间的数据共享\n",
    "* multiprocessing自己还有一个Queue类(大写的Q)，一样能实现queues.Queue的功能，导入方式是from multiprocessing import Queue"
   ]
  },
  {
   "cell_type": "code",
   "execution_count": 4,
   "metadata": {},
   "outputs": [
    {
     "name": "stdout",
     "output_type": "stream",
     "text": [
      "进程0从队列里获取了一个0，然后又向队列里放入了一个0\n",
      "进程1从队列里获取了一个0，然后又向队列里放入了一个1\n",
      "进程4从队列里获取了一个1，然后又向队列里放入了一个4\n",
      "进程3从队列里获取了一个4，然后又向队列里放入了一个3\n",
      "进程2从队列里获取了一个3，然后又向队列里放入了一个2\n",
      "进程5从队列里获取了一个2，然后又向队列里放入了一个5\n",
      "进程6从队列里获取了一个5，然后又向队列里放入了一个6\n",
      "进程7从队列里获取了一个6，然后又向队列里放入了一个7\n",
      "进程9从队列里获取了一个7，然后又向队列里放入了一个9\n",
      "进程8从队列里获取了一个9，然后又向队列里放入了一个8\n"
     ]
    }
   ],
   "source": [
    "import multiprocessing\n",
    "from multiprocessing import Process\n",
    "from multiprocessing import queues\n",
    "\n",
    "def func(i, q):\n",
    "    ret = q.get()\n",
    "    print(\"进程%s从队列里获取了一个%s，然后又向队列里放入了一个%s\" % (i, ret, i))\n",
    "    q.put(i)\n",
    "\n",
    "if __name__ == \"__main__\":\n",
    "    lis = queues.Queue(20, ctx=multiprocessing)\n",
    "    lis.put(0)\n",
    "    for i in range(10):\n",
    "        p = Process(target=func, args=(i, lis,))\n",
    "        p.start()"
   ]
  },
  {
   "cell_type": "markdown",
   "metadata": {},
   "source": [
    "#### 2. 进程锁\n",
    "* 为了防止和多线程出现一样的数据抢夺和脏数据的问题，同样需要设置进程锁。与threading类似，在multiprocessing里也有同名的锁类RLock，Lock，Event，Condition和 Semaphore，连用法都是一样的"
   ]
  },
  {
   "cell_type": "code",
   "execution_count": 5,
   "metadata": {},
   "outputs": [
    {
     "name": "stdout",
     "output_type": "stream",
     "text": [
      "say hi 9\n",
      "say hi 8\n",
      "say hi 7\n",
      "say hi 6\n",
      "say hi 5\n",
      "say hi 4\n",
      "say hi 3\n",
      "say hi 2\n",
      "say hi 1\n",
      "say hi 0\n"
     ]
    }
   ],
   "source": [
    "from multiprocessing import Process\n",
    "from multiprocessing import Array\n",
    "from multiprocessing import RLock, Lock, Event, Condition, Semaphore\n",
    "import time\n",
    "\n",
    "def func(i,lis,lc):\n",
    "    lc.acquire()\n",
    "    lis[0] = lis[0] - 1\n",
    "    time.sleep(1)\n",
    "    print('say hi', lis[0])\n",
    "    lc.release()\n",
    "\n",
    "if __name__ == \"__main__\":\n",
    "    array = Array('i', 1)\n",
    "    array[0] = 10\n",
    "    lock = RLock()\n",
    "    for i in range(10):\n",
    "        p = Process(target=func, args=(i, array, lock))\n",
    "        p.start()"
   ]
  },
  {
   "cell_type": "code",
   "execution_count": null,
   "metadata": {
    "collapsed": true
   },
   "outputs": [],
   "source": [
    "#### 3. 进程池Pool类\n",
    "* 进程启动的开销比较大，过多的创建新进程会消耗大量的内存空间。仿照线程池的做法，我们可以使用进程池控制内存开销。\n",
    "* 比较幸运的是，Python给我们内置了一个进程池，不需要像线程池那样要自己写，你只需要简单的from multiprocessing import Pool导入就行\n",
    "* 进程池内部维护了一个进程序列，需要时就去进程池中拿取一个进程，如果进程池序列中没有可供使用的进程，那么程序就会等待，直到进程池中有可用进程为止。\n",
    "* 进程池中常用的方法：\n",
    "    * apply() 同步执行（串行）\n",
    "    * apply_async() 异步执行（并行）\n",
    "    * terminate() 立刻关闭进程池\n",
    "    * join() 主进程等待所有子进程执行完毕。必须在close或terminate()之后。\n",
    "    * close() 等待所有进程结束后，才关闭进程池。\n"
   ]
  }
 ],
 "metadata": {
  "kernelspec": {
   "display_name": "Python 3",
   "language": "python",
   "name": "python3"
  },
  "language_info": {
   "codemirror_mode": {
    "name": "ipython",
    "version": 3
   },
   "file_extension": ".py",
   "mimetype": "text/x-python",
   "name": "python",
   "nbconvert_exporter": "python",
   "pygments_lexer": "ipython3",
   "version": "3.5.4"
  }
 },
 "nbformat": 4,
 "nbformat_minor": 2
}
