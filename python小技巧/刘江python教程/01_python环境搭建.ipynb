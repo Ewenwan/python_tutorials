{
 "cells": [
  {
   "cell_type": "code",
   "execution_count": 3,
   "metadata": {
    "collapsed": true
   },
   "outputs": [],
   "source": [
    "# linux下安装python\n",
    "\n",
    "## sudo apt-get install python2.7 python2.7-dev\n",
    "## sudo apt-get install python3.5 python3.5-dev"
   ]
  },
  {
   "cell_type": "code",
   "execution_count": 4,
   "metadata": {
    "collapsed": true
   },
   "outputs": [],
   "source": [
    "# pip的安装和使用\n",
    "\n",
    "## python2.7默认安装easy_install\n",
    "## 查看pip版本  pip -V\n",
    "\n",
    "## pip安装: sudo apt-get install pip\n",
    "## pip 升级: pip install -U pip\n",
    "## pip 使用\n",
    "    ## 输入pip，查看帮助说明\n",
    "    ## 普通安装 pip install pillow\n",
    "    ## 指定版本安装 pip install 'markdown<2.0'  pip install django==2.0\n",
    "    ## 卸载已经安装的库  pip uninstall pillow\n",
    "    ## 列出已经安装的库  pip list\n",
    "    ## 将已经安装的库列表保存到文本文件中  pip freeze > requirements.txt\n",
    "    ## 根据依赖文件批量安装库    pip install -r requirements.txt\n",
    "    ## 使用wheel文件安装  pip install pillow-4.2xxxxxx.whl"
   ]
  },
  {
   "cell_type": "code",
   "execution_count": null,
   "metadata": {
    "collapsed": true
   },
   "outputs": [],
   "source": [
    "# virtualenv 虚拟环境\n",
    "\n",
    "## 有时候会安装不同版本的python解释器，需要安装不同版本的模块，\n",
    "## 为了安全可靠的管理这些环境，需要为每个项目或应用独自建立一套‘独立、隔离’的python运行环境\n",
    "## virtualenv就是用来为每一个项目创建一套“独立隔离”的Python运行环境的工具\n",
    "## 核心要点：\n",
    "    '''\n",
    "    一个操作系统下，可以有多个“操作系统级别的”Python解释器；\n",
    "    每个Python解释器有一个指向自己的pip工具，两者一一对应；\n",
    "    通过virtualenv可以虚拟任何一个“操作系统级别的”Python解释器成为一个“虚拟级别”的解释器；\n",
    "    每个“虚拟级别”的解释器又拥有自己独立的pip工具和site-packages。\n",
    "    '''\n",
    "## 安装virtualenv\n",
    "    ## pip install virtualenv\n",
    "    ## where virtualenv验证安装\n",
    "## 建立虚拟环境\n",
    "    ## 通常建立一个目录文件夹，用来放置所有的虚拟环境\n",
    "        ## nkdir d:\\python_virtualenvs\n",
    "        ## virtualenv -p 虚拟的python版本 --no-site-packages d:\\python_virtualenvs\\for_Django\n",
    "        ## 进入虚拟环境的目录下的script文件夹下，运行activate命令，激活虚拟环境\n",
    "        ## 退出虚拟环境  deactivate"
   ]
  },
  {
   "cell_type": "code",
   "execution_count": 9,
   "metadata": {},
   "outputs": [
    {
     "data": {
      "text/plain": [
       "'Convenience function to create Timer object and call timeit method.'"
      ]
     },
     "execution_count": 9,
     "metadata": {},
     "output_type": "execute_result"
    }
   ],
   "source": [
    "## 帮助文档\n",
    "\n",
    "## help()能够打印出指定方法、函数、变量、类的说明信息\n",
    "## dir()能够列出对象的所有成员，帮助你快速查找方法和变量\n",
    "import timeit\n",
    "\n",
    "dir(timeit)\n",
    "# help(timeit)\n",
    "## 还可以通过__doc__成员查看对象的帮助文档\n",
    "timeit.__doc__  # 查看模块的说明\n",
    "timeit.timeit.__doc__  # 查看方法的说明"
   ]
  },
  {
   "cell_type": "code",
   "execution_count": null,
   "metadata": {
    "collapsed": true
   },
   "outputs": [],
   "source": [
    "## 编译器与解释器------高级语言与机器之间的翻译官\n",
    "\n",
    "## 都是将代码翻译成机器可以执行的二进制机器码，只不过在运行原理和翻译过程有不同而已。\n",
    "## 两种区别,用一个通俗的例子进行比喻: 我们去饭馆吃饭，点了八菜一汤。编译器的方式就是厨师把所有的菜给你全做好了，一起给你端上来，至于你在哪吃，怎么吃，随便。\n",
    "## 解释器的方式就是厨师做好一个菜给你上一个菜，你就吃这个菜，而且必须在饭店里吃。\n",
    "\n",
    "\n",
    "##  Python解释器种类:\n",
    "    ## CPython：官方版本的解释器。这个解释器是用C语言开发的，所以叫CPython。CPython是使用最广的Python解释器。我们通常说的、下载的、讨论的、使用的都是这个解释器。\n",
    "    ## Ipython：基于CPython之上的一个交互式解释器，在交互方式上有所增强，执行Python代码的功能和CPython是完全一样的。CPython用>>>作为提示符，而IPython用In [序号]:作为提示符。\n",
    "    ## PyPy：一个追求执行速度的Python解释器。采用JIT技术，对Python代码进行动态编译（注意，不是解释），可以显著提高Python代码的执行速度。绝大部分CPython代码都可以在PyPy下运行，但还是有一些不同的，这就导致相同的Python代码在两种解释器下执行可能会有不同的结果。\n",
    "    ## Jython：运行在Java平台上的Python解释器，可以直接把Python代码编译成Java字节码执行。\n",
    "    ## IronPython：和Jython类似，只不过IronPython是运行在微软.Net平台上的Python解释器，可以直接把Python代码编译成.Net的字节码。\n",
    "\n",
    "## Python的运行机制:\n",
    "    ## Python作为动态解释性语言，其运行机制可参考python运行机制图\n",
    "    ## 都说解释器慢，Python也有想办法提高一下运行速度的，那就是使用pyc文件\n",
    "    ## 我们编写的代码一般都会保存在以.py为后缀的文件中。在执行程序时，解释器逐行读取源代码并逐行解释运行。每执行一次，就重复一次这个过程，这其中耗费了大量的重复性的解释工作。为了减少这一重复性的解释工作，Python引入了pyc文件，pyc文件是将py文件的解释结果保存下来的文件，这样，下次再运行的时候就不用再解释了，直接使用pyc文件就可以了，这无疑大大提高了程序运行速度。\n",
    "    ## 对于pyc文件，你必须知道以下几点：\n",
    "        ## 对于当前调用的主程序不会生成pyc文件；\n",
    "        ## 以import xxx或from xxx import xxx等方式导入主程序的模块才会生成pyc文件；\n",
    "        ## 每次使用pyc文件时，都会根据pyc文件的创建时间和源模块进行对比，如果源模块有修改，则重新创建pyc文件，并覆盖先前的pyc文件，如果没有修改，直接使用pyc文件代替模块；\n",
    "        ## pyc文件统一保存在模块所在目录的__pycache__文件夹内。"
   ]
  }
 ],
 "metadata": {
  "kernelspec": {
   "display_name": "Python 3",
   "language": "python",
   "name": "python3"
  },
  "language_info": {
   "codemirror_mode": {
    "name": "ipython",
    "version": 3
   },
   "file_extension": ".py",
   "mimetype": "text/x-python",
   "name": "python",
   "nbconvert_exporter": "python",
   "pygments_lexer": "ipython3",
   "version": "3.5.4"
  }
 },
 "nbformat": 4,
 "nbformat_minor": 2
}
