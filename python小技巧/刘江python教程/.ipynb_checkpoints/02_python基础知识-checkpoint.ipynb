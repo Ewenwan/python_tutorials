{
 "cells": [
  {
   "cell_type": "code",
   "execution_count": 1,
   "metadata": {
    "collapsed": true
   },
   "outputs": [],
   "source": [
    "# 标识符：对变量、常量、函数、类等对象起的名字\n",
    "\n",
    "## Python语言在任何场景都严格区分大小写！\n",
    "## Python对于标识符的命名有如下规定：\n",
    "    ## 第一个字符必须是字母表中的字母或下划线‘_’\n",
    "    ## 以下划线开头的标识符通常都有特殊意义\n",
    "        ## 以单下划线开头的变量，例如_foo代表禁止外部访问的类成员，需通过类提供的接口进行访问，不能用\"from xxx import *\"导入\n",
    "        ## 以双下划线开头的，例如__foo，代表类的私有成员\n",
    "        ## 以双下划线开头和结尾的（__foo__）是python里特殊方法专用的标识，如__init__（）代表类的构造函数\n",
    "    ## 标识符的其他部分由字母、数字和下划线组成（要注意的是，由于l(小写的L）和数字1， 大小写的o与数字0在外观上的相似性，请尽量不要让它们相邻出现，保持语义的清晰性）\n",
    "    ## 标识符对大小写敏感\n",
    "    ## 变量名全部小写，常量名全部大写\n",
    "    ## 函数和方法名用小写加下划线\n",
    "    ## 类名用大写驼峰，大写驼峰指的是每个单词的首字母大写，组合在一起就像驼峰一样高低高低的排列\n",
    "    ## 模块和包的名字用小写\n",
    "    ## 变量的命名不要用关键字和内置函数的名字"
   ]
  },
  {
   "cell_type": "code",
   "execution_count": 5,
   "metadata": {},
   "outputs": [
    {
     "data": {
      "text/plain": [
       "['False',\n",
       " 'None',\n",
       " 'True',\n",
       " 'and',\n",
       " 'as',\n",
       " 'assert',\n",
       " 'break',\n",
       " 'class',\n",
       " 'continue',\n",
       " 'def',\n",
       " 'del',\n",
       " 'elif',\n",
       " 'else',\n",
       " 'except',\n",
       " 'finally',\n",
       " 'for',\n",
       " 'from',\n",
       " 'global',\n",
       " 'if',\n",
       " 'import',\n",
       " 'in',\n",
       " 'is',\n",
       " 'lambda',\n",
       " 'nonlocal',\n",
       " 'not',\n",
       " 'or',\n",
       " 'pass',\n",
       " 'raise',\n",
       " 'return',\n",
       " 'try',\n",
       " 'while',\n",
       " 'with',\n",
       " 'yield']"
      ]
     },
     "execution_count": 5,
     "metadata": {},
     "output_type": "execute_result"
    }
   ],
   "source": [
    "## Python保留字\n",
    "\n",
    "## Python保留字，也叫关键字，是Python语言官方确定的用作语法功能的专用标识符，不能把它们用作任何自定义标识符名称。关键字只包含小写字母。\n",
    "import keyword\n",
    "\n",
    "keyword.kwlist"
   ]
  },
  {
   "cell_type": "code",
   "execution_count": 6,
   "metadata": {
    "collapsed": true
   },
   "outputs": [],
   "source": [
    "# 注释\n",
    "\n",
    "## 单行注释:Python中，以符号“#”为单行注释的开始，从它往后到本行的末尾，都是注释内容。\n",
    "## 多行注释: '''  注释部分'''\n",
    "## 注释文档：在某些特定的位置，用三引号包括起来的部分，也被当做注释，函数和类的说明文档：需要强调的是这类注释必须紧跟在定义体下面，不能在任意位置。"
   ]
  },
  {
   "cell_type": "code",
   "execution_count": null,
   "metadata": {
    "collapsed": true
   },
   "outputs": [],
   "source": [
    "# 代码头两行\n",
    "\n",
    "'''\n",
    "#!/usr/bin/env python3   用于指定运行该脚本的Python解释器，Linux专用，windows不需要\n",
    "# -*- coding:utf-8 -*-   代码的编码方式。不是程序要处理的数据的编码方式，而是程序自己本身的字符编码。\n",
    "'''"
   ]
  },
  {
   "cell_type": "code",
   "execution_count": 7,
   "metadata": {
    "collapsed": true
   },
   "outputs": [],
   "source": [
    "# 语句与缩进\n",
    "\n",
    "## 语句：在代码中，能够完整表达某个意思、操作或者逻辑的最短代码，被称为语句。语句通常不超过一行，超过一行的称为多行语句。\n",
    "## Python的标准语句不需要使用分号或逗号来表示语句结束，简简单单的换个行就表示本语句已经结束，下一句开始。\n",
    "## 代码块：为完成某一特定功能而联系在一起的一组语句构成一个代码块。有判断、循环、函数、类等各种代码块。代码块的首行通常以关键字开始，以冒号( : )结束\n",
    "## Python最具特色的语法就是使用缩进来表示代码块，不需要使用大括号({})"
   ]
  },
  {
   "cell_type": "code",
   "execution_count": 8,
   "metadata": {
    "collapsed": true
   },
   "outputs": [],
   "source": [
    "# pass语句\n",
    "\n",
    "## pass语句是占位语句，它什么都不做，只是为了保证语法的正确性而写\n",
    "## 当你不知道后面的代码怎么写的时候\n",
    "## 当你不需要写代码细节的时候\n",
    "## 当语法必须，又没有实际内容可写的时候\n",
    "## 其它的一些你觉得需要的场景\n",
    "if __name__ == '__main__':\n",
    "    pass"
   ]
  },
  {
   "cell_type": "code",
   "execution_count": 18,
   "metadata": {},
   "outputs": [
    {
     "name": "stdout",
     "output_type": "stream",
     "text": [
      "\\n\n",
      "this is a line with \\n.\n",
      "this is an unicode string.\n",
      "b'this is an unicode string.'\n"
     ]
    }
   ],
   "source": [
    "# 字符串的表示形式\n",
    "\n",
    "## python中单引号和双引号的作用完全相同。但是注意：在其它语言中双引号引起来的才是字符串，单引号引起来的是字符！\n",
    "## 使用三引号('''或\"\"\")可以指定一个多行字符串。\n",
    "## 转义符 ‘\\‘，用来特殊转义，例如\\r\\n,\\\\。它可以将引号转义为单纯的引号，没有任何作用的引号\n",
    "## 原生字符串： 通过在字符串前加r或R，如 r\"this is a line with \\n\"，表示这个字符串里的斜杠不需要转义，等同于自身。因此，例子中的\\n会显示出来，并不是换行。\n",
    "## unicode字符串：加前缀u或U， 如 u\"this is an unicode string\"。\n",
    "## bytes类型：加前缀b，如b”this is a bytes data”。但是s=b“哈哈”，这种是不行的！\n",
    "## 字符串是不可变类型\n",
    "## 字符串会自动串联，如“i\" “love\" “you\"会被自动转换为”I love you”。\n",
    "\n",
    "print('\\\\n')\n",
    "print(r'this is a line with \\n.')\n",
    "print(u'this is an unicode string.')\n",
    "print(b'this is an unicode string.')"
   ]
  },
  {
   "cell_type": "code",
   "execution_count": 19,
   "metadata": {
    "collapsed": true
   },
   "outputs": [],
   "source": [
    "#  如何阅读错误调用栈的信息？\n",
    "\n",
    "## 耐心的一行行地查看错误调用栈，再根据最后的错误类型，就可以判断错误的发生原因并修改错误，没有想象中的那么复杂"
   ]
  },
  {
   "cell_type": "code",
   "execution_count": 24,
   "metadata": {},
   "outputs": [
    {
     "name": "stdout",
     "output_type": "stream",
     "text": [
      "Jack\n",
      "Tom\n"
     ]
    }
   ],
   "source": [
    "# 变量与常量\n",
    "\n",
    "## 变量：在程序运行过程中，值会发生变化的量\n",
    "## 常量：在程序运行过程中，值不会发生变化的量\n",
    "## 无论是变量还是常量，在创建时都会在内存中开辟一块空间，用于保存它的值。\n",
    "## Python 中的变量不需要声明类型\n",
    "a = 4\n",
    "b = 'haha'\n",
    "c = []\n",
    "d = 4.56\n",
    "## 用“=”号来给变量赋值\n",
    "## 每个变量在使用前都必须赋值，变量赋值以后才会被创建\n",
    "## 新的变量通过赋值的动作，创建并开辟内存空间，保存值。如果没有赋值而直接使用会抛出赋值前引用的异常或者未命名异常\n",
    "# aa\n",
    "## Python中，一切事物都是对象，变量引用的是对象或者说是对象在内存中的地址。\n",
    "## 在Python中，变量本身没有数据类型的概念，通常所说的“变量类型”是变量所引用的对象的类型。\n",
    "## =”号这个赋值运算符是从右往左的计算顺序\n",
    "## Python允许同时为多个变量赋值\n",
    "a = b = c =1\n",
    "## 也可以同时为多个变量赋值，用逗号分隔，逐一对应。\n",
    "a, b, c = 1, 2, 3\n",
    "## 理解变量在计算机内存中的表示也非常重要，a = 'ABC'时，Python解释器干了两件事情：\n",
    "    ## 1.在内存中创建了一个‘ABC’的字符串对象；\n",
    "    ## 2.在内存中创建了一个名为a的变量，并把它指向'ABC'。\n",
    "## 把一个变量a赋值给另一个变量b，这个操作实际上是将变量b指向变量a所指向的数据\n",
    "# Python中的一切都是对象，变量是对象的引用！：\n",
    "    ## 执行a = ‘Jack’，解释器创建字符串‘Jack’对象和变量a，并把a指向‘Jack’对象；\n",
    "    ## 执行b = a,解释器创建变量b，并且将其指向变量a指向的字符串‘Jack’对象；\n",
    "    ## 执行a = ‘Tom’,解释器创建字符串‘Tom’对象，并把a改为指向‘Tom’对象，与b无关。\n",
    "a = 'Jack'\n",
    "b = a\n",
    "a = 'Tom'\n",
    "print(b)\n",
    "print(a)\n",
    "## 常量就是不变的变量，比如常用的数学常数圆周率就是一个常量。在Python中，通常用全部大写的变量名表示常量\n",
    "## 常量通常放置在代码的最上部，并作为全局使用。"
   ]
  },
  {
   "cell_type": "code",
   "execution_count": 38,
   "metadata": {},
   "outputs": [
    {
     "name": "stdout",
     "output_type": "stream",
     "text": [
      "3\n",
      "1\n",
      "(3, 1)\n",
      "True\n",
      "False\n",
      "140137025608384\n",
      "140137025608416\n",
      "140137025608416\n"
     ]
    }
   ],
   "source": [
    "# 运算符\n",
    "\n",
    "'''\n",
    "算术运算符\n",
    "比较（关系）运算符\n",
    "赋值运算符\n",
    "逻辑运算符\n",
    "位运算符\n",
    "成员运算符\n",
    "身份运算符\n",
    "三目运算符\n",
    "'''\n",
    "## 算术运算符\n",
    "10 / 3 # /除法计算结果是浮点数，即使是两个整数恰好整除，结果也是浮点数\n",
    "10 / 2\n",
    "print(10 // 3)  # 还有一种除法是//，也称为地板除，只取整数部分，余数被抛弃\n",
    "print(10 % 3)  # Python还提供一个余数运算，可以得到两个整数相除的余数\n",
    "print(divmod(10, 3))  # 如果想同时得到商和余数，可以用这个方法\n",
    "## 比较（关系）运算符----见图\n",
    "## 复制运算符\n",
    "'''a /= b 等价 a = a / b'''\n",
    "## 位运算符\n",
    "'''& | ^ ~ << >>'''\n",
    "## 逻辑运算符\n",
    "''' and or not '''\n",
    "## 成员运算符\n",
    "# in 与 not in是Python独有的运算符（全部都是小写字母），用于判断对象是否某个集合的元素之一，返回的结果是布尔值类型的True或者False\n",
    "\n",
    "## 身份运算符\n",
    "# is  is not,is用于判断两个变量引用的是否为同一个对象，而==用于判断变量引用的对象的值是否相等！\n",
    "a = [1, 2, 3]\n",
    "b = a\n",
    "print(b is a)\n",
    "b = a[:]  # list的复制，是a的副本，不是视图\n",
    "print(b is a)\n",
    "b == a\n",
    "# 介绍一个常用的内置函数：id()，用它可以查看某个变量或者对象的内存地址，两个相同内存地址的对象被认为是同一个对象\n",
    "# type是Python内置的函数之一，非常有用，用于查看对象的数据类型。\n",
    "a = 1\n",
    "b = 2\n",
    "print(id(a))\n",
    "print(id(b))\n",
    "c = 2\n",
    "print(id(c))\n",
    "\n",
    "## 三目运算符\n",
    "'''为真时的结果 if 判定条件 else 为假时的结果'''\n"
   ]
  },
  {
   "cell_type": "code",
   "execution_count": 59,
   "metadata": {},
   "outputs": [
    {
     "name": "stdout",
     "output_type": "stream",
     "text": [
      "please enter your age: 5\n",
      "5\n",
      "<class 'str'>\n",
      "please enter your name: 5\n",
      "5\n",
      "please enter your age: 5\n",
      "child\n",
      "输入你的姓名:  5\n",
      "5\n",
      "123\n",
      "你的年龄: 5\n",
      "age= 5\n",
      "程序前面部分执行完毕......\n",
      "请按回车继续......5\n",
      "继续执行程序的后面部分......\n",
      "i am a student\n",
      "i ambstudent\n",
      "i am*a*student\n",
      "i am jack\n",
      "percent 99.98\n",
      "i am 123.43 %\n"
     ]
    }
   ],
   "source": [
    "# 输入和输出\n",
    "\n",
    "## input输入函数\n",
    "## input函数：获取用户输入，保存成一个字符串，input函数的返回值是一个字符串类型。哪怕你输入的是个数字1，返回给你的只会是字符串“1”，而不是整数1。\n",
    "age = input('please enter your age: ')\n",
    "print(age)\n",
    "print(type(age))\n",
    "## 对空输入进行处理:\n",
    "name = input('please enter your name: ')\n",
    "print(name)\n",
    "if name == '':\n",
    "    name = input('请重新输入: ')\n",
    "## 将字符串转换成数字类型:\n",
    "age = input('please enter your age: ')\n",
    "age = int(age)\n",
    "if age > 18:\n",
    "    print('adult')\n",
    "else:\n",
    "    print('child')\n",
    "## 去除开头的空白lstrip,去除结尾的空白rstrip以及去除两端的空白strip\n",
    "name = input('输入你的姓名:  ')\n",
    "name = name.strip()\n",
    "print(name)\n",
    "## 判断输入的字符类型\n",
    "s = '123'\n",
    "s = int(s)\n",
    "print(s)\n",
    "# s = 'haha'\n",
    "# s = int(s)\n",
    "# print(s)\n",
    "## 对于形如“123”的字符串，转化没问题，但是对于包含字符、特殊字符的字符串haha就没办法转化了，会弹出异常错误。所以在使用int函数之前，要先对输入进行判断。\n",
    "age = input('你的年龄: ')\n",
    "if age.isdigit():\n",
    "    age = int(age)\n",
    "    print('age=', age)\n",
    "else:\n",
    "    print('输入错误')\n",
    "## input函数有时可以巧妙地用于阻塞或暂停程序\n",
    "print(\"程序前面部分执行完毕......\")\n",
    "input(\"请按回车继续......\")       # 在这里程序会暂停，等待你的回车动作\n",
    "print(\"继续执行程序的后面部分......\")\n",
    "\n",
    "\n",
    "## print输出函数\n",
    "# print可以接受多个字符串，字符串类型的变量或者可print的对象。每个字符串用逗号“,”隔开，连成一串输出。print会依次打印每个字符串，同时，每遇到一个逗号“,”就输出一个空格\n",
    "a = 'i am'\n",
    "b = 'student'\n",
    "print(a, \"a\", b)\n",
    "print(a+\"b\"+b)\n",
    "# print函数的原型：print(self, *args, sep=' ', end='\\n', file=None)\n",
    "    ## sep参数: 分隔的符号，默认是一个空格；\n",
    "    ## end参数: 打印后的结束方式，默认为换行符\\n。如果，设置end=''，则可以不换行，让print在一行内连续打印。\n",
    "print(a, \"a\", b, sep='*')    \n",
    "    \n",
    "## print格式化输出\n",
    "s = \"i am %s\" % \"jack\"\n",
    "print(s)\n",
    "s = \"percent %.2f\" % 99.97623\n",
    "print(s)\n",
    "s = \"i am %.2f %%\" % 123.425556 # 在print中打印一个%百分符号本身，那么你需要使用%%，两个百分符转义出一个百分符，也就是print(\"%%\")\n",
    "print(s)    "
   ]
  },
  {
   "cell_type": "markdown",
   "metadata": {},
   "source": [
    "##### "
   ]
  }
 ],
 "metadata": {
  "kernelspec": {
   "display_name": "Python 3",
   "language": "python",
   "name": "python3"
  },
  "language_info": {
   "codemirror_mode": {
    "name": "ipython",
    "version": 3
   },
   "file_extension": ".py",
   "mimetype": "text/x-python",
   "name": "python",
   "nbconvert_exporter": "python",
   "pygments_lexer": "ipython3",
   "version": "3.5.4"
  }
 },
 "nbformat": 4,
 "nbformat_minor": 2
}
