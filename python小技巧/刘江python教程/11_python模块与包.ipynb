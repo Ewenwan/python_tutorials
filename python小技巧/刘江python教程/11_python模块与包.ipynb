{
 "cells": [
  {
   "cell_type": "code",
   "execution_count": 3,
   "metadata": {},
   "outputs": [
    {
     "name": "stdout",
     "output_type": "stream",
     "text": [
      "['', '/home/cdl/tutorial_ws/devel/lib/python3/dist-packages', '/opt/ros/kinetic/lib/python2.7/dist-packages', '/home/cdl/.conda/envs/py35/lib/python35.zip', '/home/cdl/.conda/envs/py35/lib/python3.5', '/home/cdl/.conda/envs/py35/lib/python3.5/plat-linux', '/home/cdl/.conda/envs/py35/lib/python3.5/lib-dynload', '/home/cdl/.conda/envs/py35/lib/python3.5/site-packages', '/home/cdl/.conda/envs/py35/lib/python3.5/site-packages/torchvision-0.2.1-py3.5.egg', '/home/cdl/.conda/envs/py35/lib/python3.5/site-packages/IPython/extensions', '/home/cdl/.ipython']\n"
     ]
    },
    {
     "data": {
      "text/plain": [
       "\"\\nimport sys\\nimport os\\n\\nnew_path = os.path.abspath('../')\\nsys.path.append(new_path)\\n\""
      ]
     },
     "execution_count": 3,
     "metadata": {},
     "output_type": "execute_result"
    }
   ],
   "source": [
    "# 在Python中，一个.py文件就是一个模块，模块是比类更高一级的封装\n",
    "    ## 模块可以分为自定义模块、内置模块和第三方模块。\n",
    "    \n",
    "# 为了避免模块名冲突，Python又引入了按目录来组织模块的方法，称为包（Package），包是模块的集合，比模块又高一级的封装\n",
    "    ## 没有比包更高级别的封装，但是包可以嵌套包，就像文件目录一样\n",
    "    ## 包名通常为全部小写，避免使用下划线\n",
    "    \n",
    "# 在Python中，模块（包、类、函数）的导入方式有以下四种:\n",
    "    ## import xx.xx\n",
    "    ## from xx.xx import xx\n",
    "    ## from xx.xx import xx as rename\n",
    "    ## from xx.xx import *\n",
    "# 对于xx.xx的说明：最顶层的包名.次一级包名.（所有级别的包名）.模块名.类名.函数名\n",
    "\n",
    "# 有时候，模块名就在搜索路径根目录下，那么可以直接import 模块名，比如Python内置的一些标准模块，os、sys、time等\n",
    "\n",
    "# 1. import xx.xx\n",
    "## 如果该对象是个模块，那么调用对象内的类、函数或变量时，需要以module.xxx的方式\n",
    "# 2. from xx.xx import xx.xx\n",
    "## 从某个对象内导入某个指定的部分到当前命名空间中，不会将整个对象导入。这种方式可以节省写长串导入路径的代码，但要小心名字冲突\n",
    "# 3.from xx.xx import xx as rename\n",
    "## 为了避免命名冲突，在导入的时候，可以给导入的对象重命名\n",
    "# 4.from xx.xx import *\n",
    "## 将对象内的所有内容全部导入。非常容易发生命名冲突，请慎用！\n",
    "'''以上实例见python_package文件夹'''\n",
    "\n",
    "# 模块搜索路径\n",
    "\n",
    "## Python根据sys.path的设置，按顺序搜索模块\n",
    "import sys\n",
    "print(sys.path)\n",
    "## 通过sys.path.append('路径')的方法为sys.path路径列表添加你想要的路径。\n",
    "'''\n",
    "import sys\n",
    "import os\n",
    "\n",
    "new_path = os.path.abspath('../')\n",
    "sys.path.append(new_path)\n",
    "'''\n",
    "## 默认情况下，模块的搜索顺序是这样的：\n",
    "    ### 当前执行脚本所在目录\n",
    "    ### Python的安装目录即lib目录下\n",
    "    ### Python安装目录里的site-packages目录\n",
    "## 其实就是“自定义”——>“内置”——>“第三方”模块的查找顺序。任何一步查找到了，就会忽略后面的路径\n",
    "\n",
    "## 实例讲解\n",
    "### 在自定义模块的时候，对模块的命名一定要注意，不要和官方标准模块以及一些比较有名的第三方模块重名!!!\n",
    "'''错误案例见python_package文件夹'''\n"
   ]
  },
  {
   "cell_type": "code",
   "execution_count": 4,
   "metadata": {},
   "outputs": [
    {
     "data": {
      "text/plain": [
       "'实例见python_package/p1、p2目录'"
      ]
     },
     "execution_count": 4,
     "metadata": {},
     "output_type": "execute_result"
    }
   ],
   "source": [
    "# 包（Package）\n",
    "\n",
    "## 包是一种管理模块的手段，采用“包名.子包名.....模块名”的调用形式，非常类似文件系统中的文件目录。但是包不等于文件目录！\n",
    "## 只有包含__init__.py文件的目录才会被认作是一个包！\n",
    "## __init__.py可以是空文件，也可以有Python代码，__init__.py本身就是一个模块\n",
    "## 但是要注意，它的模块名是它所在的包名而不是__init__\n",
    "'''实例见python_package/p1、p2目录'''\n",
    "## 如果包定义文件__init__.py中存在一个叫做__all__的列表变量，那么在使用from package import *的时候就把这个列表中的所有名字作为要导入的模块名。\n",
    "# 例如在example/p1/__init__.py中包含如下代码: __all__ = [\"x\"]\n",
    "    ## 这表示当你使用from example.p1 import *这种用法时，你只会导入包里面的x子模块。\n"
   ]
  },
  {
   "cell_type": "code",
   "execution_count": null,
   "metadata": {
    "collapsed": true
   },
   "outputs": [],
   "source": []
  }
 ],
 "metadata": {
  "kernelspec": {
   "display_name": "Python 3",
   "language": "python",
   "name": "python3"
  },
  "language_info": {
   "codemirror_mode": {
    "name": "ipython",
    "version": 3
   },
   "file_extension": ".py",
   "mimetype": "text/x-python",
   "name": "python",
   "nbconvert_exporter": "python",
   "pygments_lexer": "ipython3",
   "version": "3.5.4"
  }
 },
 "nbformat": 4,
 "nbformat_minor": 2
}
